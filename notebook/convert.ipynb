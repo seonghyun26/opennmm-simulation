{
 "cells": [
  {
   "cell_type": "code",
   "execution_count": 6,
   "metadata": {},
   "outputs": [],
   "source": [
    "import json\n",
    "import time\n",
    "import pprint\n",
    "import mdtraj\n",
    "import random\n",
    "import pandas\n",
    "import nglview\n",
    "import argparse\n",
    "import numpy as np\n",
    "import matplotlib.pyplot as plt\n",
    "\n",
    "from openmm import *\n",
    "from tqdm.auto import tqdm\n",
    "from matplotlib import animation \n",
    "from openmm.app import *\n",
    "from openmm.unit import *\n",
    "from matplotlib.colors import LogNorm\n",
    "from mpl_toolkits.mplot3d import Axes3D"
   ]
  },
  {
   "cell_type": "code",
   "execution_count": 8,
   "metadata": {},
   "outputs": [],
   "source": [
    "molecule = \"alanine\"\n",
    "temperature = \"300.0\"\n",
    "state = \"c5\""
   ]
  },
  {
   "cell_type": "code",
   "execution_count": 10,
   "metadata": {},
   "outputs": [
    {
     "name": "stdout",
     "output_type": "stream",
     "text": [
      "Loading trajectory...\n"
     ]
    }
   ],
   "source": [
    "print(\"Loading trajectory...\")\n",
    "result_dir = f\"../log/{molecule}/{temperature}/{state}\"\n",
    "pdb_file = f\"../data/{molecule}/{state}.pdb\"\n",
    "loaded_traj = mdtraj.load(\n",
    "    f\"{result_dir}/traj.dcd\",\n",
    "    top=pdb_file\n",
    ")\n",
    "print(\"Done.!!\")"
   ]
  },
  {
   "cell_type": "code",
   "execution_count": 11,
   "metadata": {},
   "outputs": [
    {
     "data": {
      "application/vnd.jupyter.widget-view+json": {
       "model_id": "fa48fbb537b4439191ddf36049d4bad6",
       "version_major": 2,
       "version_minor": 0
      },
      "text/plain": [
       "NGLWidget(max_frame=99999999)"
      ]
     },
     "metadata": {},
     "output_type": "display_data"
    }
   ],
   "source": [
    "nglview.show_mdtraj(loaded_traj)"
   ]
  },
  {
   "cell_type": "code",
   "execution_count": 18,
   "metadata": {},
   "outputs": [
    {
     "data": {
      "text/plain": [
       "array([1.9251467 , 0.33686376, 2.0095022 , 1.8852602 , 0.30506766,\n",
       "       2.10583   , 1.9668578 , 0.28511086, 2.1752892 , 1.8254464 ,\n",
       "       0.21490505, 2.09264   , 1.7976315 , 0.4145095 , 2.1622887 ,\n",
       "       1.6811711 , 0.39091924, 2.1916711 , 1.8539908 , 0.53419954,\n",
       "       2.1766272 , 1.9493366 , 0.54697126, 2.1458533 , 1.7846247 ,\n",
       "       0.6535812 , 2.225099  , 1.6778389 , 0.6428118 , 2.2060776 ,\n",
       "       1.805755  , 0.66493624, 2.376821  , 1.7542562 , 0.7530244 ,\n",
       "       2.4151533 , 1.9121256 , 0.6734833 , 2.3990304 , 1.7656511 ,\n",
       "       0.5765028 , 2.4263413 , 1.8330296 , 0.77973044, 2.151028  ,\n",
       "       1.9446181 , 0.7826524 , 2.0991845 , 1.7491263 , 0.8840896 ,\n",
       "       2.1472478 , 1.6595843 , 0.87434274, 2.1929452 , 1.7782176 ,\n",
       "       1.010298  , 2.0793736 , 1.6877451 , 1.0705229 , 2.071085  ,\n",
       "       1.8537565 , 1.0658406 , 2.1349602 , 1.8166485 , 0.99014705,\n",
       "       1.9793837 ], dtype=float32)"
      ]
     },
     "execution_count": 18,
     "metadata": {},
     "output_type": "execute_result"
    }
   ],
   "source": [
    "loaded_traj[0].xyz.reshape(-1)"
   ]
  },
  {
   "cell_type": "code",
   "execution_count": 14,
   "metadata": {},
   "outputs": [
    {
     "data": {
      "text/plain": [
       "array([[[1.9251467 , 0.33686376, 2.0095022 ],\n",
       "        [1.8852602 , 0.30506766, 2.10583   ],\n",
       "        [1.9668578 , 0.28511086, 2.1752892 ],\n",
       "        [1.8254464 , 0.21490505, 2.09264   ],\n",
       "        [1.7976315 , 0.4145095 , 2.1622887 ],\n",
       "        [1.6811711 , 0.39091924, 2.1916711 ],\n",
       "        [1.8539908 , 0.53419954, 2.1766272 ],\n",
       "        [1.9493366 , 0.54697126, 2.1458533 ],\n",
       "        [1.7846247 , 0.6535812 , 2.225099  ],\n",
       "        [1.6778389 , 0.6428118 , 2.2060776 ],\n",
       "        [1.805755  , 0.66493624, 2.376821  ],\n",
       "        [1.7542562 , 0.7530244 , 2.4151533 ],\n",
       "        [1.9121256 , 0.6734833 , 2.3990304 ],\n",
       "        [1.7656511 , 0.5765028 , 2.4263413 ],\n",
       "        [1.8330296 , 0.77973044, 2.151028  ],\n",
       "        [1.9446181 , 0.7826524 , 2.0991845 ],\n",
       "        [1.7491263 , 0.8840896 , 2.1472478 ],\n",
       "        [1.6595843 , 0.87434274, 2.1929452 ],\n",
       "        [1.7782176 , 1.010298  , 2.0793736 ],\n",
       "        [1.6877451 , 1.0705229 , 2.071085  ],\n",
       "        [1.8537565 , 1.0658406 , 2.1349602 ],\n",
       "        [1.8166485 , 0.99014705, 1.9793837 ]]], dtype=float32)"
      ]
     },
     "execution_count": 14,
     "metadata": {},
     "output_type": "execute_result"
    }
   ],
   "source": [
    "time_horizon = 10\n",
    "for i in range(time_horizon):\n",
    "\tcurrent_state = loaded_traj[i].xyz.reshape(-1)\n",
    "\tnext_state = loaded_traj[i+1].xyz.reshape(-1)"
   ]
  },
  {
   "cell_type": "code",
   "execution_count": null,
   "metadata": {},
   "outputs": [],
   "source": []
  }
 ],
 "metadata": {
  "kernelspec": {
   "display_name": "sim",
   "language": "python",
   "name": "python3"
  },
  "language_info": {
   "codemirror_mode": {
    "name": "ipython",
    "version": 3
   },
   "file_extension": ".py",
   "mimetype": "text/x-python",
   "name": "python",
   "nbconvert_exporter": "python",
   "pygments_lexer": "ipython3",
   "version": "3.9.19"
  }
 },
 "nbformat": 4,
 "nbformat_minor": 2
}
