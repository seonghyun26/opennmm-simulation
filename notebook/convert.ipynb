{
 "cells": [
  {
   "cell_type": "code",
   "execution_count": 2,
   "metadata": {},
   "outputs": [
    {
     "data": {
      "application/vnd.jupyter.widget-view+json": {
       "model_id": "2e1a7e6cb50442bc9e11a028a2f43739",
       "version_major": 2,
       "version_minor": 0
      },
      "text/plain": []
     },
     "metadata": {},
     "output_type": "display_data"
    }
   ],
   "source": [
    "import json\n",
    "import time\n",
    "import torch\n",
    "import pprint\n",
    "import mdtraj\n",
    "import random\n",
    "import pandas\n",
    "import nglview\n",
    "import argparse\n",
    "import numpy as np\n",
    "import matplotlib.pyplot as plt\n",
    "\n",
    "from openmm import *\n",
    "from tqdm.auto import tqdm\n",
    "from matplotlib import animation \n",
    "from openmm.app import *\n",
    "from openmm.unit import *\n",
    "from matplotlib.colors import LogNorm\n",
    "from mpl_toolkits.mplot3d import Axes3D\n",
    "from torch.utils.data import Dataset\n"
   ]
  },
  {
   "cell_type": "code",
   "execution_count": 3,
   "metadata": {},
   "outputs": [],
   "source": [
    "molecule = \"alanine\"\n",
    "temperature = \"300.0\"\n",
    "state = \"c5\""
   ]
  },
  {
   "cell_type": "code",
   "execution_count": 4,
   "metadata": {},
   "outputs": [
    {
     "name": "stdout",
     "output_type": "stream",
     "text": [
      "Loading trajectory...\n",
      "Done.!!\n"
     ]
    },
    {
     "data": {
      "application/vnd.jupyter.widget-view+json": {
       "model_id": "f6a3576be569483e910eecdb2d616ace",
       "version_major": 2,
       "version_minor": 0
      },
      "text/plain": [
       "NGLWidget(max_frame=99999999)"
      ]
     },
     "metadata": {},
     "output_type": "display_data"
    }
   ],
   "source": [
    "print(\"Loading trajectory...\")\n",
    "result_dir = f\"../log/{molecule}/{temperature}/{state}\"\n",
    "pdb_file = f\"../data/{molecule}/{state}.pdb\"\n",
    "loaded_traj = mdtraj.load(\n",
    "    f\"{result_dir}/traj.dcd\",\n",
    "    top=pdb_file\n",
    ")\n",
    "print(\"Done.!!\")\n",
    "nglview.show_mdtraj(loaded_traj)"
   ]
  },
  {
   "cell_type": "code",
   "execution_count": 5,
   "metadata": {},
   "outputs": [
    {
     "name": "stdout",
     "output_type": "stream",
     "text": [
      ">> Loaded config\n",
      "{'config': 'config/alanine/debug.json',\n",
      " 'force_field': 'amber99',\n",
      " 'freq_csv': 1000,\n",
      " 'freq_dcd': 1,\n",
      " 'freq_stdout': 10000,\n",
      " 'molecule': 'alanine',\n",
      " 'platform': 'OpenCL',\n",
      " 'precision': 'mixed',\n",
      " 'solvent': 'tip3p',\n",
      " 'state': 'c5',\n",
      " 'temperature': 300.0,\n",
      " 'time': 100000000}\n"
     ]
    }
   ],
   "source": [
    "arg_file = f\"{result_dir}/args.json\"\n",
    "\n",
    "with open(arg_file, 'r') as f:\n",
    "\tconfig = json.load(f)\n",
    "\tprint(\">> Loaded config\")\n",
    "\tpprint.pprint(config)"
   ]
  },
  {
   "cell_type": "code",
   "execution_count": 30,
   "metadata": {},
   "outputs": [],
   "source": [
    "class MD_Dataset(Dataset):\n",
    "    def __init__(self, traj, config):\n",
    "        self.molecule = config['molecule']\n",
    "        self.state = config['state']\n",
    "        self.temperature = config['temperature']\n",
    "        self.time = config['time']\n",
    "        self.force_field = config['force_field']\n",
    "        self.solvent = config['solvent']\n",
    "        self.platform = config['platform']\n",
    "        self.precision = config['precision']\n",
    "        \n",
    "        data_x_list = []\n",
    "        data_y_list = []\n",
    "        for t in tqdm(\n",
    "            # range(self.time -1),\n",
    "            range(100 - 1),\n",
    "            desc=\"Loading data\"\n",
    "        ):\n",
    "            current_state = torch.tensor(loaded_traj[t].xyz.squeeze())\n",
    "            next_state = torch.tensor(loaded_traj[t+1].xyz.squeeze())\n",
    "            data_x_list.append(current_state)\n",
    "            data_y_list.append(next_state)\n",
    "        self.x = torch.stack(data_x_list)\n",
    "        self.y = torch.stack(data_y_list)\n",
    "        \n",
    "        self.sanity_check(loaded_traj)\n",
    "    \n",
    "    def sanity_check(self, loaded_traj):\n",
    "        print(\"Running sanity check...\")\n",
    "        print(f\">> x size: {self.x.shape}\")\n",
    "        print(f\">> y size: {self.y.shape}\")\n",
    "        for t in tqdm(\n",
    "            # range(self.time -1),\n",
    "            range(100 - 1),\n",
    "            desc=\"Sanity check\"\n",
    "        ):\n",
    "            x = self.x[t]\n",
    "            y = self.y[t]\n",
    "            x_frame = torch.tensor(loaded_traj[t].xyz.squeeze())\n",
    "            y_frame = torch.tensor(loaded_traj[t+1].xyz.squeeze())\n",
    "            \n",
    "            assert torch.equal(x, x_frame), f\"Frame {t}, x not equal\"\n",
    "            assert torch.equal(y, y_frame), f\"Frame {t+1}, y not equal\"        \n",
    "\n",
    "    def __getitem__(self, index):\n",
    "\t    return self.x[index], self.y[index]\n",
    " \n",
    "    def __len__(self):\n",
    "\t    return self.x.shape[0]"
   ]
  },
  {
   "cell_type": "code",
   "execution_count": 31,
   "metadata": {},
   "outputs": [
    {
     "data": {
      "application/vnd.jupyter.widget-view+json": {
       "model_id": "5563f1b2f7c04f6c92e4c0774df15bb1",
       "version_major": 2,
       "version_minor": 0
      },
      "text/plain": [
       "Loading data:   0%|          | 0/99 [00:00<?, ?it/s]"
      ]
     },
     "metadata": {},
     "output_type": "display_data"
    },
    {
     "name": "stdout",
     "output_type": "stream",
     "text": [
      "Running sanity check...\n",
      ">> x size: torch.Size([99, 22, 3])\n",
      ">> y size: torch.Size([99, 22, 3])\n"
     ]
    },
    {
     "data": {
      "application/vnd.jupyter.widget-view+json": {
       "model_id": "57ca2ea309f148299d722e6071ac0b89",
       "version_major": 2,
       "version_minor": 0
      },
      "text/plain": [
       "Sanity check:   0%|          | 0/99 [00:00<?, ?it/s]"
      ]
     },
     "metadata": {},
     "output_type": "display_data"
    }
   ],
   "source": [
    "dataset = MD_Dataset(loaded_traj, config)\n"
   ]
  },
  {
   "cell_type": "code",
   "execution_count": null,
   "metadata": {},
   "outputs": [],
   "source": []
  }
 ],
 "metadata": {
  "kernelspec": {
   "display_name": "sim",
   "language": "python",
   "name": "python3"
  },
  "language_info": {
   "codemirror_mode": {
    "name": "ipython",
    "version": 3
   },
   "file_extension": ".py",
   "mimetype": "text/x-python",
   "name": "python",
   "nbconvert_exporter": "python",
   "pygments_lexer": "ipython3",
   "version": "3.9.19"
  }
 },
 "nbformat": 4,
 "nbformat_minor": 2
}
