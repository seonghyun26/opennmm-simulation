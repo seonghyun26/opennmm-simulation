{
 "cells": [
  {
   "cell_type": "markdown",
   "metadata": {},
   "source": [
    "# Configs"
   ]
  },
  {
   "cell_type": "code",
   "execution_count": 6,
   "metadata": {},
   "outputs": [
    {
     "data": {
      "application/vnd.jupyter.widget-view+json": {
       "model_id": "017f227c72ed41f9a8f1bf3633abe41e",
       "version_major": 2,
       "version_minor": 0
      },
      "text/plain": []
     },
     "metadata": {},
     "output_type": "display_data"
    }
   ],
   "source": [
    "import json\n",
    "import time\n",
    "import torch\n",
    "import pprint\n",
    "import mdtraj\n",
    "import random\n",
    "import pandas\n",
    "import nglview\n",
    "import numpy as np\n",
    "import matplotlib.pyplot as plt\n",
    "\n",
    "from openmm import *\n",
    "from tqdm.auto import tqdm\n",
    "from matplotlib import animation \n",
    "from openmm.app import *\n",
    "from openmm.unit import *\n",
    "from matplotlib.colors import LogNorm\n",
    "from mpl_toolkits.mplot3d import Axes3D\n",
    "\n",
    "import jax.numpy as jnp\n",
    "from jax import grad, value_and_grad, vmap\n"
   ]
  },
  {
   "cell_type": "code",
   "execution_count": 7,
   "metadata": {},
   "outputs": [],
   "source": [
    "molecule = \"alanine\"\n",
    "temperature = \"273.0\"\n",
    "state = \"c5\"\n",
    "\n",
    "result_dir = f\"../log/{molecule}/{temperature}/{state}\"\n",
    "pdb_file = f\"../data/{molecule}/{state}.pdb\""
   ]
  },
  {
   "cell_type": "code",
   "execution_count": 8,
   "metadata": {},
   "outputs": [
    {
     "name": "stdout",
     "output_type": "stream",
     "text": [
      "{'config': 'config/alanine/debug.json',\n",
      " 'force_field': 'amber99',\n",
      " 'freq_csv': 1000,\n",
      " 'freq_dcd': 1,\n",
      " 'freq_stdout': 10000,\n",
      " 'log_csv': True,\n",
      " 'log_dcd': True,\n",
      " 'log_stdout': False,\n",
      " 'molecule': 'alanine',\n",
      " 'platform': 'OpenCL',\n",
      " 'precision': 'mixed',\n",
      " 'solvent': 'tip3p',\n",
      " 'state': 'c5',\n",
      " 'temperature': 273.0,\n",
      " 'time': 100}\n"
     ]
    }
   ],
   "source": [
    "arg_file = f\"{result_dir}/args.json\"\n",
    "\n",
    "with open(arg_file, 'r') as f:\n",
    "\targ_data = json.load(f)\n",
    " \n",
    "pprint.pprint(arg_data)"
   ]
  },
  {
   "cell_type": "markdown",
   "metadata": {},
   "source": [
    "# Trajectory from simulation"
   ]
  },
  {
   "cell_type": "code",
   "execution_count": 22,
   "metadata": {},
   "outputs": [
    {
     "name": "stdout",
     "output_type": "stream",
     "text": [
      "Loading trajectory...\n",
      "0.005322694778442383 seconds\n",
      "Trajectory loaded.!!\n"
     ]
    }
   ],
   "source": [
    "start = time.time()\n",
    "print(\"Loading trajectory...\")\n",
    "loaded_traj = mdtraj.load(\n",
    "    f\"{result_dir}/traj.dcd\",\n",
    "    top=pdb_file\n",
    ")\n",
    "end = time.time()\n",
    "print(f\"{end-start} seconds\")\n",
    "print(\"Trajectory loaded.!!\")"
   ]
  },
  {
   "cell_type": "code",
   "execution_count": 27,
   "metadata": {},
   "outputs": [],
   "source": [
    "def plot_ram_from_sim(loaded_traj, pdb_file, state):\n",
    "    fig = plt.figure()\n",
    "    fig, ax = plt.subplots(figsize=(6,6))\n",
    "    phis = mdtraj.compute_phi(loaded_traj)[1].ravel()\n",
    "    psis = mdtraj.compute_psi(loaded_traj)[1].ravel()\n",
    "    \n",
    "    state_traj = mdtraj.load(pdb_file)\n",
    "    phi_start = mdtraj.compute_phi(state_traj)[1].ravel()\n",
    "    psi_start = mdtraj.compute_psi(state_traj)[1].ravel()\n",
    "    ax.set_title(f\"State {state}\")\n",
    "    ax.scatter(phi_start * 180 / np.pi, psi_start * 180 / np.pi, c='red', s=100, zorder=1)\n",
    "    \n",
    "    # Ramachandran plot\n",
    "    # ax.hist2d(phis * 180 / np.pi, psis * 180 / np.pi, 100, norm=LogNorm(), zorder=0)\n",
    "    ax.scatter(phis * 180 / np.pi, psis * 180 / np.pi, s=100)\n",
    "    ax.set_xlim(-180, 180)\n",
    "    ax.set_ylim(-180, 180)\n",
    "    ax.set_xticks(np.linspace(-180, 180, 5))\n",
    "    ax.set_yticks(np.linspace(-180, 180, 5))\n",
    "    ax.set_xlabel(\"Phi [deg]\")\n",
    "    ax.set_ylabel(\"Psi [deg]\")\n",
    "    fig.tight_layout()"
   ]
  },
  {
   "cell_type": "code",
   "execution_count": 28,
   "metadata": {},
   "outputs": [
    {
     "data": {
      "text/plain": [
       "<Figure size 640x480 with 0 Axes>"
      ]
     },
     "metadata": {},
     "output_type": "display_data"
    },
    {
     "data": {
      "image/png": "[encoded data removed]",
      "text/plain": [
       "<Figure size 600x600 with 1 Axes>"
      ]
     },
     "metadata": {},
     "output_type": "display_data"
    }
   ],
   "source": [
    "plot_ram_from_sim(loaded_traj, pdb_file, state)"
   ]
  },
  {
   "cell_type": "markdown",
   "metadata": {},
   "source": [
    "# Trajectory from dataset"
   ]
  },
  {
   "cell_type": "code",
   "execution_count": 13,
   "metadata": {},
   "outputs": [],
   "source": [
    "\n",
    "from torch.utils.data import Dataset\n",
    "\n",
    "class MD_Dataset(Dataset):\n",
    "    def __init__(self, traj, config):\n",
    "        self.molecule = config['molecule']\n",
    "        self.state = config['state']\n",
    "        self.temperature = config['temperature']\n",
    "        self.time = config['time']\n",
    "        self.force_field = config['force_field']\n",
    "        self.solvent = config['solvent']\n",
    "        self.platform = config['platform']\n",
    "        self.precision = config['precision']\n",
    "        \n",
    "        data_x_list = []\n",
    "        data_y_list = []\n",
    "        for t in tqdm(\n",
    "            range(self.time -1),\n",
    "            desc=\"Loading data\"\n",
    "        ):\n",
    "            current_state = torch.tensor(loaded_traj[t].xyz.squeeze())\n",
    "            next_state = torch.tensor(loaded_traj[t+1].xyz.squeeze())\n",
    "            data_x_list.append(current_state)\n",
    "            data_y_list.append(next_state)\n",
    "        self.x = torch.stack(data_x_list)\n",
    "        self.y = torch.stack(data_y_list)\n",
    "        \n",
    "        self.sanity_check(loaded_traj)\n",
    "    \n",
    "    def sanity_check(self, loaded_traj):\n",
    "        print(\"Running sanity check...\")\n",
    "        print(f\">> x size: {self.x.shape}\")\n",
    "        print(f\">> y size: {self.y.shape}\")\n",
    "        assert torch.equal(x.shape, y.shape), f\"Shape of x and y not equal\"\n",
    "        \n",
    "        for t in tqdm(\n",
    "            range(self.time -1),\n",
    "            desc=\"Sanity check\"\n",
    "        ):\n",
    "            x = self.x[t]\n",
    "            y = self.y[t]\n",
    "            x_frame = torch.tensor(loaded_traj[t].xyz.squeeze())\n",
    "            y_frame = torch.tensor(loaded_traj[t+1].xyz.squeeze())\n",
    "            \n",
    "            assert torch.equal(x, x_frame), f\"Frame {t}, x not equal\"\n",
    "            assert torch.equal(y, y_frame), f\"Frame {t+1}, y not equal\"        \n",
    "            \n",
    "\n",
    "    def __getitem__(self, index):\n",
    "\t    return self.x[index], self.y[index]\n",
    " \n",
    "    def __len__(self):\n",
    "\t    return self.x.shape[0]"
   ]
  },
  {
   "cell_type": "code",
   "execution_count": 14,
   "metadata": {},
   "outputs": [
    {
     "data": {
      "application/vnd.jupyter.widget-view+json": {
       "model_id": "8b58fa3bf1c94a12b2e55267c3131224",
       "version_major": 2,
       "version_minor": 0
      },
      "text/plain": [
       "  0%|          | 0/99 [00:00<?, ?it/s]"
      ]
     },
     "metadata": {},
     "output_type": "display_data"
    },
    {
     "name": "stdout",
     "output_type": "stream",
     "text": [
      "99\n",
      "torch.Size([22, 3])\n"
     ]
    }
   ],
   "source": [
    "dataset_dir = f\"../dataset/{molecule}/{temperature}\"\n",
    "data = torch.load(f\"{dataset_dir}/c5.pt\")\n",
    "\n",
    "frames = []\n",
    "for t in tqdm(range(data.time - 1)):\n",
    "    x, y = data[t]\n",
    "    frames.append(x)\n",
    "    \n",
    "print(len(frames))\n",
    "print(frames[0].shape)"
   ]
  },
  {
   "cell_type": "code",
   "execution_count": 29,
   "metadata": {},
   "outputs": [],
   "source": [
    "angle_1 = [6, 8, 14, 16]\n",
    "angle_2 = [4, 6, 8, 14]\n",
    "\n",
    "def dihedral_old(i, j, k, l):\n",
    "    b1, b2, b3 = j - i, k - j, l - k\n",
    "\n",
    "    c1 = vmap(jnp.cross, (0, 0))(b2, b3)\n",
    "    c2 = vmap(jnp.cross, (0, 0))(b1, b2)\n",
    "\n",
    "    p1 = (b1 * c1).sum(-1)\n",
    "    p1 = p1 * jnp.sqrt((b2 * b2).sum(-1))\n",
    "    p2 = (c1 * c2).sum(-1)\n",
    "\n",
    "    r = vmap(jnp.arctan2, (0, 0))(p1, p2)\n",
    "    return r\n",
    "\n",
    "def dihedral(p):\n",
    "    \"\"\"http://stackoverflow.com/q/20305272/1128289\"\"\"\n",
    "    b = p[:-1] - p[1:]\n",
    "    b[0] *= -1\n",
    "    v = np.array([v - (v.dot(b[1]) / b[1].dot(b[1])) * b[1] for v in [b[0], b[2]]])\n",
    "    # Normalize vectors\n",
    "    v /= np.sqrt(np.einsum('...i,...i', v, v)).reshape(-1, 1)\n",
    "    b1 = b[1] / np.linalg.norm(b[1])\n",
    "    x = np.dot(v[0], v[1])\n",
    "    m = np.cross(v[0], b1)\n",
    "    y = np.dot(m, v[1])\n",
    "    return np.arctan2(y, x)"
   ]
  },
  {
   "cell_type": "code",
   "execution_count": 30,
   "metadata": {},
   "outputs": [],
   "source": [
    "def plot_ram_from_dataset(frames, pdb_file, state):\n",
    "\tfig = plt.figure()\n",
    "\tfig, ax = plt.subplots(figsize=(6,6))\n",
    "\t\n",
    "\tphis = []\n",
    "\tpsis = []\n",
    "\tfor frame in frames:\n",
    "\t\tpsis.append(dihedral(np.array(frame[angle_1, :])) * 180 / np.pi)\n",
    "\t\tphis.append(dihedral(np.array(frame[angle_2,: ])) * 180 / np.pi)\n",
    "\tprint(psis)\n",
    "\tprint(phis)\n",
    "\n",
    "\tstate_traj = mdtraj.load(pdb_file)\n",
    "\tphi_start = mdtraj.compute_phi(state_traj)[1].ravel()\n",
    "\tpsi_start = mdtraj.compute_psi(state_traj)[1].ravel()\n",
    "\tax.scatter(phi_start * 180 / np.pi, psi_start * 180 / np.pi, c='red', s=100, zorder=1)\n",
    "\n",
    "\t# Ramachandran plot\n",
    "\t# ax.hist2d(phis, psis, 100, norm=LogNorm(), zorder=0)\n",
    "\tax.scatter(phis, psis, s=100)\n",
    "\tax.set_xlim(-180, 180)\n",
    "\tax.set_ylim(-180, 180)\n",
    "\tax.set_xticks(np.linspace(-180, 180, 5))\n",
    "\tax.set_yticks(np.linspace(-180, 180, 5))\n",
    "\tax.set_xlabel(\"Phi [deg]\")\n",
    "\tax.set_ylabel(\"Psi [deg]\")\n",
    "\tfig.tight_layout()"
   ]
  },
  {
   "cell_type": "code",
   "execution_count": 31,
   "metadata": {},
   "outputs": [
    {
     "name": "stdout",
     "output_type": "stream",
     "text": [
      "[156.0918840458105, 156.1049843486386, 156.1127024624007, 156.11689619855107, 156.17080005148082, 156.2209199796104, 156.27909953096056, 156.32187017554318, 156.3579882158742, 156.3872077651435, 156.39323199199146, 156.37274142448143, 156.3602421783003, 156.31079160870942, 156.236451829783, 156.18678269413866, 156.14947620089205, 156.10121408421674, 156.04606713685806, 155.97176833906667, 155.890789616267, 155.8127751955671, 155.76191760700718, 155.72584054781117, 155.68826084699776, 155.6811437898826, 155.66640424165374, 155.63835948492166, 155.61192665283372, 155.59649042530947, 155.5997415953544, 155.59978257648942, 155.60896235073392, 155.60692695436126, 155.6010393312967, 155.58258416015934, 155.55917027168454, 155.54570113864125, 155.511140381441, 155.47771343564295, 155.44286581049755, 155.4177580351086, 155.38672165552003, 155.37057508832214, 155.36800693719422, 155.36675018238694, 155.34464769023276, 155.34053591635242, 155.35449682301592, 155.37218701296626, 155.40532709081916, 155.44132218774513, 155.4733557749525, 155.52190475957295, 155.5464661198283, 155.56115102654383, 155.5702488385183, 155.55896536600943, 155.532232005598, 155.46666218956588, 155.40514950590074, 155.32004534884237, 155.20259341587484, 155.06474653804565, 154.90222901693437, 154.74126877895384, 154.57230355926606, 154.39445909365728, 154.2179123639908, 154.0412290305409, 153.89760381267388, 153.78110810619012, 153.67366923054584, 153.58917979051276, 153.5086518601983, 153.48951367014394, 153.48160431108508, 153.5035975202125, 153.53709276790227, 153.57128469488734, 153.64143073766337, 153.72852930995936, 153.78836176708867, 153.86212781012483, 153.9607830624965, 154.06999778732498, 154.16885794537174, 154.2992462566273, 154.43923781385587, 154.58410612615185, 154.72620138164478, 154.83977376716376, 154.95308660549426, 155.0753060105025, 155.2094099446665, 155.3628842953167, 155.4848987946498, 155.5742786501286, 155.65667805227562]\n",
      "[-142.98266099067, -142.9743964617743, -143.0002418975936, -143.01642944592655, -143.01953035180975, -143.0272621259502, -143.04663254243636, -143.05594892046423, -143.08973103609912, -143.13177768062974, -143.19639127017805, -143.2849378425781, -143.3896446425544, -143.49552623506793, -143.59792443110476, -143.68048775779187, -143.76736776403445, -143.86618694094616, -143.96592136320672, -144.09118703258474, -144.20809255041868, -144.32319489831173, -144.41159120655004, -144.4996050241948, -144.60709854135249, -144.70769356744842, -144.79502436617622, -144.912968072764, -145.01100860811036, -145.1326679376066, -145.2378118696898, -145.34781889646203, -145.44247165798006, -145.53280773994265, -145.62700970897546, -145.72424428199977, -145.82475734582567, -145.90068172863954, -145.9493673170434, -146.01751894458178, -146.06429208001802, -146.1132918571237, -146.15539314316766, -146.1915521646337, -146.23033397874104, -146.23996454547074, -146.2476280177195, -146.28518039777623, -146.31362130548015, -146.37372697017628, -146.45607173080995, -146.51037173471155, -146.5355068308572, -146.58503936271813, -146.678681256239, -146.76914028160667, -146.8710330436449, -146.99967282647293, -147.12323094855847, -147.26697910983054, -147.38719043922276, -147.50342659851805, -147.60837928530447, -147.70796344340326, -147.79797167628567, -147.88922300359704, -148.00126542674192, -148.11475584999087, -148.26291631346677, -148.39477994558305, -148.5317252384418, -148.67170313529206, -148.84038148703468, -149.01194217860706, -149.15033547156986, -149.24982400702027, -149.3612380527615, -149.45169707812917, -149.55950478398864, -149.66657482941775, -149.7317758152347, -149.76345423260523, -149.79364366873668, -149.80461295254372, -149.7794505356414, -149.76961506323659, -149.7924961969561, -149.8382857851519, -149.88335137329562, -149.94049273589195, -150.02431281738635, -150.1139522200536, -150.2333712475021, -150.37959193725374, -150.518244777405, -150.64501308840045, -150.8213822331485, -150.98071688610656, -151.10913810288113]\n"
     ]
    },
    {
     "data": {
      "text/plain": [
       "<Figure size 640x480 with 0 Axes>"
      ]
     },
     "metadata": {},
     "output_type": "display_data"
    },
    {
     "data": {
      "image/png": "[encoded data removed]",
      "text/plain": [
       "<Figure size 600x600 with 1 Axes>"
      ]
     },
     "metadata": {},
     "output_type": "display_data"
    }
   ],
   "source": [
    "plot_ram_from_dataset(frames, pdb_file, state)"
   ]
  },
  {
   "cell_type": "code",
   "execution_count": null,
   "metadata": {},
   "outputs": [],
   "source": []
  }
 ],
 "metadata": {
  "kernelspec": {
   "display_name": "sim",
   "language": "python",
   "name": "python3"
  },
  "language_info": {
   "codemirror_mode": {
    "name": "ipython",
    "version": 3
   },
   "file_extension": ".py",
   "mimetype": "text/x-python",
   "name": "python",
   "nbconvert_exporter": "python",
   "pygments_lexer": "ipython3",
   "version": "3.9.19"
  }
 },
 "nbformat": 4,
 "nbformat_minor": 2
}
