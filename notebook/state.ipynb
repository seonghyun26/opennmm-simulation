{
 "cells": [
  {
   "cell_type": "markdown",
   "metadata": {},
   "source": [
    "# Molecular Dynamics Simulation View"
   ]
  },
  {
   "cell_type": "markdown",
   "metadata": {},
   "source": [
    "## Configurations"
   ]
  },
  {
   "cell_type": "code",
   "execution_count": 12,
   "metadata": {},
   "outputs": [],
   "source": [
    "from sys import stdout\n",
    "\n",
    "import random\n",
    "import mdtraj\n",
    "import nglview\n",
    "import pandas\n",
    "import numpy as np\n",
    "import matplotlib.pyplot as plt\n",
    "\n",
    "from openmm import *\n",
    "from tqdm.auto import tqdm\n",
    "from matplotlib import animation \n",
    "from openmm.app import *\n",
    "from openmm.unit import *\n",
    "from matplotlib.colors import LogNorm\n",
    "from mpl_toolkits.mplot3d import Axes3D"
   ]
  },
  {
   "cell_type": "code",
   "execution_count": 34,
   "metadata": {},
   "outputs": [],
   "source": [
    "data_dir = \"../data\"\n",
    "IMAGE_SIZE = \"400px\""
   ]
  },
  {
   "cell_type": "markdown",
   "metadata": {},
   "source": [
    "## All states"
   ]
  },
  {
   "cell_type": "code",
   "execution_count": 19,
   "metadata": {},
   "outputs": [],
   "source": [
    "molecule = \"alanine\"\n",
    "state_list = [\"alpha_L\", \"alpha_P\", \"alpha_R\", \"c5\", \"c7ax\", \"pII\"]\n",
    "colors = []\n",
    "for _ in range(len(state_list)):\n",
    "    colors.append(\"#\" + ''.join([random.choice('0123456789ABCDEF') for j in range(6)]))"
   ]
  },
  {
   "cell_type": "code",
   "execution_count": 20,
   "metadata": {},
   "outputs": [
    {
     "name": "stdout",
     "output_type": "stream",
     "text": [
      "State alpha_L: psi 65.03275142749514, phi 40.01006995030287\n",
      "State alpha_P: psi -64.96490032828024, phi -149.9864462486278\n",
      "State alpha_R: psi -49.996858365993695, phi -70.00671374715186\n",
      "State c5: psi 173.77789392037147, phi -146.7801095654137\n",
      "State c7ax: psi 18.255179783381895, phi 64.82361786529852\n",
      "State pII: psi 135.00525958728358, phi -70.00671374715186\n"
     ]
    }
   ],
   "source": [
    "psi_list = []\n",
    "phi_list = []\n",
    "\n",
    "for state in state_list:\n",
    "    state_file = f\"{data_dir}/{molecule}/{state}.pdb\"\n",
    "    state_traj = mdtraj.load(state_file)\n",
    "    psi = mdtraj.compute_psi(state_traj)[1].ravel()[0]\n",
    "    phi = mdtraj.compute_phi(state_traj)[1].ravel()[0]\n",
    "    psi_list.append(psi * 180 / np.pi)\n",
    "    phi_list.append(phi * 180 / np.pi)\n",
    "\n",
    "for idx, state in enumerate(state_list):\n",
    "    print(f\"State {state}: psi {psi_list[idx]}, phi {phi_list[idx]}\")"
   ]
  },
  {
   "cell_type": "code",
   "execution_count": 25,
   "metadata": {},
   "outputs": [
    {
     "data": {
      "text/plain": [
       "<Figure size 640x480 with 0 Axes>"
      ]
     },
     "metadata": {},
     "output_type": "display_data"
    },
    {
     "data": {
      "image/png": "[encoded data removed]",
      "text/plain": [
       "<Figure size 600x600 with 1 Axes>"
      ]
     },
     "metadata": {},
     "output_type": "display_data"
    }
   ],
   "source": [
    "def ram(state_list, phi_list, psi_list):\n",
    "    fig = plt.figure()\n",
    "    fig, ax1 = plt.subplots(figsize=(6,6))\n",
    "    num_points = len(state_list)\n",
    "\n",
    "    for idx in range(num_points):\n",
    "        ax1.scatter(phi_list[idx], psi_list[idx], s=200, color=colors[idx], label=state_list[idx])\n",
    "    \n",
    "    ax1.set_xlim(-180, 180)\n",
    "    ax1.set_ylim(-180, 180)\n",
    "    ax1.set_xticks(np.linspace(-180, 180, 5))\n",
    "    ax1.set_yticks(np.linspace(-180, 180, 5))\n",
    "    ax1.set_xlabel(\"Phi [deg]\")\n",
    "    ax1.set_ylabel(\"Psi [deg]\")\n",
    "\n",
    "    ax1.legend()\n",
    "    fig.tight_layout()\n",
    "\n",
    "ram(state_list, phi_list, psi_list)"
   ]
  },
  {
   "cell_type": "code",
   "execution_count": 31,
   "metadata": {},
   "outputs": [
    {
     "name": "stdout",
     "output_type": "stream",
     "text": [
      "State file: ../data/alanine/pII.pdb\n"
     ]
    },
    {
     "data": {
      "application/vnd.jupyter.widget-view+json": {
       "model_id": "26c7382e51524f63914424cc7bf50e9a",
       "version_major": 2,
       "version_minor": 0
      },
      "text/plain": [
       "NGLWidget()"
      ]
     },
     "metadata": {},
     "output_type": "display_data"
    }
   ],
   "source": [
    "state_file = f\"{data_dir}/{molecule}/{state}.pdb\"\n",
    "print(f\"State file: {state_file}\")\n",
    "\n",
    "traj_ad_state = mdtraj.load(state_file)\n",
    "traj_ad_state.superpose(traj_ad_state, 0)\n",
    "nglview.show_mdtraj(traj_ad_state, width=IMAGE_SIZE, height=IMAGE_SIZE)"
   ]
  }
 ],
 "metadata": {
  "kernelspec": {
   "display_name": "Python 3 (ipykernel)",
   "language": "python",
   "name": "python3"
  },
  "language_info": {
   "codemirror_mode": {
    "name": "ipython",
    "version": 3
   },
   "file_extension": ".py",
   "mimetype": "text/x-python",
   "name": "python",
   "nbconvert_exporter": "python",
   "pygments_lexer": "ipython3",
   "version": "3.9.19"
  },
  "latex_envs": {
   "LaTeX_envs_menu_present": true,
   "autoclose": true,
   "autocomplete": true,
   "bibliofile": "biblio.bib",
   "cite_by": "apalike",
   "current_citInitial": 1,
   "eqLabelWithNumbers": true,
   "eqNumInitial": 1,
   "hotkeys": {
    "equation": "Ctrl-E",
    "itemize": "Ctrl-I"
   },
   "labels_anchors": false,
   "latex_user_defs": false,
   "report_style_numbering": false,
   "user_envs_cfg": false
  }
 },
 "nbformat": 4,
 "nbformat_minor": 4
}
