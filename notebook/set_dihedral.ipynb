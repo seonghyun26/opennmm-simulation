{
 "cells": [
  {
   "cell_type": "markdown",
   "metadata": {},
   "source": [
    "# Imports"
   ]
  },
  {
   "cell_type": "code",
   "execution_count": 12,
   "metadata": {},
   "outputs": [
    {
     "data": {
      "application/vnd.jupyter.widget-view+json": {
       "model_id": "127e69f4528a4a46b8ff07800a41820b",
       "version_major": 2,
       "version_minor": 0
      },
      "text/plain": []
     },
     "metadata": {},
     "output_type": "display_data"
    }
   ],
   "source": [
    "from rdkit import Chem\n",
    "from rdkit.Chem import AllChem, rdMolTransforms\n",
    "from rdkit.Chem import Draw\n",
    "\n",
    "import numpy as np\n",
    "import mdtraj as md\n",
    "import nglview as nv"
   ]
  },
  {
   "cell_type": "markdown",
   "metadata": {},
   "source": [
    "# Dihedral angle check"
   ]
  },
  {
   "cell_type": "code",
   "execution_count": 42,
   "metadata": {},
   "outputs": [],
   "source": [
    "psi_idx1, psi_idx2, psi_idx3, psi_idx4 = 10, 8, 14, 16\n",
    "phi_idx1, phi_idx2, phi_idx3, phi_idx4 = 4, 6, 8, 10\n",
    "backbone_color = \"#D55E00\"\n",
    "\n",
    "def set_dihedral(mol, idx_1, idx2, idx3, idx4, angle):\n",
    "    conf = mol.GetConformer()\n",
    "    rdMolTransforms.SetDihedralDeg(conf, idx_1, idx2, idx3, idx4, angle)"
   ]
  },
  {
   "cell_type": "code",
   "execution_count": 43,
   "metadata": {},
   "outputs": [
    {
     "name": "stdout",
     "output_type": "stream",
     "text": [
      "<--- Dihedrals from PDB file --->\n",
      "-146.78, 173.78\n",
      "<----------------------------------------->\n"
     ]
    },
    {
     "data": {
      "application/vnd.jupyter.widget-view+json": {
       "model_id": "62cd61280c104c5d93d9583b2bf27f8a",
       "version_major": 2,
       "version_minor": 0
      },
      "text/plain": [
       "NGLWidget()"
      ]
     },
     "metadata": {},
     "output_type": "display_data"
    }
   ],
   "source": [
    "original_pdb = f'../../data/alanine/{state}.pdb'\n",
    "compute_two_dihedral(original_pdb)\n",
    "view = nv.show_structure_file(original_pdb, width=IMAGE_SIZE, height=IMAGE_SIZE)\n",
    "view.add_representation('ball+stick', aspectRatio=1, radius=0.5, selection=[psi_idx1, psi_idx2, psi_idx3, psi_idx4], color=backbone_color)\n",
    "view"
   ]
  },
  {
   "cell_type": "code",
   "execution_count": 38,
   "metadata": {},
   "outputs": [
    {
     "name": "stdout",
     "output_type": "stream",
     "text": [
      "<--- Dihedrals from PDB file --->\n",
      "-146.78, 173.78\n",
      "<----------------------------------------->\n"
     ]
    },
    {
     "data": {
      "application/vnd.jupyter.widget-view+json": {
       "model_id": "72444bf220104dbb970e017432263ec2",
       "version_major": 2,
       "version_minor": 0
      },
      "text/plain": [
       "NGLWidget()"
      ]
     },
     "metadata": {},
     "output_type": "display_data"
    }
   ],
   "source": [
    "original_pdb = f'../../data/alanine/{state}.pdb'\n",
    "compute_two_dihedral(original_pdb)\n",
    "view = nv.show_structure_file(original_pdb, width=IMAGE_SIZE, height=IMAGE_SIZE)\n",
    "view.add_representation('ball+stick', aspectRatio=1, radius=0.5, selection=[phi_idx1, phi_idx2, phi_idx3, phi_idx4], color=backbone_color)\n",
    "view"
   ]
  },
  {
   "cell_type": "markdown",
   "metadata": {},
   "source": [
    "# Set dihedral"
   ]
  },
  {
   "cell_type": "code",
   "execution_count": 39,
   "metadata": {},
   "outputs": [],
   "source": [
    "state = \"c5\"\n",
    "molecule = Chem.MolFromPDBFile(f'../../data/alanine/{state}.pdb', removeHs=False)"
   ]
  },
  {
   "cell_type": "code",
   "execution_count": 40,
   "metadata": {},
   "outputs": [
    {
     "name": "stdout",
     "output_type": "stream",
     "text": [
      "<--- Original dihedrals --->\n",
      "94.56, 123.68\n",
      "<-------------------------->\n",
      "\n"
     ]
    }
   ],
   "source": [
    "psi = rdMolTransforms.GetDihedralDeg(molecule.GetConformer(), psi_idx1, psi_idx2, psi_idx3, psi_idx4)\n",
    "phi = rdMolTransforms.GetDihedralDeg(molecule.GetConformer(), phi_idx1, phi_idx2, phi_idx3, phi_idx4)\n",
    "print(\"<--- Original dihedrals --->\")\n",
    "print(f\"{phi:.2f}, {psi:.2f}\")\n",
    "print(\"<-------------------------->\\n\")"
   ]
  },
  {
   "cell_type": "code",
   "execution_count": 45,
   "metadata": {},
   "outputs": [
    {
     "name": "stdout",
     "output_type": "stream",
     "text": [
      "Dihedral angle set\n"
     ]
    }
   ],
   "source": [
    "new_phi = 50\n",
    "new_psi = -100\n",
    "set_dihedral(molecule, psi_idx1, psi_idx2, psi_idx3, psi_idx4, new_psi)\n",
    "set_dihedral(molecule, phi_idx1, phi_idx2, phi_idx3, phi_idx4, new_phi)\n",
    "print(\"Dihedral angle set\")"
   ]
  },
  {
   "cell_type": "code",
   "execution_count": 46,
   "metadata": {},
   "outputs": [
    {
     "name": "stdout",
     "output_type": "stream",
     "text": [
      "<--- Modified dihedrals --->\n",
      "50.00, -100.00\n",
      "<-------------------------->\n"
     ]
    }
   ],
   "source": [
    "psi = rdMolTransforms.GetDihedralDeg(molecule.GetConformer(), psi_idx1, psi_idx2, psi_idx3, psi_idx4)\n",
    "phi = rdMolTransforms.GetDihedralDeg(molecule.GetConformer(), phi_idx1, phi_idx2, phi_idx3, phi_idx4)\n",
    "print(\"<--- Modified dihedrals --->\")\n",
    "print(f\"{new_phi:.2f}, {new_psi:.2f}\")\n",
    "print(\"<-------------------------->\")"
   ]
  },
  {
   "cell_type": "code",
   "execution_count": 47,
   "metadata": {},
   "outputs": [
    {
     "name": "stdout",
     "output_type": "stream",
     "text": [
      "Atom 0: 19.745, 3.573, 20.603\n",
      "Atom 1: 18.882, 3.072, 21.04\n",
      "Atom 2: 19.299, 2.583, 21.92\n",
      "Atom 3: 18.428, 2.368, 20.342\n",
      "Atom 4: 17.901, 4.069, 21.635\n",
      "Atom 5: 16.732, 3.819, 21.87\n",
      "Atom 6: 18.376, 5.305, 21.721\n",
      "Atom 7: 19.385, 5.264, 21.729\n",
      "Atom 8: 17.741, 6.537, 22.185\n",
      "Atom 9: 17.04582488778243, 6.860574117251084, 21.409641145018337\n",
      "Atom 10: 17.101120491921613, 6.202076661058641, 23.57657988350426\n",
      "Atom 11: 16.56331230751283, 7.0671029879260585, 23.96465179772789\n",
      "Atom 12: 17.85175336122965, 5.933642521668906, 24.320331460527445\n",
      "Atom 13: 16.371516132385626, 5.394874726206394, 23.52348077883317\n",
      "Atom 14: 18.752791579928797, 7.710707186552709, 22.379160343581574\n",
      "Atom 15: 19.85446779776069, 7.474045937370982, 22.784532967471435\n",
      "Atom 16: 18.39058121839234, 8.91930803126931, 22.06786040438155\n",
      "Atom 17: 17.44791636439163, 8.949410885637358, 21.70390052858379\n",
      "Atom 18: 19.2636886248424, 10.012599042705943, 21.86996088160822\n",
      "Atom 19: 19.082712682421345, 10.524774717851002, 20.92535843292702\n",
      "Atom 20: 19.20235891785639, 10.74850199885164, 22.671840864010218\n",
      "Atom 21: 20.258520298068348, 9.566081554867388, 21.880356794305182\n"
     ]
    }
   ],
   "source": [
    "# Save the new coordinates to a file, and print\n",
    "Chem.MolToPDBFile(molecule, f'./aldp_{new_phi:.1f}_{new_psi:.1f}.pdb')\n",
    "conf = molecule.GetConformer()\n",
    "for i in range(molecule.GetNumAtoms()):\n",
    "    pos = conf.GetAtomPosition(i)\n",
    "    print(f'Atom {i}: {pos.x}, {pos.y}, {pos.z}')"
   ]
  },
  {
   "cell_type": "markdown",
   "metadata": {},
   "source": [
    "# Visualize"
   ]
  },
  {
   "cell_type": "code",
   "execution_count": 48,
   "metadata": {},
   "outputs": [],
   "source": [
    "IMAGE_SIZE = \"400px\""
   ]
  },
  {
   "cell_type": "code",
   "execution_count": 49,
   "metadata": {},
   "outputs": [],
   "source": [
    "def compute_two_dihedral(pdb_file):\n",
    "\ttraj = md.load(pdb_file)\n",
    "\tindices_psi = [psi_idx1, psi_idx2, psi_idx3, psi_idx4]\n",
    "\tindices_phi = [phi_idx1, phi_idx2, phi_idx3, phi_idx4]\n",
    "\tpsi= md.compute_dihedrals(traj, [indices_psi])[0][0] * 180 / np.pi\n",
    "\tphi = md.compute_dihedrals(traj, [indices_phi])[0][0] * 180 / np.pi\n",
    "\n",
    "\tprint(\"<--- Dihedrals from PDB file --->\")\n",
    "\tprint(f\"{phi:.2f}, {psi:.2f}\")\n",
    "\tprint(\"<----------------------------------------->\")"
   ]
  },
  {
   "cell_type": "code",
   "execution_count": 50,
   "metadata": {},
   "outputs": [
    {
     "name": "stdout",
     "output_type": "stream",
     "text": [
      "<--- Dihedrals from PDB file --->\n",
      "94.56, -68.81\n",
      "<----------------------------------------->\n"
     ]
    },
    {
     "data": {
      "application/vnd.jupyter.widget-view+json": {
       "model_id": "6ecf78935d074836a826b3368dc47f69",
       "version_major": 2,
       "version_minor": 0
      },
      "text/plain": [
       "NGLWidget()"
      ]
     },
     "metadata": {},
     "output_type": "display_data"
    }
   ],
   "source": [
    "original_pdb = f'../../data/alanine/{state}.pdb'\n",
    "compute_two_dihedral(original_pdb)\n",
    "view = nv.show_structure_file(original_pdb, width=IMAGE_SIZE, height=IMAGE_SIZE)\n",
    "view"
   ]
  },
  {
   "cell_type": "code",
   "execution_count": 51,
   "metadata": {},
   "outputs": [
    {
     "name": "stdout",
     "output_type": "stream",
     "text": [
      "<--- Dihedrals from PDB file --->\n",
      "50.00, -99.99\n",
      "<----------------------------------------->\n"
     ]
    },
    {
     "data": {
      "application/vnd.jupyter.widget-view+json": {
       "model_id": "bc0fa73f48774b52bf90613f3cf85bc9",
       "version_major": 2,
       "version_minor": 0
      },
      "text/plain": [
       "NGLWidget()"
      ]
     },
     "metadata": {},
     "output_type": "display_data"
    }
   ],
   "source": [
    "new_pdb = f'./aldp_{new_phi:.1f}_{new_psi:.1f}.pdb'\n",
    "compute_two_dihedral(new_pdb)\n",
    "new_view = nv.show_structure_file(new_pdb, width=IMAGE_SIZE, height=IMAGE_SIZE)\n",
    "new_view"
   ]
  },
  {
   "cell_type": "code",
   "execution_count": null,
   "metadata": {},
   "outputs": [],
   "source": []
  }
 ],
 "metadata": {
  "kernelspec": {
   "display_name": "cmd",
   "language": "python",
   "name": "python3"
  },
  "language_info": {
   "codemirror_mode": {
    "name": "ipython",
    "version": 3
   },
   "file_extension": ".py",
   "mimetype": "text/x-python",
   "name": "python",
   "nbconvert_exporter": "python",
   "pygments_lexer": "ipython3",
   "version": "3.9.19"
  },
  "widgets": {
   "application/vnd.jupyter.widget-state+json": {
    "state": {
     "004e0124017a430c80b0f1e18d042eef": {
      "model_module": "@jupyter-widgets/controls",
      "model_module_version": "2.0.0",
      "model_name": "LinkModel",
      "state": {
       "source": [
        "IPY_MODEL_589cafd115754973aa6777bc8aaa828c",
        "max"
       ],
       "target": [
        "IPY_MODEL_c1a7438793b74e85a71b5351076c423c",
        "max_frame"
       ]
      }
     },
     "0073b273e0b040e7aa6ea555f7ccba19": {
      "model_module": "@jupyter-widgets/base",
      "model_module_version": "2.0.0",
      "model_name": "LayoutModel",
      "state": {}
     },
     "00e04d9d58b246b89e75874b66d1c7a4": {
      "model_module": "@jupyter-widgets/controls",
      "model_module_version": "2.0.0",
      "model_name": "ButtonModel",
      "state": {
       "icon": "compress",
       "layout": "IPY_MODEL_36b791f568ad479db7b1e48ab9322b86",
       "style": "IPY_MODEL_abb302da77d84839bcf0e135bcdb3e77",
       "tooltip": null
      }
     },
     "0173c68a73fe419a9867d670df6ccfc3": {
      "model_module": "@jupyter-widgets/controls",
      "model_module_version": "2.0.0",
      "model_name": "LinkModel",
      "state": {
       "source": [
        "IPY_MODEL_d651f01793fe4dd99ea2f748249f54e7",
        "max"
       ],
       "target": [
        "IPY_MODEL_c1d815f1b1c544a7849a82f4ea87b4bf",
        "max_frame"
       ]
      }
     },
     "02124f768de24257a6724af1fd4ac3bf": {
      "model_module": "@jupyter-widgets/controls",
      "model_module_version": "2.0.0",
      "model_name": "ButtonStyleModel",
      "state": {
       "font_family": null,
       "font_size": null,
       "font_style": null,
       "font_variant": null,
       "font_weight": null,
       "text_color": null,
       "text_decoration": null
      }
     },
     "0317df35c8674e668d00ce9e8e6796fa": {
      "model_module": "@jupyter-widgets/base",
      "model_module_version": "2.0.0",
      "model_name": "LayoutModel",
      "state": {}
     },
     "031c26c0d62040b5a929d49ef2a5da98": {
      "model_module": "@jupyter-widgets/controls",
      "model_module_version": "2.0.0",
      "model_name": "LinkModel",
      "state": {
       "source": [
        "IPY_MODEL_829aa71806b44b4a976160bafbd09a0d",
        "max"
       ],
       "target": [
        "IPY_MODEL_15d25f71e76f4a6ab866021ae8b730ca",
        "max_frame"
       ]
      }
     },
     "03643c44105e46f281dc68c541d49a03": {
      "model_module": "@jupyter-widgets/controls",
      "model_module_version": "2.0.0",
      "model_name": "LinkModel",
      "state": {
       "source": [
        "IPY_MODEL_56f6e342f64746d5bcf37d032f7d661f",
        "max"
       ],
       "target": [
        "IPY_MODEL_9da21d8c9f594c28a7cc0df452b26b2c",
        "max_frame"
       ]
      }
     },
     "036bfe7242164e53917848a04da6faad": {
      "model_module": "@jupyter-widgets/base",
      "model_module_version": "2.0.0",
      "model_name": "LayoutModel",
      "state": {}
     },
     "0400efaa389346488ee1d2baf69f09e0": {
      "model_module": "@jupyter-widgets/controls",
      "model_module_version": "2.0.0",
      "model_name": "SliderStyleModel",
      "state": {
       "description_width": ""
      }
     },
     "04a1c56634f744fd9b4350b4af1ee9ba": {
      "model_module": "@jupyter-widgets/base",
      "model_module_version": "2.0.0",
      "model_name": "LayoutModel",
      "state": {}
     },
     "04b1fb7635f74ec4b16fac4725e7c9b0": {
      "model_module": "@jupyter-widgets/controls",
      "model_module_version": "2.0.0",
      "model_name": "LinkModel",
      "state": {
       "source": [
        "IPY_MODEL_a4cf432de8a248a39ab96c5c7b3f4c6c",
        "max"
       ],
       "target": [
        "IPY_MODEL_377b5a7ab7ca4437a68badc07a1c4524",
        "max_frame"
       ]
      }
     },
     "050cb980a2d5491fb16ada13dc939bfe": {
      "model_module": "@jupyter-widgets/controls",
      "model_module_version": "2.0.0",
      "model_name": "SliderStyleModel",
      "state": {
       "description_width": ""
      }
     },
     "058d2d40306d4aa4970110fb1624cf48": {
      "model_module": "@jupyter-widgets/base",
      "model_module_version": "2.0.0",
      "model_name": "LayoutModel",
      "state": {}
     },
     "05f820ae4c3a45e089830dc345088755": {
      "model_module": "@jupyter-widgets/base",
      "model_module_version": "2.0.0",
      "model_name": "LayoutModel",
      "state": {}
     },
     "062069b73c614cdaa51bb56400287d56": {
      "model_module": "@jupyter-widgets/base",
      "model_module_version": "2.0.0",
      "model_name": "LayoutModel",
      "state": {}
     },
     "0674795353d24a1ba4cbfddb0eaf5df4": {
      "model_module": "@jupyter-widgets/controls",
      "model_module_version": "2.0.0",
      "model_name": "HBoxModel",
      "state": {
       "children": [
        "IPY_MODEL_d651f01793fe4dd99ea2f748249f54e7",
        "IPY_MODEL_58fd821b708748e89aef97017c7def24"
       ],
       "layout": "IPY_MODEL_4b0c7432c9fc4a47ba170dd29724bf7a"
      }
     },
     "06e8a66518554053b70f979b37f9dc65": {
      "model_module": "@jupyter-widgets/controls",
      "model_module_version": "2.0.0",
      "model_name": "HBoxModel",
      "state": {
       "children": [
        "IPY_MODEL_1cd8be57a43d4317b369e14873249448",
        "IPY_MODEL_77b5522d341f47a0a435ec51b12cc7c2"
       ],
       "layout": "IPY_MODEL_51878e4d47914c839200d84674d1984a"
      }
     },
     "07c8120f61744bbc9a88f3579fc11558": {
      "model_module": "@jupyter-widgets/controls",
      "model_module_version": "2.0.0",
      "model_name": "LinkModel",
      "state": {
       "source": [
        "IPY_MODEL_8d09f232e33f45bb8a597f6bcd192bb0",
        "value"
       ],
       "target": [
        "IPY_MODEL_31e24cf5e290435eb09c7179cb742fec",
        "frame"
       ]
      }
     },
     "08261e553792478394eb83c5a94137ac": {
      "model_module": "@jupyter-widgets/controls",
      "model_module_version": "2.0.0",
      "model_name": "ButtonStyleModel",
      "state": {
       "font_family": null,
       "font_size": null,
       "font_style": null,
       "font_variant": null,
       "font_weight": null,
       "text_color": null,
       "text_decoration": null
      }
     },
     "08d8bf0544d444278c892e01502332a2": {
      "model_module": "@jupyter-widgets/base",
      "model_module_version": "2.0.0",
      "model_name": "LayoutModel",
      "state": {}
     },
     "0a789ae824b542c6b66fd9f2b3040d48": {
      "model_module": "@jupyter-widgets/base",
      "model_module_version": "2.0.0",
      "model_name": "LayoutModel",
      "state": {}
     },
     "0ad434a5dff74f80a5e757fb273a6842": {
      "model_module": "@jupyter-widgets/controls",
      "model_module_version": "2.0.0",
      "model_name": "SliderStyleModel",
      "state": {
       "description_width": ""
      }
     },
     "0afd7be07a9b4b778aea945aeab7e306": {
      "model_module": "@jupyter-widgets/controls",
      "model_module_version": "2.0.0",
      "model_name": "LinkModel",
      "state": {
       "source": [
        "IPY_MODEL_8353400e32c84958802905b1f651fc45",
        "value"
       ],
       "target": [
        "IPY_MODEL_1eb27e5bf951496680dee39b3cfdd0a3",
        "value"
       ]
      }
     },
     "0b4390567dd9432184b5c1fb689f89eb": {
      "model_module": "@jupyter-widgets/controls",
      "model_module_version": "2.0.0",
      "model_name": "ImageModel",
      "state": {
       "layout": "IPY_MODEL_59c75e11686f4500b66035bcd6cede29",
       "width": "900.0"
      }
     },
     "0c46e326d2404773964fbb986317c805": {
      "model_module": "@jupyter-widgets/base",
      "model_module_version": "2.0.0",
      "model_name": "LayoutModel",
      "state": {}
     },
     "0cef3e4683db4328908b208aeee56921": {
      "model_module": "@jupyter-widgets/controls",
      "model_module_version": "2.0.0",
      "model_name": "PlayModel",
      "state": {
       "layout": "IPY_MODEL_5c416133df5c406ab99800edcf0b13fc",
       "max": 0,
       "style": "IPY_MODEL_1d5a8a5fff4c4d9697d4f7fe367bdef5"
      }
     },
     "0d8da2519cbe418faffd7d2b1fbaa97a": {
      "model_module": "@jupyter-widgets/controls",
      "model_module_version": "2.0.0",
      "model_name": "LinkModel",
      "state": {
       "source": [
        "IPY_MODEL_5e95e454b19b4d3cbf4207cb18398c5e",
        "max"
       ],
       "target": [
        "IPY_MODEL_2d5d4af6cbe2442bae08c588590f71d6",
        "max_frame"
       ]
      }
     },
     "0fbd90bcefed4c54bf0ddde83c65c546": {
      "model_module": "@jupyter-widgets/controls",
      "model_module_version": "2.0.0",
      "model_name": "LinkModel",
      "state": {
       "source": [
        "IPY_MODEL_a4cf432de8a248a39ab96c5c7b3f4c6c",
        "value"
       ],
       "target": [
        "IPY_MODEL_a2087d0622de4e9eb9e788d1160ff703",
        "value"
       ]
      }
     },
     "100d2bba98b14482873adaea7aa4d584": {
      "model_module": "@jupyter-widgets/controls",
      "model_module_version": "2.0.0",
      "model_name": "DescriptionStyleModel",
      "state": {
       "description_width": ""
      }
     },
     "127e69f4528a4a46b8ff07800a41820b": {
      "model_module": "nglview-js-widgets",
      "model_module_version": "3.1.0",
      "model_name": "ColormakerRegistryModel",
      "state": {
       "_msg_ar": [],
       "_msg_q": [],
       "_ready": true,
       "layout": "IPY_MODEL_9a3a3514b8d34a0999105990a1b0e33f"
      }
     },
     "128334b52b284be9829f0a17186d7550": {
      "model_module": "@jupyter-widgets/base",
      "model_module_version": "2.0.0",
      "model_name": "LayoutModel",
      "state": {}
     },
     "12cf66461d4a4fd9b73fe7a0002efbe4": {
      "model_module": "@jupyter-widgets/controls",
      "model_module_version": "2.0.0",
      "model_name": "DescriptionStyleModel",
      "state": {
       "description_width": ""
      }
     },
     "1361e4be83c14f62b75dee1b96a79a4e": {
      "model_module": "@jupyter-widgets/base",
      "model_module_version": "2.0.0",
      "model_name": "LayoutModel",
      "state": {}
     },
     "15d25f71e76f4a6ab866021ae8b730ca": {
      "model_module": "nglview-js-widgets",
      "model_module_version": "3.1.0",
      "model_name": "NGLModel",
      "state": {
       "_camera_orientation": [
        -5.081448877957089,
        -8.42810095428522,
        -22.99841287452825,
        0,
        -24.306346928584524,
        -1.1674058260540439,
        5.798246783880781,
        0,
        -3.026777069788366,
        23.5241425153791,
        -7.952002428830957,
        0,
        -18.209500312805176,
        -6.626500129699707,
        -22.118000030517578,
        1
       ],
       "_camera_str": "orthographic",
       "_gui_theme": null,
       "_ibtn_fullscreen": "IPY_MODEL_7272edce1bff415b8eceb689479dd0f1",
       "_igui": null,
       "_iplayer": "IPY_MODEL_c2f66e6ee6b74a69846daedb1228babe",
       "_ngl_color_dict": {},
       "_ngl_coordinate_resource": {},
       "_ngl_full_stage_parameters": {
        "ambientColor": 14540253,
        "ambientIntensity": 0.2,
        "backgroundColor": "white",
        "cameraEyeSep": 0.3,
        "cameraFov": 40,
        "cameraType": "perspective",
        "clipDist": 10,
        "clipFar": 100,
        "clipMode": "scene",
        "clipNear": 0,
        "clipScale": "relative",
        "fogFar": 100,
        "fogNear": 50,
        "hoverTimeout": 0,
        "impostor": true,
        "lightColor": 14540253,
        "lightIntensity": 1,
        "mousePreset": "default",
        "panSpeed": 1,
        "quality": "medium",
        "rotateSpeed": 2,
        "sampleLevel": 0,
        "tooltip": true,
        "workerDefault": true,
        "zoomSpeed": 1.2
       },
       "_ngl_msg_archive": [
        {
         "args": [
          {
           "binary": false,
           "data": "REMARK   1 CREATED WITH OPENMM 7.1.1, 2017-09-12\nCRYST1   25.580   25.580   25.580  90.00  90.00  90.00 P 1           1 \nHETATM    1  H1  ACE A   1      19.745   3.573  20.603  1.00  0.00           H  \nHETATM    2  CH3 ACE A   1      18.882   3.072  21.040  1.00  0.00           C  \nHETATM    3  H2  ACE A   1      19.299   2.583  21.920  1.00  0.00           H  \nHETATM    4  H3  ACE A   1      18.428   2.368  20.342  1.00  0.00           H  \nHETATM    5  C   ACE A   1      17.901   4.069  21.635  1.00  0.00           C  \nHETATM    6  O   ACE A   1      16.732   3.819  21.870  1.00  0.00           O  \nATOM      7  N   ALA A   2      18.376   5.305  21.721  1.00  0.00           N  \nATOM      8  H   ALA A   2      19.385   5.264  21.729  1.00  0.00           H  \nATOM      9  CA  ALA A   2      17.741   6.537  22.185  1.00  0.00           C  \nATOM     10  HA  ALA A   2      16.674   6.456  21.975  1.00  0.00           H  \nATOM     11  CB  ALA A   2      18.128   6.686  23.697  1.00  0.00           C  \nATOM     12  HB1 ALA A   2      17.646   7.564  24.127  1.00  0.00           H  \nATOM     13  HB2 ALA A   2      19.202   6.812  23.836  1.00  0.00           H  \nATOM     14  HB3 ALA A   2      17.804   5.840  24.302  1.00  0.00           H  \nATOM     15  C   ALA A   2      18.239   7.806  21.423  1.00  0.00           C  \nATOM     16  O   ALA A   2      19.120   7.699  20.619  1.00  0.00           O  \nHETATM   17  N   NME A   3      17.667   8.950  21.653  1.00  0.00           N  \nHETATM   18  H   NME A   3      16.917   8.869  22.326  1.00  0.00           H  \nHETATM   19  C   NME A   3      17.764  10.096  20.832  1.00  0.00           C  \nHETATM   20  H1  NME A   3      16.789  10.514  20.583  1.00  0.00           H  \nHETATM   21  H2  NME A   3      18.366  10.885  21.283  1.00  0.00           H  \nHETATM   22  H3  NME A   3      18.270   9.740  19.934  1.00  0.00           H  \nTER      23      NME A   3\n\nCONECT    1    2\nCONECT    2    5    1    3    4\nCONECT    3    2\nCONECT    4    2\nCONECT    5    2    6    7\nCONECT    6    5\nCONECT    7    5\nCONECT   15   17\nCONECT   17   15   19   18\nCONECT   18   17\nCONECT   19   20   21   22   17\nCONECT   20   19\nCONECT   21   19\nCONECT   22   19\nEND\n",
           "type": "blob"
          }
         ],
         "kwargs": {
          "defaultRepresentation": true,
          "ext": "pdb",
          "height": "400px",
          "width": "400px"
         },
         "methodName": "loadFile",
         "reconstruc_color_scheme": false,
         "target": "Stage",
         "type": "call_method"
        }
       ],
       "_ngl_original_stage_parameters": {
        "ambientColor": 14540253,
        "ambientIntensity": 0.2,
        "backgroundColor": "white",
        "cameraEyeSep": 0.3,
        "cameraFov": 40,
        "cameraType": "perspective",
        "clipDist": 10,
        "clipFar": 100,
        "clipMode": "scene",
        "clipNear": 0,
        "clipScale": "relative",
        "fogFar": 100,
        "fogNear": 50,
        "hoverTimeout": 0,
        "impostor": true,
        "lightColor": 14540253,
        "lightIntensity": 1,
        "mousePreset": "default",
        "panSpeed": 1,
        "quality": "medium",
        "rotateSpeed": 2,
        "sampleLevel": 0,
        "tooltip": true,
        "workerDefault": true,
        "zoomSpeed": 1.2
       },
       "_ngl_repr_dict": {
        "0": {
         "0": {
          "params": {
           "aspectRatio": 1.5,
           "assembly": "default",
           "bondScale": 0.3,
           "bondSpacing": 0.75,
           "clipCenter": {
            "x": 0,
            "y": 0,
            "z": 0
           },
           "clipNear": 0,
           "clipRadius": 0,
           "colorMode": "hcl",
           "colorReverse": false,
           "colorScale": "",
           "colorScheme": "element",
           "colorValue": 9474192,
           "cylinderOnly": false,
           "defaultAssembly": "",
           "depthWrite": true,
           "diffuse": 16777215,
           "diffuseInterior": false,
           "disableImpostor": false,
           "disablePicking": false,
           "flatShaded": false,
           "interiorColor": 2236962,
           "interiorDarkening": 0,
           "lazy": false,
           "lineOnly": false,
           "linewidth": 2,
           "matrix": {
            "elements": [
             1,
             0,
             0,
             0,
             0,
             1,
             0,
             0,
             0,
             0,
             1,
             0,
             0,
             0,
             0,
             1
            ]
           },
           "metalness": 0,
           "multipleBond": "off",
           "opacity": 1,
           "openEnded": true,
           "quality": "high",
           "radialSegments": 20,
           "radiusData": {},
           "radiusScale": 2,
           "radiusSize": 0.15,
           "radiusType": "size",
           "roughness": 0.4,
           "sele": "",
           "side": "double",
           "sphereDetail": 2,
           "useInteriorColor": true,
           "visible": true,
           "wireframe": false
          },
          "type": "ball+stick"
         }
        }
       },
       "_ngl_serialize": false,
       "_ngl_version": "2.2.2",
       "_ngl_view_id": [
        "ED7AD33E-E1B8-4D56-A756-C6DCD44C7445"
       ],
       "_player_dict": {},
       "_scene_position": {},
       "_scene_rotation": {},
       "_synced_model_ids": [],
       "_synced_repr_model_ids": [],
       "_view_height": "400px",
       "_view_width": "400px",
       "background": "white",
       "frame": 0,
       "gui_style": null,
       "layout": "IPY_MODEL_46ca40b3bc224451baebcc34180db020",
       "max_frame": 0,
       "n_components": 1,
       "picked": {}
      }
     },
     "16d8e06d113640e798500ade95e641f4": {
      "model_module": "@jupyter-widgets/controls",
      "model_module_version": "2.0.0",
      "model_name": "SliderStyleModel",
      "state": {
       "description_width": ""
      }
     },
     "17e51e7c0a8c491ebb0ff425c6d1a215": {
      "model_module": "@jupyter-widgets/controls",
      "model_module_version": "2.0.0",
      "model_name": "LinkModel",
      "state": {
       "source": [
        "IPY_MODEL_d651f01793fe4dd99ea2f748249f54e7",
        "value"
       ],
       "target": [
        "IPY_MODEL_c1d815f1b1c544a7849a82f4ea87b4bf",
        "frame"
       ]
      }
     },
     "183b2e5626e74a5b9a8bf09289701b86": {
      "model_module": "@jupyter-widgets/controls",
      "model_module_version": "2.0.0",
      "model_name": "LinkModel",
      "state": {
       "source": [
        "IPY_MODEL_aeb3c7f469634021a1e2ff0cf070b715",
        "max"
       ],
       "target": [
        "IPY_MODEL_5900c5e4da9a42bcb2ab279af3fc9f8c",
        "max_frame"
       ]
      }
     },
     "19623c59ecbe489d91547799bd263e7f": {
      "model_module": "@jupyter-widgets/controls",
      "model_module_version": "2.0.0",
      "model_name": "ImageModel",
      "state": {
       "layout": "IPY_MODEL_c25bd96da34e445399347dc01c382d61",
       "width": "900.0"
      }
     },
     "19f64b9a42094fd0bc235056333f189f": {
      "model_module": "@jupyter-widgets/controls",
      "model_module_version": "2.0.0",
      "model_name": "IntSliderModel",
      "state": {
       "behavior": "drag-tap",
       "layout": "IPY_MODEL_05f820ae4c3a45e089830dc345088755",
       "max": 0,
       "style": "IPY_MODEL_858acddd540c42b098f1f565122e03bf"
      }
     },
     "1b6a2e0cd3d04ef3b8c038a35eca41d4": {
      "model_module": "@jupyter-widgets/controls",
      "model_module_version": "2.0.0",
      "model_name": "LinkModel",
      "state": {
       "source": [
        "IPY_MODEL_1cd8be57a43d4317b369e14873249448",
        "max"
       ],
       "target": [
        "IPY_MODEL_d8880b4fa0294b109e63ada076b7c91c",
        "max_frame"
       ]
      }
     },
     "1b9f01f0341845c79391bc568a8f4be1": {
      "model_module": "@jupyter-widgets/controls",
      "model_module_version": "2.0.0",
      "model_name": "DescriptionStyleModel",
      "state": {
       "description_width": ""
      }
     },
     "1c4bea8211d64bdaab85cc7d8edc1506": {
      "model_module": "@jupyter-widgets/controls",
      "model_module_version": "2.0.0",
      "model_name": "SliderStyleModel",
      "state": {
       "description_width": ""
      }
     },
     "1cd8be57a43d4317b369e14873249448": {
      "model_module": "@jupyter-widgets/controls",
      "model_module_version": "2.0.0",
      "model_name": "PlayModel",
      "state": {
       "layout": "IPY_MODEL_42cb1d8a3c654f4fa26a63595805370a",
       "max": 0,
       "style": "IPY_MODEL_7c57f883783f42e19ec27b406a08ddb9"
      }
     },
     "1cecac729a9f413cbce31d5f889f7704": {
      "model_module": "@jupyter-widgets/base",
      "model_module_version": "2.0.0",
      "model_name": "LayoutModel",
      "state": {}
     },
     "1d5a8a5fff4c4d9697d4f7fe367bdef5": {
      "model_module": "@jupyter-widgets/controls",
      "model_module_version": "2.0.0",
      "model_name": "DescriptionStyleModel",
      "state": {
       "description_width": ""
      }
     },
     "1eb27e5bf951496680dee39b3cfdd0a3": {
      "model_module": "@jupyter-widgets/controls",
      "model_module_version": "2.0.0",
      "model_name": "IntSliderModel",
      "state": {
       "behavior": "drag-tap",
       "layout": "IPY_MODEL_50656e8ed6f54aca932c98cae39aeb8d",
       "max": 0,
       "style": "IPY_MODEL_f59f682247f3450fb063f96427095dc7"
      }
     },
     "1f1745dfa4cc4a87bc439007375eb42e": {
      "model_module": "@jupyter-widgets/base",
      "model_module_version": "2.0.0",
      "model_name": "LayoutModel",
      "state": {
       "width": "34px"
      }
     },
     "207b991f97b948faa2c3c422ed3992f8": {
      "model_module": "@jupyter-widgets/controls",
      "model_module_version": "2.0.0",
      "model_name": "LinkModel",
      "state": {
       "source": [
        "IPY_MODEL_ed6dc251667f45a1b870c1e493ee0f07",
        "max"
       ],
       "target": [
        "IPY_MODEL_72444bf220104dbb970e017432263ec2",
        "max_frame"
       ]
      }
     },
     "20f1c0f419cd49a3a72b6da3a37f9ca1": {
      "model_module": "@jupyter-widgets/base",
      "model_module_version": "2.0.0",
      "model_name": "LayoutModel",
      "state": {}
     },
     "210d75b10d8f4fbda7b9881fb1bd79db": {
      "model_module": "@jupyter-widgets/controls",
      "model_module_version": "2.0.0",
      "model_name": "ButtonModel",
      "state": {
       "icon": "compress",
       "layout": "IPY_MODEL_45e24b09a3634be7ab39c4a9814bf272",
       "style": "IPY_MODEL_02124f768de24257a6724af1fd4ac3bf",
       "tooltip": null
      }
     },
     "21b8e097583d4874aefb3e927445c53b": {
      "model_module": "@jupyter-widgets/controls",
      "model_module_version": "2.0.0",
      "model_name": "LinkModel",
      "state": {
       "source": [
        "IPY_MODEL_56f6e342f64746d5bcf37d032f7d661f",
        "value"
       ],
       "target": [
        "IPY_MODEL_9da21d8c9f594c28a7cc0df452b26b2c",
        "frame"
       ]
      }
     },
     "2203aa3d54ec4b8da6b884bbfd0b58e6": {
      "model_module": "@jupyter-widgets/controls",
      "model_module_version": "2.0.0",
      "model_name": "LinkModel",
      "state": {
       "source": [
        "IPY_MODEL_b8413f91f86541ab9ab03cb3e288f245",
        "value"
       ],
       "target": [
        "IPY_MODEL_9af2b04090184e1fbb393b89cf221950",
        "value"
       ]
      }
     },
     "24c021ed88db479fa1eb78d888440fc7": {
      "model_module": "@jupyter-widgets/base",
      "model_module_version": "2.0.0",
      "model_name": "LayoutModel",
      "state": {
       "width": "34px"
      }
     },
     "25433c3ccab3416d8bc4a8b345621dc9": {
      "model_module": "@jupyter-widgets/controls",
      "model_module_version": "2.0.0",
      "model_name": "LinkModel",
      "state": {
       "source": [
        "IPY_MODEL_1cd8be57a43d4317b369e14873249448",
        "value"
       ],
       "target": [
        "IPY_MODEL_77b5522d341f47a0a435ec51b12cc7c2",
        "value"
       ]
      }
     },
     "277d3b1470c44dbbbc24975029bc1d1c": {
      "model_module": "@jupyter-widgets/controls",
      "model_module_version": "2.0.0",
      "model_name": "LinkModel",
      "state": {
       "source": [
        "IPY_MODEL_b419aa5bc013452489ea2817d765fa29",
        "value"
       ],
       "target": [
        "IPY_MODEL_779f57667327467f8d58e12563e22074",
        "value"
       ]
      }
     },
     "29978c3d569c4512bfb339c0e3912e04": {
      "model_module": "@jupyter-widgets/base",
      "model_module_version": "2.0.0",
      "model_name": "LayoutModel",
      "state": {}
     },
     "2c639ca3323a41cea9a1f80acfc73203": {
      "model_module": "@jupyter-widgets/controls",
      "model_module_version": "2.0.0",
      "model_name": "LinkModel",
      "state": {
       "source": [
        "IPY_MODEL_47efd193ec254768b64fb9d231f9a6ad",
        "value"
       ],
       "target": [
        "IPY_MODEL_3d4170b6f81b478584982165c44edaee",
        "frame"
       ]
      }
     },
     "2d296a5158e8491591a02a62efd71a60": {
      "model_module": "@jupyter-widgets/controls",
      "model_module_version": "2.0.0",
      "model_name": "PlayModel",
      "state": {
       "layout": "IPY_MODEL_128334b52b284be9829f0a17186d7550",
       "max": 0,
       "style": "IPY_MODEL_a7479ab76bbc4a91bfbfe7e8643f13a6"
      }
     },
     "2d2cd0bf35bf4193a9a9954a53e6c7c2": {
      "model_module": "@jupyter-widgets/controls",
      "model_module_version": "2.0.0",
      "model_name": "LinkModel",
      "state": {
       "source": [
        "IPY_MODEL_56f6e342f64746d5bcf37d032f7d661f",
        "value"
       ],
       "target": [
        "IPY_MODEL_3209b2fb2298465f97a665d37e46a5bd",
        "value"
       ]
      }
     },
     "2d5d4af6cbe2442bae08c588590f71d6": {
      "model_module": "nglview-js-widgets",
      "model_module_version": "3.1.0",
      "model_name": "NGLModel",
      "state": {
       "_camera_orientation": [
        -5.07586935483644,
        -12.858368531603707,
        20.848954701382137,
        0,
        18.115633193897455,
        12.360874197050112,
        12.033853340100112,
        0,
        -16.487582825234746,
        17.54001570502005,
        6.80356265429099,
        0,
        -18.209500312805176,
        -6.626500129699707,
        -22.118000030517578,
        1
       ],
       "_camera_str": "orthographic",
       "_gui_theme": null,
       "_ibtn_fullscreen": "IPY_MODEL_e81125383f484c9cb27c24a5b1ff156a",
       "_igui": null,
       "_iplayer": "IPY_MODEL_98f72e7473e44828b55d46528f85cf02",
       "_ngl_color_dict": {},
       "_ngl_coordinate_resource": {},
       "_ngl_full_stage_parameters": {
        "ambientColor": 14540253,
        "ambientIntensity": 0.2,
        "backgroundColor": "white",
        "cameraEyeSep": 0.3,
        "cameraFov": 40,
        "cameraType": "perspective",
        "clipDist": 10,
        "clipFar": 100,
        "clipMode": "scene",
        "clipNear": 0,
        "clipScale": "relative",
        "fogFar": 100,
        "fogNear": 50,
        "hoverTimeout": 0,
        "impostor": true,
        "lightColor": 14540253,
        "lightIntensity": 1,
        "mousePreset": "default",
        "panSpeed": 1,
        "quality": "medium",
        "rotateSpeed": 2,
        "sampleLevel": 0,
        "tooltip": true,
        "workerDefault": true,
        "zoomSpeed": 1.2
       },
       "_ngl_msg_archive": [
        {
         "args": [
          {
           "binary": false,
           "data": "REMARK   1 CREATED WITH OPENMM 7.1.1, 2017-09-12\nCRYST1   25.580   25.580   25.580  90.00  90.00  90.00 P 1           1 \nHETATM    1  H1  ACE A   1      19.745   3.573  20.603  1.00  0.00           H  \nHETATM    2  CH3 ACE A   1      18.882   3.072  21.040  1.00  0.00           C  \nHETATM    3  H2  ACE A   1      19.299   2.583  21.920  1.00  0.00           H  \nHETATM    4  H3  ACE A   1      18.428   2.368  20.342  1.00  0.00           H  \nHETATM    5  C   ACE A   1      17.901   4.069  21.635  1.00  0.00           C  \nHETATM    6  O   ACE A   1      16.732   3.819  21.870  1.00  0.00           O  \nATOM      7  N   ALA A   2      18.376   5.305  21.721  1.00  0.00           N  \nATOM      8  H   ALA A   2      19.385   5.264  21.729  1.00  0.00           H  \nATOM      9  CA  ALA A   2      17.741   6.537  22.185  1.00  0.00           C  \nATOM     10  HA  ALA A   2      16.674   6.456  21.975  1.00  0.00           H  \nATOM     11  CB  ALA A   2      18.128   6.686  23.697  1.00  0.00           C  \nATOM     12  HB1 ALA A   2      17.646   7.564  24.127  1.00  0.00           H  \nATOM     13  HB2 ALA A   2      19.202   6.812  23.836  1.00  0.00           H  \nATOM     14  HB3 ALA A   2      17.804   5.840  24.302  1.00  0.00           H  \nATOM     15  C   ALA A   2      18.239   7.806  21.423  1.00  0.00           C  \nATOM     16  O   ALA A   2      19.120   7.699  20.619  1.00  0.00           O  \nHETATM   17  N   NME A   3      17.667   8.950  21.653  1.00  0.00           N  \nHETATM   18  H   NME A   3      16.917   8.869  22.326  1.00  0.00           H  \nHETATM   19  C   NME A   3      17.764  10.096  20.832  1.00  0.00           C  \nHETATM   20  H1  NME A   3      16.789  10.514  20.583  1.00  0.00           H  \nHETATM   21  H2  NME A   3      18.366  10.885  21.283  1.00  0.00           H  \nHETATM   22  H3  NME A   3      18.270   9.740  19.934  1.00  0.00           H  \nTER      23      NME A   3\n\nCONECT    1    2\nCONECT    2    5    1    3    4\nCONECT    3    2\nCONECT    4    2\nCONECT    5    2    6    7\nCONECT    6    5\nCONECT    7    5\nCONECT   15   17\nCONECT   17   15   19   18\nCONECT   18   17\nCONECT   19   20   21   22   17\nCONECT   20   19\nCONECT   21   19\nCONECT   22   19\nEND\n",
           "type": "blob"
          }
         ],
         "kwargs": {
          "defaultRepresentation": true,
          "ext": "pdb",
          "height": "400px",
          "width": "400px"
         },
         "methodName": "loadFile",
         "reconstruc_color_scheme": false,
         "target": "Stage",
         "type": "call_method"
        },
        {
         "args": [
          "ball+stick"
         ],
         "component_index": 0,
         "kwargs": {
          "aspectRatio": 1,
          "color": "#D55E00",
          "radius": 0.5,
          "sele": "@8,10,14,16"
         },
         "methodName": "addRepresentation",
         "reconstruc_color_scheme": false,
         "target": "compList",
         "type": "call_method"
        }
       ],
       "_ngl_original_stage_parameters": {
        "ambientColor": 14540253,
        "ambientIntensity": 0.2,
        "backgroundColor": "white",
        "cameraEyeSep": 0.3,
        "cameraFov": 40,
        "cameraType": "perspective",
        "clipDist": 10,
        "clipFar": 100,
        "clipMode": "scene",
        "clipNear": 0,
        "clipScale": "relative",
        "fogFar": 100,
        "fogNear": 50,
        "hoverTimeout": 0,
        "impostor": true,
        "lightColor": 14540253,
        "lightIntensity": 1,
        "mousePreset": "default",
        "panSpeed": 1,
        "quality": "medium",
        "rotateSpeed": 2,
        "sampleLevel": 0,
        "tooltip": true,
        "workerDefault": true,
        "zoomSpeed": 1.2
       },
       "_ngl_repr_dict": {
        "0": {
         "0": {
          "params": {
           "aspectRatio": 1.5,
           "assembly": "default",
           "bondScale": 0.3,
           "bondSpacing": 0.75,
           "clipCenter": {
            "x": 0,
            "y": 0,
            "z": 0
           },
           "clipNear": 0,
           "clipRadius": 0,
           "colorMode": "hcl",
           "colorReverse": false,
           "colorScale": "",
           "colorScheme": "element",
           "colorValue": 9474192,
           "cylinderOnly": false,
           "defaultAssembly": "",
           "depthWrite": true,
           "diffuse": 16777215,
           "diffuseInterior": false,
           "disableImpostor": false,
           "disablePicking": false,
           "flatShaded": false,
           "interiorColor": 2236962,
           "interiorDarkening": 0,
           "lazy": false,
           "lineOnly": false,
           "linewidth": 2,
           "matrix": {
            "elements": [
             1,
             0,
             0,
             0,
             0,
             1,
             0,
             0,
             0,
             0,
             1,
             0,
             0,
             0,
             0,
             1
            ]
           },
           "metalness": 0,
           "multipleBond": "off",
           "opacity": 1,
           "openEnded": true,
           "quality": "high",
           "radialSegments": 20,
           "radiusData": {},
           "radiusScale": 2,
           "radiusSize": 0.15,
           "radiusType": "size",
           "roughness": 0.4,
           "sele": "",
           "side": "double",
           "sphereDetail": 2,
           "useInteriorColor": true,
           "visible": true,
           "wireframe": false
          },
          "type": "ball+stick"
         },
         "1": {
          "params": {
           "aspectRatio": 1,
           "assembly": "default",
           "bondScale": 0.4,
           "bondSpacing": 1,
           "clipCenter": {
            "x": 0,
            "y": 0,
            "z": 0
           },
           "clipNear": 0,
           "clipRadius": 0,
           "colorMode": "hcl",
           "colorReverse": false,
           "colorScale": "",
           "colorScheme": "uniform",
           "colorValue": 13983232,
           "cylinderOnly": false,
           "defaultAssembly": "",
           "depthWrite": true,
           "diffuse": 16777215,
           "diffuseInterior": false,
           "disableImpostor": false,
           "disablePicking": false,
           "flatShaded": false,
           "interiorColor": 2236962,
           "interiorDarkening": 0,
           "lazy": false,
           "lineOnly": false,
           "linewidth": 2,
           "matrix": {
            "elements": [
             1,
             0,
             0,
             0,
             0,
             1,
             0,
             0,
             0,
             0,
             1,
             0,
             0,
             0,
             0,
             1
            ]
           },
           "metalness": 0,
           "multipleBond": "off",
           "opacity": 1,
           "openEnded": true,
           "quality": "medium",
           "radialSegments": 10,
           "radiusData": {},
           "radiusScale": 1,
           "radiusSize": 0.5,
           "radiusType": "size",
           "roughness": 0.4,
           "sele": "@8,10,14,16",
           "side": "double",
           "sphereDetail": 1,
           "useInteriorColor": true,
           "visible": true,
           "wireframe": false
          },
          "type": "ball+stick"
         }
        }
       },
       "_ngl_serialize": false,
       "_ngl_version": "2.2.2",
       "_ngl_view_id": [
        "1AA6975B-A1FD-4360-8364-C7EFCAB86BAD"
       ],
       "_player_dict": {},
       "_scene_position": {},
       "_scene_rotation": {},
       "_synced_model_ids": [],
       "_synced_repr_model_ids": [],
       "_view_height": "400px",
       "_view_width": "400px",
       "background": "white",
       "frame": 0,
       "gui_style": null,
       "layout": "IPY_MODEL_a2bf3c8caa1e4b8da394d8c44ea25e5a",
       "max_frame": 0,
       "n_components": 1,
       "picked": {}
      }
     },
     "2d739f601e9c48baaa5d2aaa8f4ddbd8": {
      "model_module": "@jupyter-widgets/base",
      "model_module_version": "2.0.0",
      "model_name": "LayoutModel",
      "state": {}
     },
     "2ef428c6c9cc423aa692c99833cc46cd": {
      "model_module": "@jupyter-widgets/controls",
      "model_module_version": "2.0.0",
      "model_name": "ImageModel",
      "state": {
       "layout": "IPY_MODEL_617cfded84cd4552ad9d8be4cecab128",
       "width": "900.0"
      }
     },
     "2fa5716fb7614f41b0a0b61f3191e6a4": {
      "model_module": "@jupyter-widgets/controls",
      "model_module_version": "2.0.0",
      "model_name": "DescriptionStyleModel",
      "state": {
       "description_width": ""
      }
     },
     "2ff4a9bc172a4e228d24d31710cb968d": {
      "model_module": "@jupyter-widgets/base",
      "model_module_version": "2.0.0",
      "model_name": "LayoutModel",
      "state": {}
     },
     "303f60d3b14140e5bb42e28820cb7a22": {
      "model_module": "@jupyter-widgets/controls",
      "model_module_version": "2.0.0",
      "model_name": "HBoxModel",
      "state": {
       "children": [
        "IPY_MODEL_8d09f232e33f45bb8a597f6bcd192bb0",
        "IPY_MODEL_943a6680c4454acaa7067cdb300e5783"
       ],
       "layout": "IPY_MODEL_3bdfd43cc5c6452f8a439dead214ec04"
      }
     },
     "30c9cd305e7244eab0efc8f34ce059c1": {
      "model_module": "@jupyter-widgets/controls",
      "model_module_version": "2.0.0",
      "model_name": "ButtonModel",
      "state": {
       "icon": "compress",
       "layout": "IPY_MODEL_b69075eb0308437cb1c0fcf19a58da21",
       "style": "IPY_MODEL_b52c173b7d3c4b7690e584781687ca8b",
       "tooltip": null
      }
     },
     "3114fd0d71094f43ad06ff46fc5b874e": {
      "model_module": "@jupyter-widgets/controls",
      "model_module_version": "2.0.0",
      "model_name": "LinkModel",
      "state": {
       "source": [
        "IPY_MODEL_0cef3e4683db4328908b208aeee56921",
        "value"
       ],
       "target": [
        "IPY_MODEL_b3a6370331e54f9bb575544091f5bfd5",
        "value"
       ]
      }
     },
     "31a522a9e8b441b3b7864e6ba8cd22b9": {
      "model_module": "@jupyter-widgets/controls",
      "model_module_version": "2.0.0",
      "model_name": "LinkModel",
      "state": {
       "source": [
        "IPY_MODEL_67b9a75ea22a4e259f51e545260603db",
        "max"
       ],
       "target": [
        "IPY_MODEL_5900c5e4da9a42bcb2ab279af3fc9f8c",
        "max_frame"
       ]
      }
     },
     "31e24cf5e290435eb09c7179cb742fec": {
      "model_module": "nglview-js-widgets",
      "model_module_version": "3.1.0",
      "model_name": "NGLModel",
      "state": {
       "_camera_orientation": [
        0.9002787172163562,
        -7.3429669319663,
        -24.069912847940238,
        0,
        -24.9525938578658,
        2.86263117787732,
        -1.8065913051642088,
        0,
        3.263116246133072,
        23.916031213718366,
        -7.173973305548882,
        0,
        -18.209500312805176,
        -6.626500129699707,
        -22.118000030517578,
        1
       ],
       "_camera_str": "orthographic",
       "_gui_theme": null,
       "_ibtn_fullscreen": "IPY_MODEL_83839a4a49154149bee29b1914b50360",
       "_igui": null,
       "_iplayer": "IPY_MODEL_303f60d3b14140e5bb42e28820cb7a22",
       "_ngl_color_dict": {},
       "_ngl_coordinate_resource": {},
       "_ngl_full_stage_parameters": {
        "ambientColor": 14540253,
        "ambientIntensity": 0.2,
        "backgroundColor": "white",
        "cameraEyeSep": 0.3,
        "cameraFov": 40,
        "cameraType": "perspective",
        "clipDist": 10,
        "clipFar": 100,
        "clipMode": "scene",
        "clipNear": 0,
        "clipScale": "relative",
        "fogFar": 100,
        "fogNear": 50,
        "hoverTimeout": 0,
        "impostor": true,
        "lightColor": 14540253,
        "lightIntensity": 1,
        "mousePreset": "default",
        "panSpeed": 1,
        "quality": "medium",
        "rotateSpeed": 2,
        "sampleLevel": 0,
        "tooltip": true,
        "workerDefault": true,
        "zoomSpeed": 1.2
       },
       "_ngl_msg_archive": [
        {
         "args": [
          {
           "binary": false,
           "data": "REMARK   1 CREATED WITH OPENMM 7.1.1, 2017-09-12\nCRYST1   25.580   25.580   25.580  90.00  90.00  90.00 P 1           1 \nHETATM    1  H1  ACE A   1      19.745   3.573  20.603  1.00  0.00           H  \nHETATM    2  CH3 ACE A   1      18.882   3.072  21.040  1.00  0.00           C  \nHETATM    3  H2  ACE A   1      19.299   2.583  21.920  1.00  0.00           H  \nHETATM    4  H3  ACE A   1      18.428   2.368  20.342  1.00  0.00           H  \nHETATM    5  C   ACE A   1      17.901   4.069  21.635  1.00  0.00           C  \nHETATM    6  O   ACE A   1      16.732   3.819  21.870  1.00  0.00           O  \nATOM      7  N   ALA A   2      18.376   5.305  21.721  1.00  0.00           N  \nATOM      8  H   ALA A   2      19.385   5.264  21.729  1.00  0.00           H  \nATOM      9  CA  ALA A   2      17.741   6.537  22.185  1.00  0.00           C  \nATOM     10  HA  ALA A   2      16.674   6.456  21.975  1.00  0.00           H  \nATOM     11  CB  ALA A   2      18.128   6.686  23.697  1.00  0.00           C  \nATOM     12  HB1 ALA A   2      17.646   7.564  24.127  1.00  0.00           H  \nATOM     13  HB2 ALA A   2      19.202   6.812  23.836  1.00  0.00           H  \nATOM     14  HB3 ALA A   2      17.804   5.840  24.302  1.00  0.00           H  \nATOM     15  C   ALA A   2      18.239   7.806  21.423  1.00  0.00           C  \nATOM     16  O   ALA A   2      19.120   7.699  20.619  1.00  0.00           O  \nHETATM   17  N   NME A   3      17.667   8.950  21.653  1.00  0.00           N  \nHETATM   18  H   NME A   3      16.917   8.869  22.326  1.00  0.00           H  \nHETATM   19  C   NME A   3      17.764  10.096  20.832  1.00  0.00           C  \nHETATM   20  H1  NME A   3      16.789  10.514  20.583  1.00  0.00           H  \nHETATM   21  H2  NME A   3      18.366  10.885  21.283  1.00  0.00           H  \nHETATM   22  H3  NME A   3      18.270   9.740  19.934  1.00  0.00           H  \nTER      23      NME A   3\n\nCONECT    1    2\nCONECT    2    5    1    3    4\nCONECT    3    2\nCONECT    4    2\nCONECT    5    2    6    7\nCONECT    6    5\nCONECT    7    5\nCONECT   15   17\nCONECT   17   15   19   18\nCONECT   18   17\nCONECT   19   20   21   22   17\nCONECT   20   19\nCONECT   21   19\nCONECT   22   19\nEND\n",
           "type": "blob"
          }
         ],
         "kwargs": {
          "defaultRepresentation": true,
          "ext": "pdb",
          "height": "400px",
          "width": "400px"
         },
         "methodName": "loadFile",
         "reconstruc_color_scheme": false,
         "target": "Stage",
         "type": "call_method"
        }
       ],
       "_ngl_original_stage_parameters": {
        "ambientColor": 14540253,
        "ambientIntensity": 0.2,
        "backgroundColor": "white",
        "cameraEyeSep": 0.3,
        "cameraFov": 40,
        "cameraType": "perspective",
        "clipDist": 10,
        "clipFar": 100,
        "clipMode": "scene",
        "clipNear": 0,
        "clipScale": "relative",
        "fogFar": 100,
        "fogNear": 50,
        "hoverTimeout": 0,
        "impostor": true,
        "lightColor": 14540253,
        "lightIntensity": 1,
        "mousePreset": "default",
        "panSpeed": 1,
        "quality": "medium",
        "rotateSpeed": 2,
        "sampleLevel": 0,
        "tooltip": true,
        "workerDefault": true,
        "zoomSpeed": 1.2
       },
       "_ngl_repr_dict": {
        "0": {
         "0": {
          "params": {
           "aspectRatio": 1.5,
           "assembly": "default",
           "bondScale": 0.3,
           "bondSpacing": 0.75,
           "clipCenter": {
            "x": 0,
            "y": 0,
            "z": 0
           },
           "clipNear": 0,
           "clipRadius": 0,
           "colorMode": "hcl",
           "colorReverse": false,
           "colorScale": "",
           "colorScheme": "element",
           "colorValue": 9474192,
           "cylinderOnly": false,
           "defaultAssembly": "",
           "depthWrite": true,
           "diffuse": 16777215,
           "diffuseInterior": false,
           "disableImpostor": false,
           "disablePicking": false,
           "flatShaded": false,
           "interiorColor": 2236962,
           "interiorDarkening": 0,
           "lazy": false,
           "lineOnly": false,
           "linewidth": 2,
           "matrix": {
            "elements": [
             1,
             0,
             0,
             0,
             0,
             1,
             0,
             0,
             0,
             0,
             1,
             0,
             0,
             0,
             0,
             1
            ]
           },
           "metalness": 0,
           "multipleBond": "off",
           "opacity": 1,
           "openEnded": true,
           "quality": "high",
           "radialSegments": 20,
           "radiusData": {},
           "radiusScale": 2,
           "radiusSize": 0.15,
           "radiusType": "size",
           "roughness": 0.4,
           "sele": "",
           "side": "double",
           "sphereDetail": 2,
           "useInteriorColor": true,
           "visible": true,
           "wireframe": false
          },
          "type": "ball+stick"
         }
        }
       },
       "_ngl_serialize": false,
       "_ngl_version": "2.2.2",
       "_ngl_view_id": [
        "2B0AD43A-30C7-4F53-87B3-D8327748073D"
       ],
       "_player_dict": {},
       "_scene_position": {},
       "_scene_rotation": {},
       "_synced_model_ids": [],
       "_synced_repr_model_ids": [],
       "_view_height": "400px",
       "_view_width": "400px",
       "background": "white",
       "frame": 0,
       "gui_style": null,
       "layout": "IPY_MODEL_e0a255a89195456c9763871471588292",
       "max_frame": 0,
       "n_components": 1,
       "picked": {}
      }
     },
     "3209b2fb2298465f97a665d37e46a5bd": {
      "model_module": "@jupyter-widgets/controls",
      "model_module_version": "2.0.0",
      "model_name": "IntSliderModel",
      "state": {
       "behavior": "drag-tap",
       "layout": "IPY_MODEL_73ab0430f8ac47b18436f5550982077e",
       "max": 0,
       "style": "IPY_MODEL_b4d1aa873fd840b4914952740035d3ac"
      }
     },
     "3212c24d8af446e883f1010d5459c2ec": {
      "model_module": "@jupyter-widgets/controls",
      "model_module_version": "2.0.0",
      "model_name": "LinkModel",
      "state": {
       "source": [
        "IPY_MODEL_6fd04e7d200e4b36a548b773e31bf321",
        "value"
       ],
       "target": [
        "IPY_MODEL_6ecf78935d074836a826b3368dc47f69",
        "frame"
       ]
      }
     },
     "32ed048a446a46dbba753f588470f69e": {
      "model_module": "@jupyter-widgets/base",
      "model_module_version": "2.0.0",
      "model_name": "LayoutModel",
      "state": {}
     },
     "3335c334e2d94bc3ae248a6aa5650a19": {
      "model_module": "nglview-js-widgets",
      "model_module_version": "3.1.0",
      "model_name": "NGLModel",
      "state": {
       "_camera_orientation": [
        18.13489690676069,
        -4.209158053634178,
        11.053963381558496,
        0,
        -4.632910376375663,
        16.089690916530834,
        13.727330091285406,
        0,
        -10.883164034681291,
        -13.863132346990454,
        12.575846130745925,
        0,
        -16.921000480651855,
        -5.099999904632568,
        -22.814499855041504,
        1
       ],
       "_camera_str": "orthographic",
       "_gui_theme": null,
       "_ibtn_fullscreen": "IPY_MODEL_60e7a3acbf4748cca9ed806048c381a8",
       "_igui": null,
       "_iplayer": "IPY_MODEL_9e9f4aa321574befa95cb2dfedfc339c",
       "_ngl_color_dict": {},
       "_ngl_coordinate_resource": {},
       "_ngl_full_stage_parameters": {
        "ambientColor": 14540253,
        "ambientIntensity": 0.2,
        "backgroundColor": "white",
        "cameraEyeSep": 0.3,
        "cameraFov": 40,
        "cameraType": "perspective",
        "clipDist": 10,
        "clipFar": 100,
        "clipMode": "scene",
        "clipNear": 0,
        "clipScale": "relative",
        "fogFar": 100,
        "fogNear": 50,
        "hoverTimeout": 0,
        "impostor": true,
        "lightColor": 14540253,
        "lightIntensity": 1,
        "mousePreset": "default",
        "panSpeed": 1,
        "quality": "medium",
        "rotateSpeed": 2,
        "sampleLevel": 0,
        "tooltip": true,
        "workerDefault": true,
        "zoomSpeed": 1.2
       },
       "_ngl_msg_archive": [
        {
         "args": [
          {
           "binary": false,
           "data": "HETATM    1  H1  ACE A   1      19.745   3.573  20.603  1.00  0.00           H  \nHETATM    2  CH3 ACE A   1      18.882   3.072  21.040  1.00  0.00           C  \nHETATM    3  H2  ACE A   1      19.299   2.583  21.920  1.00  0.00           H  \nHETATM    4  H3  ACE A   1      18.428   2.368  20.342  1.00  0.00           H  \nHETATM    5  C   ACE A   1      17.901   4.069  21.635  1.00  0.00           C  \nHETATM    6  O   ACE A   1      16.732   3.819  21.870  1.00  0.00           O  \nATOM      7  N   ALA A   2      18.376   5.305  21.721  1.00  0.00           N  \nATOM      8  H   ALA A   2      19.385   5.264  21.729  1.00  0.00           H  \nATOM      9  CA  ALA A   2      17.741   6.537  22.185  1.00  0.00           C  \nATOM     10  HA  ALA A   2      18.527   7.281  22.320  1.00  0.00           H  \nATOM     11  CB  ALA A   2      16.644   6.891  21.122  1.00  0.00           C  \nATOM     12  HB1 ALA A   2      16.158   7.832  21.378  1.00  0.00           H  \nATOM     13  HB2 ALA A   2      15.863   6.133  21.070  1.00  0.00           H  \nATOM     14  HB3 ALA A   2      17.053   7.027  20.122  1.00  0.00           H  \nATOM     15  C   ALA A   2      17.046   6.381  23.575  1.00  0.00           C  \nATOM     16  O   ALA A   2      17.706   6.451  24.572  1.00  0.00           O  \nHETATM   17  N   NME A   3      15.759   6.208  23.625  1.00  0.00           N  \nHETATM   18  H   NME A   3      15.341   6.211  22.705  1.00  0.00           H  \nHETATM   19  C   NME A   3      14.952   6.380  24.772  1.00  0.00           C  \nHETATM   20  H1  NME A   3      14.097   7.030  24.587  1.00  0.00           H  \nHETATM   21  H2  NME A   3      14.580   5.436  25.169  1.00  0.00           H  \nHETATM   22  H3  NME A   3      15.623   6.828  25.507  1.00  0.00           H  \nCONECT    1    2\nCONECT    2    3    4    5\nCONECT    5    6    7\nCONECT    7    8    9\nCONECT    9   10   11   15\nCONECT   11   12   13   14\nCONECT   15   16   16   17\nCONECT   17   18   19\nCONECT   19   20   21   22\nEND\n",
           "type": "blob"
          }
         ],
         "kwargs": {
          "defaultRepresentation": true,
          "ext": "pdb",
          "height": "400px",
          "width": "400px"
         },
         "methodName": "loadFile",
         "reconstruc_color_scheme": false,
         "target": "Stage",
         "type": "call_method"
        }
       ],
       "_ngl_original_stage_parameters": {
        "ambientColor": 14540253,
        "ambientIntensity": 0.2,
        "backgroundColor": "white",
        "cameraEyeSep": 0.3,
        "cameraFov": 40,
        "cameraType": "perspective",
        "clipDist": 10,
        "clipFar": 100,
        "clipMode": "scene",
        "clipNear": 0,
        "clipScale": "relative",
        "fogFar": 100,
        "fogNear": 50,
        "hoverTimeout": 0,
        "impostor": true,
        "lightColor": 14540253,
        "lightIntensity": 1,
        "mousePreset": "default",
        "panSpeed": 1,
        "quality": "medium",
        "rotateSpeed": 2,
        "sampleLevel": 0,
        "tooltip": true,
        "workerDefault": true,
        "zoomSpeed": 1.2
       },
       "_ngl_repr_dict": {
        "0": {
         "0": {
          "params": {
           "aspectRatio": 1.5,
           "assembly": "default",
           "bondScale": 0.3,
           "bondSpacing": 0.75,
           "clipCenter": {
            "x": 0,
            "y": 0,
            "z": 0
           },
           "clipNear": 0,
           "clipRadius": 0,
           "colorMode": "hcl",
           "colorReverse": false,
           "colorScale": "",
           "colorScheme": "element",
           "colorValue": 9474192,
           "cylinderOnly": false,
           "defaultAssembly": "",
           "depthWrite": true,
           "diffuse": 16777215,
           "diffuseInterior": false,
           "disableImpostor": false,
           "disablePicking": false,
           "flatShaded": false,
           "interiorColor": 2236962,
           "interiorDarkening": 0,
           "lazy": false,
           "lineOnly": false,
           "linewidth": 2,
           "matrix": {
            "elements": [
             1,
             0,
             0,
             0,
             0,
             1,
             0,
             0,
             0,
             0,
             1,
             0,
             0,
             0,
             0,
             1
            ]
           },
           "metalness": 0,
           "multipleBond": "off",
           "opacity": 1,
           "openEnded": true,
           "quality": "high",
           "radialSegments": 20,
           "radiusData": {},
           "radiusScale": 2,
           "radiusSize": 0.15,
           "radiusType": "size",
           "roughness": 0.4,
           "sele": "",
           "side": "double",
           "sphereDetail": 2,
           "useInteriorColor": true,
           "visible": true,
           "wireframe": false
          },
          "type": "ball+stick"
         }
        }
       },
       "_ngl_serialize": false,
       "_ngl_version": "2.2.2",
       "_ngl_view_id": [
        "17B31B3C-B0E8-4B24-A5DC-C3A147623C76"
       ],
       "_player_dict": {},
       "_scene_position": {},
       "_scene_rotation": {},
       "_synced_model_ids": [],
       "_synced_repr_model_ids": [],
       "_view_height": "400px",
       "_view_width": "400px",
       "background": "white",
       "frame": 0,
       "gui_style": null,
       "layout": "IPY_MODEL_058d2d40306d4aa4970110fb1624cf48",
       "max_frame": 0,
       "n_components": 1,
       "picked": {}
      }
     },
     "34c832a6535e45ab8327da3c3b178edc": {
      "model_module": "@jupyter-widgets/base",
      "model_module_version": "2.0.0",
      "model_name": "LayoutModel",
      "state": {}
     },
     "350e32363bed47bb9c4348ffb0b402a2": {
      "model_module": "@jupyter-widgets/base",
      "model_module_version": "2.0.0",
      "model_name": "LayoutModel",
      "state": {}
     },
     "3631d3407137421aa5e920a6743623b8": {
      "model_module": "@jupyter-widgets/base",
      "model_module_version": "2.0.0",
      "model_name": "LayoutModel",
      "state": {}
     },
     "36b791f568ad479db7b1e48ab9322b86": {
      "model_module": "@jupyter-widgets/base",
      "model_module_version": "2.0.0",
      "model_name": "LayoutModel",
      "state": {
       "width": "34px"
      }
     },
     "36edcd78ece849f78ed5005bf826d583": {
      "model_module": "@jupyter-widgets/base",
      "model_module_version": "2.0.0",
      "model_name": "LayoutModel",
      "state": {}
     },
     "377b5a7ab7ca4437a68badc07a1c4524": {
      "model_module": "nglview-js-widgets",
      "model_module_version": "3.1.0",
      "model_name": "NGLModel",
      "state": {
       "_camera_orientation": [
        25.01561518616277,
        0,
        0,
        0,
        0,
        25.01561518616277,
        0,
        0,
        0,
        0,
        25.01561518616277,
        0,
        -18.209500312805176,
        -6.626500129699707,
        -22.118000030517578,
        1
       ],
       "_camera_str": "orthographic",
       "_gui_theme": null,
       "_ibtn_fullscreen": "IPY_MODEL_e11a1b7a1b7c44c2b756b05b7439ed09",
       "_igui": null,
       "_iplayer": "IPY_MODEL_a8de953850814d71bef1c5d650bdaabe",
       "_ngl_color_dict": {},
       "_ngl_coordinate_resource": {},
       "_ngl_full_stage_parameters": {
        "ambientColor": 14540253,
        "ambientIntensity": 0.2,
        "backgroundColor": "white",
        "cameraEyeSep": 0.3,
        "cameraFov": 40,
        "cameraType": "perspective",
        "clipDist": 10,
        "clipFar": 100,
        "clipMode": "scene",
        "clipNear": 0,
        "clipScale": "relative",
        "fogFar": 100,
        "fogNear": 50,
        "hoverTimeout": 0,
        "impostor": true,
        "lightColor": 14540253,
        "lightIntensity": 1,
        "mousePreset": "default",
        "panSpeed": 1,
        "quality": "medium",
        "rotateSpeed": 2,
        "sampleLevel": 0,
        "tooltip": true,
        "workerDefault": true,
        "zoomSpeed": 1.2
       },
       "_ngl_msg_archive": [
        {
         "args": [
          {
           "binary": false,
           "data": "REMARK   1 CREATED WITH OPENMM 7.1.1, 2017-09-12\nCRYST1   25.580   25.580   25.580  90.00  90.00  90.00 P 1           1 \nHETATM    1  H1  ACE A   1      19.745   3.573  20.603  1.00  0.00           H  \nHETATM    2  CH3 ACE A   1      18.882   3.072  21.040  1.00  0.00           C  \nHETATM    3  H2  ACE A   1      19.299   2.583  21.920  1.00  0.00           H  \nHETATM    4  H3  ACE A   1      18.428   2.368  20.342  1.00  0.00           H  \nHETATM    5  C   ACE A   1      17.901   4.069  21.635  1.00  0.00           C  \nHETATM    6  O   ACE A   1      16.732   3.819  21.870  1.00  0.00           O  \nATOM      7  N   ALA A   2      18.376   5.305  21.721  1.00  0.00           N  \nATOM      8  H   ALA A   2      19.385   5.264  21.729  1.00  0.00           H  \nATOM      9  CA  ALA A   2      17.741   6.537  22.185  1.00  0.00           C  \nATOM     10  HA  ALA A   2      16.674   6.456  21.975  1.00  0.00           H  \nATOM     11  CB  ALA A   2      18.128   6.686  23.697  1.00  0.00           C  \nATOM     12  HB1 ALA A   2      17.646   7.564  24.127  1.00  0.00           H  \nATOM     13  HB2 ALA A   2      19.202   6.812  23.836  1.00  0.00           H  \nATOM     14  HB3 ALA A   2      17.804   5.840  24.302  1.00  0.00           H  \nATOM     15  C   ALA A   2      18.239   7.806  21.423  1.00  0.00           C  \nATOM     16  O   ALA A   2      19.120   7.699  20.619  1.00  0.00           O  \nHETATM   17  N   NME A   3      17.667   8.950  21.653  1.00  0.00           N  \nHETATM   18  H   NME A   3      16.917   8.869  22.326  1.00  0.00           H  \nHETATM   19  C   NME A   3      17.764  10.096  20.832  1.00  0.00           C  \nHETATM   20  H1  NME A   3      16.789  10.514  20.583  1.00  0.00           H  \nHETATM   21  H2  NME A   3      18.366  10.885  21.283  1.00  0.00           H  \nHETATM   22  H3  NME A   3      18.270   9.740  19.934  1.00  0.00           H  \nTER      23      NME A   3\n\nCONECT    1    2\nCONECT    2    5    1    3    4\nCONECT    3    2\nCONECT    4    2\nCONECT    5    2    6    7\nCONECT    6    5\nCONECT    7    5\nCONECT   15   17\nCONECT   17   15   19   18\nCONECT   18   17\nCONECT   19   20   21   22   17\nCONECT   20   19\nCONECT   21   19\nCONECT   22   19\nEND\n",
           "type": "blob"
          }
         ],
         "kwargs": {
          "defaultRepresentation": true,
          "ext": "pdb",
          "height": "400px",
          "width": "400px"
         },
         "methodName": "loadFile",
         "reconstruc_color_scheme": false,
         "target": "Stage",
         "type": "call_method"
        }
       ],
       "_ngl_original_stage_parameters": {
        "ambientColor": 14540253,
        "ambientIntensity": 0.2,
        "backgroundColor": "white",
        "cameraEyeSep": 0.3,
        "cameraFov": 40,
        "cameraType": "perspective",
        "clipDist": 10,
        "clipFar": 100,
        "clipMode": "scene",
        "clipNear": 0,
        "clipScale": "relative",
        "fogFar": 100,
        "fogNear": 50,
        "hoverTimeout": 0,
        "impostor": true,
        "lightColor": 14540253,
        "lightIntensity": 1,
        "mousePreset": "default",
        "panSpeed": 1,
        "quality": "medium",
        "rotateSpeed": 2,
        "sampleLevel": 0,
        "tooltip": true,
        "workerDefault": true,
        "zoomSpeed": 1.2
       },
       "_ngl_repr_dict": {
        "0": {
         "0": {
          "params": {
           "aspectRatio": 1.5,
           "assembly": "default",
           "bondScale": 0.3,
           "bondSpacing": 0.75,
           "clipCenter": {
            "x": 0,
            "y": 0,
            "z": 0
           },
           "clipNear": 0,
           "clipRadius": 0,
           "colorMode": "hcl",
           "colorReverse": false,
           "colorScale": "",
           "colorScheme": "element",
           "colorValue": 9474192,
           "cylinderOnly": false,
           "defaultAssembly": "",
           "depthWrite": true,
           "diffuse": 16777215,
           "diffuseInterior": false,
           "disableImpostor": false,
           "disablePicking": false,
           "flatShaded": false,
           "interiorColor": 2236962,
           "interiorDarkening": 0,
           "lazy": false,
           "lineOnly": false,
           "linewidth": 2,
           "matrix": {
            "elements": [
             1,
             0,
             0,
             0,
             0,
             1,
             0,
             0,
             0,
             0,
             1,
             0,
             0,
             0,
             0,
             1
            ]
           },
           "metalness": 0,
           "multipleBond": "off",
           "opacity": 1,
           "openEnded": true,
           "quality": "high",
           "radialSegments": 20,
           "radiusData": {},
           "radiusScale": 2,
           "radiusSize": 0.15,
           "radiusType": "size",
           "roughness": 0.4,
           "sele": "",
           "side": "double",
           "sphereDetail": 2,
           "useInteriorColor": true,
           "visible": true,
           "wireframe": false
          },
          "type": "ball+stick"
         }
        }
       },
       "_ngl_serialize": false,
       "_ngl_version": "2.2.2",
       "_ngl_view_id": [
        "9310B1A1-3D86-4236-9111-47369E89D3BC"
       ],
       "_player_dict": {},
       "_scene_position": {},
       "_scene_rotation": {},
       "_synced_model_ids": [],
       "_synced_repr_model_ids": [],
       "_view_height": "400px",
       "_view_width": "400px",
       "background": "white",
       "frame": 0,
       "gui_style": null,
       "layout": "IPY_MODEL_c6d309330e02452fa91534c280f7dfba",
       "max_frame": 0,
       "n_components": 1,
       "picked": {}
      }
     },
     "385aca72cd8e4181baae367a0fbc5b13": {
      "model_module": "@jupyter-widgets/controls",
      "model_module_version": "2.0.0",
      "model_name": "ImageModel",
      "state": {
       "layout": "IPY_MODEL_f2c01151bfb94552b0d3de237fa780cc",
       "width": "900.0"
      }
     },
     "38751be94ef644398247405a255a1cf2": {
      "model_module": "@jupyter-widgets/base",
      "model_module_version": "2.0.0",
      "model_name": "LayoutModel",
      "state": {
       "width": "34px"
      }
     },
     "3b20f493e97f4e67a33188976757bbd9": {
      "model_module": "@jupyter-widgets/controls",
      "model_module_version": "2.0.0",
      "model_name": "LinkModel",
      "state": {
       "source": [
        "IPY_MODEL_77b5522d341f47a0a435ec51b12cc7c2",
        "max"
       ],
       "target": [
        "IPY_MODEL_d8880b4fa0294b109e63ada076b7c91c",
        "max_frame"
       ]
      }
     },
     "3bdfd43cc5c6452f8a439dead214ec04": {
      "model_module": "@jupyter-widgets/base",
      "model_module_version": "2.0.0",
      "model_name": "LayoutModel",
      "state": {}
     },
     "3d4170b6f81b478584982165c44edaee": {
      "model_module": "nglview-js-widgets",
      "model_module_version": "3.1.0",
      "model_name": "NGLModel",
      "state": {
       "_camera_orientation": [],
       "_camera_str": "orthographic",
       "_gui_theme": null,
       "_ibtn_fullscreen": "IPY_MODEL_d271da311438493d865368e8e0bd0f6c",
       "_igui": null,
       "_iplayer": "IPY_MODEL_5b58f85f3b8c44ffb85893b874fb87bb",
       "_ngl_color_dict": {},
       "_ngl_coordinate_resource": {},
       "_ngl_full_stage_parameters": {},
       "_ngl_msg_archive": [
        {
         "args": [
          {
           "binary": false,
           "data": "REMARK   1 CREATED WITH OPENMM 7.1.1, 2017-09-12\nCRYST1   25.580   25.580   25.580  90.00  90.00  90.00 P 1           1 \nHETATM    1  H1  ACE A   1      19.745   3.573  20.603  1.00  0.00           H  \nHETATM    2  CH3 ACE A   1      18.882   3.072  21.040  1.00  0.00           C  \nHETATM    3  H2  ACE A   1      19.299   2.583  21.920  1.00  0.00           H  \nHETATM    4  H3  ACE A   1      18.428   2.368  20.342  1.00  0.00           H  \nHETATM    5  C   ACE A   1      17.901   4.069  21.635  1.00  0.00           C  \nHETATM    6  O   ACE A   1      16.732   3.819  21.870  1.00  0.00           O  \nATOM      7  N   ALA A   2      18.376   5.305  21.721  1.00  0.00           N  \nATOM      8  H   ALA A   2      19.385   5.264  21.729  1.00  0.00           H  \nATOM      9  CA  ALA A   2      17.741   6.537  22.185  1.00  0.00           C  \nATOM     10  HA  ALA A   2      16.674   6.456  21.975  1.00  0.00           H  \nATOM     11  CB  ALA A   2      18.128   6.686  23.697  1.00  0.00           C  \nATOM     12  HB1 ALA A   2      17.646   7.564  24.127  1.00  0.00           H  \nATOM     13  HB2 ALA A   2      19.202   6.812  23.836  1.00  0.00           H  \nATOM     14  HB3 ALA A   2      17.804   5.840  24.302  1.00  0.00           H  \nATOM     15  C   ALA A   2      18.239   7.806  21.423  1.00  0.00           C  \nATOM     16  O   ALA A   2      19.120   7.699  20.619  1.00  0.00           O  \nHETATM   17  N   NME A   3      17.667   8.950  21.653  1.00  0.00           N  \nHETATM   18  H   NME A   3      16.917   8.869  22.326  1.00  0.00           H  \nHETATM   19  C   NME A   3      17.764  10.096  20.832  1.00  0.00           C  \nHETATM   20  H1  NME A   3      16.789  10.514  20.583  1.00  0.00           H  \nHETATM   21  H2  NME A   3      18.366  10.885  21.283  1.00  0.00           H  \nHETATM   22  H3  NME A   3      18.270   9.740  19.934  1.00  0.00           H  \nTER      23      NME A   3\n\nCONECT    1    2\nCONECT    2    5    1    3    4\nCONECT    3    2\nCONECT    4    2\nCONECT    5    2    6    7\nCONECT    6    5\nCONECT    7    5\nCONECT   15   17\nCONECT   17   15   19   18\nCONECT   18   17\nCONECT   19   20   21   22   17\nCONECT   20   19\nCONECT   21   19\nCONECT   22   19\nEND\n",
           "type": "blob"
          }
         ],
         "kwargs": {
          "defaultRepresentation": true,
          "ext": "pdb",
          "height": "400px",
          "width": "400px"
         },
         "methodName": "loadFile",
         "reconstruc_color_scheme": false,
         "target": "Stage",
         "type": "call_method"
        }
       ],
       "_ngl_original_stage_parameters": {},
       "_ngl_repr_dict": {},
       "_ngl_serialize": false,
       "_ngl_version": "",
       "_ngl_view_id": [],
       "_player_dict": {},
       "_scene_position": {},
       "_scene_rotation": {},
       "_synced_model_ids": [],
       "_synced_repr_model_ids": [],
       "_view_height": "400px",
       "_view_width": "400px",
       "background": "white",
       "frame": 0,
       "gui_style": null,
       "layout": "IPY_MODEL_036bfe7242164e53917848a04da6faad",
       "max_frame": 0,
       "n_components": 0,
       "picked": {}
      }
     },
     "3e476e35b452435992d4b57865a02517": {
      "model_module": "@jupyter-widgets/base",
      "model_module_version": "2.0.0",
      "model_name": "LayoutModel",
      "state": {}
     },
     "4083a45e04d04077836ba3497ff82119": {
      "model_module": "@jupyter-widgets/controls",
      "model_module_version": "2.0.0",
      "model_name": "LinkModel",
      "state": {
       "source": [
        "IPY_MODEL_b8413f91f86541ab9ab03cb3e288f245",
        "max"
       ],
       "target": [
        "IPY_MODEL_bc0fa73f48774b52bf90613f3cf85bc9",
        "max_frame"
       ]
      }
     },
     "42404bc658634fbc85b99e7935026245": {
      "model_module": "@jupyter-widgets/controls",
      "model_module_version": "2.0.0",
      "model_name": "LinkModel",
      "state": {
       "source": [
        "IPY_MODEL_b3a6370331e54f9bb575544091f5bfd5",
        "max"
       ],
       "target": [
        "IPY_MODEL_c40d39a02e204ec8aacf619f759809d2",
        "max_frame"
       ]
      }
     },
     "42b2ea69f06b4e02b27ebe13a1238190": {
      "model_module": "@jupyter-widgets/base",
      "model_module_version": "2.0.0",
      "model_name": "LayoutModel",
      "state": {}
     },
     "42cb1d8a3c654f4fa26a63595805370a": {
      "model_module": "@jupyter-widgets/base",
      "model_module_version": "2.0.0",
      "model_name": "LayoutModel",
      "state": {}
     },
     "44d9fc46686445a4b5b8a3116afcb65e": {
      "model_module": "@jupyter-widgets/controls",
      "model_module_version": "2.0.0",
      "model_name": "DescriptionStyleModel",
      "state": {
       "description_width": ""
      }
     },
     "45e24b09a3634be7ab39c4a9814bf272": {
      "model_module": "@jupyter-widgets/base",
      "model_module_version": "2.0.0",
      "model_name": "LayoutModel",
      "state": {
       "width": "34px"
      }
     },
     "46ca40b3bc224451baebcc34180db020": {
      "model_module": "@jupyter-widgets/base",
      "model_module_version": "2.0.0",
      "model_name": "LayoutModel",
      "state": {}
     },
     "4799d9f83f864e0abf5c5955abe441a0": {
      "model_module": "@jupyter-widgets/controls",
      "model_module_version": "2.0.0",
      "model_name": "ButtonStyleModel",
      "state": {
       "font_family": null,
       "font_size": null,
       "font_style": null,
       "font_variant": null,
       "font_weight": null,
       "text_color": null,
       "text_decoration": null
      }
     },
     "47efd193ec254768b64fb9d231f9a6ad": {
      "model_module": "@jupyter-widgets/controls",
      "model_module_version": "2.0.0",
      "model_name": "PlayModel",
      "state": {
       "layout": "IPY_MODEL_a883424ada57419e9dd752d7a0802ef4",
       "max": 0,
       "style": "IPY_MODEL_ade5f0260ee54340a143770e8800515a"
      }
     },
     "47f59259205942be93e17fb96504f8e2": {
      "model_module": "@jupyter-widgets/base",
      "model_module_version": "2.0.0",
      "model_name": "LayoutModel",
      "state": {}
     },
     "47fc44ad92714f768eaf04917a38bf0d": {
      "model_module": "@jupyter-widgets/controls",
      "model_module_version": "2.0.0",
      "model_name": "ButtonModel",
      "state": {
       "icon": "compress",
       "layout": "IPY_MODEL_a99d6136b18547e5a4c6733e900dce1c",
       "style": "IPY_MODEL_e55d4a23fefc4ffe8fc86b61875c9b75",
       "tooltip": null
      }
     },
     "4956e8bbd98946c6b444bc74d714fac4": {
      "model_module": "@jupyter-widgets/base",
      "model_module_version": "2.0.0",
      "model_name": "LayoutModel",
      "state": {
       "width": "34px"
      }
     },
     "4b0c7432c9fc4a47ba170dd29724bf7a": {
      "model_module": "@jupyter-widgets/base",
      "model_module_version": "2.0.0",
      "model_name": "LayoutModel",
      "state": {}
     },
     "4c07db59637d4c79b4fd72483799795e": {
      "model_module": "@jupyter-widgets/base",
      "model_module_version": "2.0.0",
      "model_name": "LayoutModel",
      "state": {
       "width": "34px"
      }
     },
     "4c43f4e37714443881331bfd73963389": {
      "model_module": "@jupyter-widgets/base",
      "model_module_version": "2.0.0",
      "model_name": "LayoutModel",
      "state": {}
     },
     "4c6c4a0bf1e749d0b3008dece5105c08": {
      "model_module": "@jupyter-widgets/controls",
      "model_module_version": "2.0.0",
      "model_name": "ImageModel",
      "state": {
       "layout": "IPY_MODEL_0c46e326d2404773964fbb986317c805",
       "width": "900.0"
      }
     },
     "4ceb2dd46c2f40249b56b2d108384885": {
      "model_module": "@jupyter-widgets/controls",
      "model_module_version": "2.0.0",
      "model_name": "LinkModel",
      "state": {
       "source": [
        "IPY_MODEL_5e95e454b19b4d3cbf4207cb18398c5e",
        "value"
       ],
       "target": [
        "IPY_MODEL_e810c5f7aa854ac1b2af0ec1a13c1dbe",
        "value"
       ]
      }
     },
     "50656e8ed6f54aca932c98cae39aeb8d": {
      "model_module": "@jupyter-widgets/base",
      "model_module_version": "2.0.0",
      "model_name": "LayoutModel",
      "state": {}
     },
     "51878e4d47914c839200d84674d1984a": {
      "model_module": "@jupyter-widgets/base",
      "model_module_version": "2.0.0",
      "model_name": "LayoutModel",
      "state": {}
     },
     "521c0253e61048cabdb3fd02d0f1899a": {
      "model_module": "@jupyter-widgets/base",
      "model_module_version": "2.0.0",
      "model_name": "LayoutModel",
      "state": {}
     },
     "52389e091edf4f189818e9e1e1088ede": {
      "model_module": "@jupyter-widgets/controls",
      "model_module_version": "2.0.0",
      "model_name": "LinkModel",
      "state": {
       "source": [
        "IPY_MODEL_47efd193ec254768b64fb9d231f9a6ad",
        "max"
       ],
       "target": [
        "IPY_MODEL_3d4170b6f81b478584982165c44edaee",
        "max_frame"
       ]
      }
     },
     "5380fe22357240bfb5d5944984294d6a": {
      "model_module": "@jupyter-widgets/controls",
      "model_module_version": "2.0.0",
      "model_name": "ButtonStyleModel",
      "state": {
       "font_family": null,
       "font_size": null,
       "font_style": null,
       "font_variant": null,
       "font_weight": null,
       "text_color": null,
       "text_decoration": null
      }
     },
     "53a7b5c456944f92ad4cb430809eb7f0": {
      "model_module": "@jupyter-widgets/controls",
      "model_module_version": "2.0.0",
      "model_name": "ImageModel",
      "state": {
       "layout": "IPY_MODEL_a8db0f4f7829498fa4e59bb987f59922",
       "width": "900.0"
      }
     },
     "551de15ea01047ec8f4c1de65a0d279d": {
      "model_module": "@jupyter-widgets/base",
      "model_module_version": "2.0.0",
      "model_name": "LayoutModel",
      "state": {}
     },
     "55f23793e8c74b51931aef4ad34f1e9a": {
      "model_module": "@jupyter-widgets/controls",
      "model_module_version": "2.0.0",
      "model_name": "LinkModel",
      "state": {
       "source": [
        "IPY_MODEL_943a6680c4454acaa7067cdb300e5783",
        "max"
       ],
       "target": [
        "IPY_MODEL_31e24cf5e290435eb09c7179cb742fec",
        "max_frame"
       ]
      }
     },
     "56f6e342f64746d5bcf37d032f7d661f": {
      "model_module": "@jupyter-widgets/controls",
      "model_module_version": "2.0.0",
      "model_name": "PlayModel",
      "state": {
       "layout": "IPY_MODEL_6a463ae70775413b917f5212e3b170fa",
       "max": 0,
       "style": "IPY_MODEL_100d2bba98b14482873adaea7aa4d584"
      }
     },
     "57b85a200a5c44ffb1b615ad9f199e5c": {
      "model_module": "@jupyter-widgets/base",
      "model_module_version": "2.0.0",
      "model_name": "LayoutModel",
      "state": {}
     },
     "5822abe878cc4f59bc3416c6edd44623": {
      "model_module": "@jupyter-widgets/base",
      "model_module_version": "2.0.0",
      "model_name": "LayoutModel",
      "state": {}
     },
     "589cafd115754973aa6777bc8aaa828c": {
      "model_module": "@jupyter-widgets/controls",
      "model_module_version": "2.0.0",
      "model_name": "PlayModel",
      "state": {
       "layout": "IPY_MODEL_04a1c56634f744fd9b4350b4af1ee9ba",
       "max": 0,
       "style": "IPY_MODEL_b9632003349a46cd958969ad62823ae2"
      }
     },
     "58fd821b708748e89aef97017c7def24": {
      "model_module": "@jupyter-widgets/controls",
      "model_module_version": "2.0.0",
      "model_name": "IntSliderModel",
      "state": {
       "behavior": "drag-tap",
       "layout": "IPY_MODEL_57b85a200a5c44ffb1b615ad9f199e5c",
       "max": 0,
       "style": "IPY_MODEL_5907f0f1ea844dfc810c4daa653d689e"
      }
     },
     "5900c5e4da9a42bcb2ab279af3fc9f8c": {
      "model_module": "nglview-js-widgets",
      "model_module_version": "3.1.0",
      "model_name": "NGLModel",
      "state": {
       "_camera_orientation": [
        -1.9469418838401895,
        6.660242846211058,
        24.033967331105085,
        0,
        24.939112832414963,
        0.3495383195413218,
        1.9234025157059949,
        0,
        0.1762713113379175,
        24.11016365217886,
        -6.667078838001868,
        0,
        -18.209500312805176,
        -6.626500129699707,
        -22.118000030517578,
        1
       ],
       "_camera_str": "orthographic",
       "_gui_theme": null,
       "_ibtn_fullscreen": "IPY_MODEL_6d179af5035b4ca89d69c9e64e4503ac",
       "_igui": null,
       "_iplayer": "IPY_MODEL_d58eb26c447d4133aca267f0bc6cc1c6",
       "_ngl_color_dict": {},
       "_ngl_coordinate_resource": {},
       "_ngl_full_stage_parameters": {
        "ambientColor": 14540253,
        "ambientIntensity": 0.2,
        "backgroundColor": "white",
        "cameraEyeSep": 0.3,
        "cameraFov": 40,
        "cameraType": "perspective",
        "clipDist": 10,
        "clipFar": 100,
        "clipMode": "scene",
        "clipNear": 0,
        "clipScale": "relative",
        "fogFar": 100,
        "fogNear": 50,
        "hoverTimeout": 0,
        "impostor": true,
        "lightColor": 14540253,
        "lightIntensity": 1,
        "mousePreset": "default",
        "panSpeed": 1,
        "quality": "medium",
        "rotateSpeed": 2,
        "sampleLevel": 0,
        "tooltip": true,
        "workerDefault": true,
        "zoomSpeed": 1.2
       },
       "_ngl_msg_archive": [
        {
         "args": [
          {
           "binary": false,
           "data": "REMARK   1 CREATED WITH OPENMM 7.1.1, 2017-09-12\nCRYST1   25.580   25.580   25.580  90.00  90.00  90.00 P 1           1 \nHETATM    1  H1  ACE A   1      19.745   3.573  20.603  1.00  0.00           H  \nHETATM    2  CH3 ACE A   1      18.882   3.072  21.040  1.00  0.00           C  \nHETATM    3  H2  ACE A   1      19.299   2.583  21.920  1.00  0.00           H  \nHETATM    4  H3  ACE A   1      18.428   2.368  20.342  1.00  0.00           H  \nHETATM    5  C   ACE A   1      17.901   4.069  21.635  1.00  0.00           C  \nHETATM    6  O   ACE A   1      16.732   3.819  21.870  1.00  0.00           O  \nATOM      7  N   ALA A   2      18.376   5.305  21.721  1.00  0.00           N  \nATOM      8  H   ALA A   2      19.385   5.264  21.729  1.00  0.00           H  \nATOM      9  CA  ALA A   2      17.741   6.537  22.185  1.00  0.00           C  \nATOM     10  HA  ALA A   2      16.674   6.456  21.975  1.00  0.00           H  \nATOM     11  CB  ALA A   2      18.128   6.686  23.697  1.00  0.00           C  \nATOM     12  HB1 ALA A   2      17.646   7.564  24.127  1.00  0.00           H  \nATOM     13  HB2 ALA A   2      19.202   6.812  23.836  1.00  0.00           H  \nATOM     14  HB3 ALA A   2      17.804   5.840  24.302  1.00  0.00           H  \nATOM     15  C   ALA A   2      18.239   7.806  21.423  1.00  0.00           C  \nATOM     16  O   ALA A   2      19.120   7.699  20.619  1.00  0.00           O  \nHETATM   17  N   NME A   3      17.667   8.950  21.653  1.00  0.00           N  \nHETATM   18  H   NME A   3      16.917   8.869  22.326  1.00  0.00           H  \nHETATM   19  C   NME A   3      17.764  10.096  20.832  1.00  0.00           C  \nHETATM   20  H1  NME A   3      16.789  10.514  20.583  1.00  0.00           H  \nHETATM   21  H2  NME A   3      18.366  10.885  21.283  1.00  0.00           H  \nHETATM   22  H3  NME A   3      18.270   9.740  19.934  1.00  0.00           H  \nTER      23      NME A   3\n\nCONECT    1    2\nCONECT    2    5    1    3    4\nCONECT    3    2\nCONECT    4    2\nCONECT    5    2    6    7\nCONECT    6    5\nCONECT    7    5\nCONECT   15   17\nCONECT   17   15   19   18\nCONECT   18   17\nCONECT   19   20   21   22   17\nCONECT   20   19\nCONECT   21   19\nCONECT   22   19\nEND\n",
           "type": "blob"
          }
         ],
         "kwargs": {
          "defaultRepresentation": true,
          "ext": "pdb",
          "height": "400px",
          "width": "400px"
         },
         "methodName": "loadFile",
         "reconstruc_color_scheme": false,
         "target": "Stage",
         "type": "call_method"
        },
        {
         "args": [
          "ball+stick"
         ],
         "component_index": 0,
         "kwargs": {
          "aspectRatio": 1,
          "color": "#FEC220",
          "radius": 0.5,
          "sele": "@8,10,14,16"
         },
         "methodName": "addRepresentation",
         "reconstruc_color_scheme": false,
         "target": "compList",
         "type": "call_method"
        }
       ],
       "_ngl_original_stage_parameters": {
        "ambientColor": 14540253,
        "ambientIntensity": 0.2,
        "backgroundColor": "white",
        "cameraEyeSep": 0.3,
        "cameraFov": 40,
        "cameraType": "perspective",
        "clipDist": 10,
        "clipFar": 100,
        "clipMode": "scene",
        "clipNear": 0,
        "clipScale": "relative",
        "fogFar": 100,
        "fogNear": 50,
        "hoverTimeout": 0,
        "impostor": true,
        "lightColor": 14540253,
        "lightIntensity": 1,
        "mousePreset": "default",
        "panSpeed": 1,
        "quality": "medium",
        "rotateSpeed": 2,
        "sampleLevel": 0,
        "tooltip": true,
        "workerDefault": true,
        "zoomSpeed": 1.2
       },
       "_ngl_repr_dict": {
        "0": {
         "0": {
          "params": {
           "aspectRatio": 1.5,
           "assembly": "default",
           "bondScale": 0.3,
           "bondSpacing": 0.75,
           "clipCenter": {
            "x": 0,
            "y": 0,
            "z": 0
           },
           "clipNear": 0,
           "clipRadius": 0,
           "colorMode": "hcl",
           "colorReverse": false,
           "colorScale": "",
           "colorScheme": "element",
           "colorValue": 9474192,
           "cylinderOnly": false,
           "defaultAssembly": "",
           "depthWrite": true,
           "diffuse": 16777215,
           "diffuseInterior": false,
           "disableImpostor": false,
           "disablePicking": false,
           "flatShaded": false,
           "interiorColor": 2236962,
           "interiorDarkening": 0,
           "lazy": false,
           "lineOnly": false,
           "linewidth": 2,
           "matrix": {
            "elements": [
             1,
             0,
             0,
             0,
             0,
             1,
             0,
             0,
             0,
             0,
             1,
             0,
             0,
             0,
             0,
             1
            ]
           },
           "metalness": 0,
           "multipleBond": "off",
           "opacity": 1,
           "openEnded": true,
           "quality": "high",
           "radialSegments": 20,
           "radiusData": {},
           "radiusScale": 2,
           "radiusSize": 0.15,
           "radiusType": "size",
           "roughness": 0.4,
           "sele": "",
           "side": "double",
           "sphereDetail": 2,
           "useInteriorColor": true,
           "visible": true,
           "wireframe": false
          },
          "type": "ball+stick"
         },
         "1": {
          "params": {
           "aspectRatio": 1,
           "assembly": "default",
           "bondScale": 0.4,
           "bondSpacing": 1,
           "clipCenter": {
            "x": 0,
            "y": 0,
            "z": 0
           },
           "clipNear": 0,
           "clipRadius": 0,
           "colorMode": "hcl",
           "colorReverse": false,
           "colorScale": "",
           "colorScheme": "uniform",
           "colorValue": 16695840,
           "cylinderOnly": false,
           "defaultAssembly": "",
           "depthWrite": true,
           "diffuse": 16777215,
           "diffuseInterior": false,
           "disableImpostor": false,
           "disablePicking": false,
           "flatShaded": false,
           "interiorColor": 2236962,
           "interiorDarkening": 0,
           "lazy": false,
           "lineOnly": false,
           "linewidth": 2,
           "matrix": {
            "elements": [
             1,
             0,
             0,
             0,
             0,
             1,
             0,
             0,
             0,
             0,
             1,
             0,
             0,
             0,
             0,
             1
            ]
           },
           "metalness": 0,
           "multipleBond": "off",
           "opacity": 1,
           "openEnded": true,
           "quality": "medium",
           "radialSegments": 10,
           "radiusData": {},
           "radiusScale": 1,
           "radiusSize": 0.5,
           "radiusType": "size",
           "roughness": 0.4,
           "sele": "@8,10,14,16",
           "side": "double",
           "sphereDetail": 1,
           "useInteriorColor": true,
           "visible": true,
           "wireframe": false
          },
          "type": "ball+stick"
         }
        }
       },
       "_ngl_serialize": false,
       "_ngl_version": "2.2.2",
       "_ngl_view_id": [
        "18898291-1999-4348-BC0F-013428624D63"
       ],
       "_player_dict": {},
       "_scene_position": {},
       "_scene_rotation": {},
       "_synced_model_ids": [],
       "_synced_repr_model_ids": [],
       "_view_height": "400px",
       "_view_width": "400px",
       "background": "white",
       "frame": 0,
       "gui_style": null,
       "layout": "IPY_MODEL_e491a447bc7c44319082ed4a1e4020f7",
       "max_frame": 0,
       "n_components": 1,
       "picked": {}
      }
     },
     "5907f0f1ea844dfc810c4daa653d689e": {
      "model_module": "@jupyter-widgets/controls",
      "model_module_version": "2.0.0",
      "model_name": "SliderStyleModel",
      "state": {
       "description_width": ""
      }
     },
     "59907498ea304786ae347751018d2a80": {
      "model_module": "@jupyter-widgets/base",
      "model_module_version": "2.0.0",
      "model_name": "LayoutModel",
      "state": {}
     },
     "59c75e11686f4500b66035bcd6cede29": {
      "model_module": "@jupyter-widgets/base",
      "model_module_version": "2.0.0",
      "model_name": "LayoutModel",
      "state": {}
     },
     "5a559c9215ca42bd910c467c04832479": {
      "model_module": "@jupyter-widgets/base",
      "model_module_version": "2.0.0",
      "model_name": "LayoutModel",
      "state": {}
     },
     "5a5dcfcca4844d93ba1c8cf9d157ca25": {
      "model_module": "@jupyter-widgets/controls",
      "model_module_version": "2.0.0",
      "model_name": "ButtonModel",
      "state": {
       "icon": "compress",
       "layout": "IPY_MODEL_1f1745dfa4cc4a87bc439007375eb42e",
       "style": "IPY_MODEL_f4c919cb8fa942889b128840ee94744f",
       "tooltip": null
      }
     },
     "5b58f85f3b8c44ffb85893b874fb87bb": {
      "model_module": "@jupyter-widgets/controls",
      "model_module_version": "2.0.0",
      "model_name": "HBoxModel",
      "state": {
       "children": [
        "IPY_MODEL_47efd193ec254768b64fb9d231f9a6ad",
        "IPY_MODEL_dc4f6a4b762a4431a743c8f23c83d930"
       ],
       "layout": "IPY_MODEL_2d739f601e9c48baaa5d2aaa8f4ddbd8"
      }
     },
     "5c10fcbc17b14bd087686dcf9532e8f9": {
      "model_module": "@jupyter-widgets/controls",
      "model_module_version": "2.0.0",
      "model_name": "PlayModel",
      "state": {
       "layout": "IPY_MODEL_77983fdcd3e84318b137e5e040b7d00e",
       "max": 0,
       "style": "IPY_MODEL_1b9f01f0341845c79391bc568a8f4be1"
      }
     },
     "5c416133df5c406ab99800edcf0b13fc": {
      "model_module": "@jupyter-widgets/base",
      "model_module_version": "2.0.0",
      "model_name": "LayoutModel",
      "state": {}
     },
     "5d17e6e10f9f4a6397800784cc6d8fbe": {
      "model_module": "@jupyter-widgets/base",
      "model_module_version": "2.0.0",
      "model_name": "LayoutModel",
      "state": {}
     },
     "5e95e454b19b4d3cbf4207cb18398c5e": {
      "model_module": "@jupyter-widgets/controls",
      "model_module_version": "2.0.0",
      "model_name": "PlayModel",
      "state": {
       "layout": "IPY_MODEL_6d0825449cde42988e63310cc29cdaf3",
       "max": 0,
       "style": "IPY_MODEL_bb6d036d024747f988f3be77ea2f4fdc"
      }
     },
     "5f3b37ec51bf4d4a8a3f3b8ab7301204": {
      "model_module": "@jupyter-widgets/controls",
      "model_module_version": "2.0.0",
      "model_name": "DescriptionStyleModel",
      "state": {
       "description_width": ""
      }
     },
     "60a6f7319d44431eb51c443d53360832": {
      "model_module": "@jupyter-widgets/base",
      "model_module_version": "2.0.0",
      "model_name": "LayoutModel",
      "state": {}
     },
     "60e7a3acbf4748cca9ed806048c381a8": {
      "model_module": "@jupyter-widgets/controls",
      "model_module_version": "2.0.0",
      "model_name": "ButtonModel",
      "state": {
       "icon": "compress",
       "layout": "IPY_MODEL_b0537c86677c4409a05415de4bb5a50b",
       "style": "IPY_MODEL_4799d9f83f864e0abf5c5955abe441a0",
       "tooltip": null
      }
     },
     "617cfded84cd4552ad9d8be4cecab128": {
      "model_module": "@jupyter-widgets/base",
      "model_module_version": "2.0.0",
      "model_name": "LayoutModel",
      "state": {}
     },
     "625b84ae355f4dc799e9a77076d4cb1b": {
      "model_module": "@jupyter-widgets/controls",
      "model_module_version": "2.0.0",
      "model_name": "SliderStyleModel",
      "state": {
       "description_width": ""
      }
     },
     "62cd61280c104c5d93d9583b2bf27f8a": {
      "model_module": "nglview-js-widgets",
      "model_module_version": "3.1.0",
      "model_name": "NGLModel",
      "state": {
       "_camera_orientation": [
        0.29864417544499844,
        -11.643740452828881,
        22.138543833455042,
        0,
        23.351312348237382,
        8.066650551292557,
        3.927640976536232,
        0,
        -8.967052270044372,
        20.61876476156288,
        10.96537807992975,
        0,
        -18.209500312805176,
        -6.626500129699707,
        -22.118000030517578,
        1
       ],
       "_camera_str": "orthographic",
       "_gui_theme": null,
       "_ibtn_fullscreen": "IPY_MODEL_74cb764382a14496847c68c52ff95a19",
       "_igui": null,
       "_iplayer": "IPY_MODEL_c1c7a4d3eeee47729bc66a0c70b58905",
       "_ngl_color_dict": {},
       "_ngl_coordinate_resource": {},
       "_ngl_full_stage_parameters": {
        "ambientColor": 14540253,
        "ambientIntensity": 0.2,
        "backgroundColor": "white",
        "cameraEyeSep": 0.3,
        "cameraFov": 40,
        "cameraType": "perspective",
        "clipDist": 10,
        "clipFar": 100,
        "clipMode": "scene",
        "clipNear": 0,
        "clipScale": "relative",
        "fogFar": 100,
        "fogNear": 50,
        "hoverTimeout": 0,
        "impostor": true,
        "lightColor": 14540253,
        "lightIntensity": 1,
        "mousePreset": "default",
        "panSpeed": 1,
        "quality": "medium",
        "rotateSpeed": 2,
        "sampleLevel": 0,
        "tooltip": true,
        "workerDefault": true,
        "zoomSpeed": 1.2
       },
       "_ngl_msg_archive": [
        {
         "args": [
          {
           "binary": false,
           "data": "REMARK   1 CREATED WITH OPENMM 7.1.1, 2017-09-12\nCRYST1   25.580   25.580   25.580  90.00  90.00  90.00 P 1           1 \nHETATM    1  H1  ACE A   1      19.745   3.573  20.603  1.00  0.00           H  \nHETATM    2  CH3 ACE A   1      18.882   3.072  21.040  1.00  0.00           C  \nHETATM    3  H2  ACE A   1      19.299   2.583  21.920  1.00  0.00           H  \nHETATM    4  H3  ACE A   1      18.428   2.368  20.342  1.00  0.00           H  \nHETATM    5  C   ACE A   1      17.901   4.069  21.635  1.00  0.00           C  \nHETATM    6  O   ACE A   1      16.732   3.819  21.870  1.00  0.00           O  \nATOM      7  N   ALA A   2      18.376   5.305  21.721  1.00  0.00           N  \nATOM      8  H   ALA A   2      19.385   5.264  21.729  1.00  0.00           H  \nATOM      9  CA  ALA A   2      17.741   6.537  22.185  1.00  0.00           C  \nATOM     10  HA  ALA A   2      16.674   6.456  21.975  1.00  0.00           H  \nATOM     11  CB  ALA A   2      18.128   6.686  23.697  1.00  0.00           C  \nATOM     12  HB1 ALA A   2      17.646   7.564  24.127  1.00  0.00           H  \nATOM     13  HB2 ALA A   2      19.202   6.812  23.836  1.00  0.00           H  \nATOM     14  HB3 ALA A   2      17.804   5.840  24.302  1.00  0.00           H  \nATOM     15  C   ALA A   2      18.239   7.806  21.423  1.00  0.00           C  \nATOM     16  O   ALA A   2      19.120   7.699  20.619  1.00  0.00           O  \nHETATM   17  N   NME A   3      17.667   8.950  21.653  1.00  0.00           N  \nHETATM   18  H   NME A   3      16.917   8.869  22.326  1.00  0.00           H  \nHETATM   19  C   NME A   3      17.764  10.096  20.832  1.00  0.00           C  \nHETATM   20  H1  NME A   3      16.789  10.514  20.583  1.00  0.00           H  \nHETATM   21  H2  NME A   3      18.366  10.885  21.283  1.00  0.00           H  \nHETATM   22  H3  NME A   3      18.270   9.740  19.934  1.00  0.00           H  \nTER      23      NME A   3\n\nCONECT    1    2\nCONECT    2    5    1    3    4\nCONECT    3    2\nCONECT    4    2\nCONECT    5    2    6    7\nCONECT    6    5\nCONECT    7    5\nCONECT   15   17\nCONECT   17   15   19   18\nCONECT   18   17\nCONECT   19   20   21   22   17\nCONECT   20   19\nCONECT   21   19\nCONECT   22   19\nEND\n",
           "type": "blob"
          }
         ],
         "kwargs": {
          "defaultRepresentation": true,
          "ext": "pdb",
          "height": "400px",
          "width": "400px"
         },
         "methodName": "loadFile",
         "reconstruc_color_scheme": false,
         "target": "Stage",
         "type": "call_method"
        },
        {
         "args": [
          "ball+stick"
         ],
         "component_index": 0,
         "kwargs": {
          "aspectRatio": 1,
          "color": "#D55E00",
          "radius": 0.5,
          "sele": "@10,8,14,16"
         },
         "methodName": "addRepresentation",
         "reconstruc_color_scheme": false,
         "target": "compList",
         "type": "call_method"
        }
       ],
       "_ngl_original_stage_parameters": {
        "ambientColor": 14540253,
        "ambientIntensity": 0.2,
        "backgroundColor": "white",
        "cameraEyeSep": 0.3,
        "cameraFov": 40,
        "cameraType": "perspective",
        "clipDist": 10,
        "clipFar": 100,
        "clipMode": "scene",
        "clipNear": 0,
        "clipScale": "relative",
        "fogFar": 100,
        "fogNear": 50,
        "hoverTimeout": 0,
        "impostor": true,
        "lightColor": 14540253,
        "lightIntensity": 1,
        "mousePreset": "default",
        "panSpeed": 1,
        "quality": "medium",
        "rotateSpeed": 2,
        "sampleLevel": 0,
        "tooltip": true,
        "workerDefault": true,
        "zoomSpeed": 1.2
       },
       "_ngl_repr_dict": {
        "0": {
         "0": {
          "params": {
           "aspectRatio": 1.5,
           "assembly": "default",
           "bondScale": 0.3,
           "bondSpacing": 0.75,
           "clipCenter": {
            "x": 0,
            "y": 0,
            "z": 0
           },
           "clipNear": 0,
           "clipRadius": 0,
           "colorMode": "hcl",
           "colorReverse": false,
           "colorScale": "",
           "colorScheme": "element",
           "colorValue": 9474192,
           "cylinderOnly": false,
           "defaultAssembly": "",
           "depthWrite": true,
           "diffuse": 16777215,
           "diffuseInterior": false,
           "disableImpostor": false,
           "disablePicking": false,
           "flatShaded": false,
           "interiorColor": 2236962,
           "interiorDarkening": 0,
           "lazy": false,
           "lineOnly": false,
           "linewidth": 2,
           "matrix": {
            "elements": [
             1,
             0,
             0,
             0,
             0,
             1,
             0,
             0,
             0,
             0,
             1,
             0,
             0,
             0,
             0,
             1
            ]
           },
           "metalness": 0,
           "multipleBond": "off",
           "opacity": 1,
           "openEnded": true,
           "quality": "high",
           "radialSegments": 20,
           "radiusData": {},
           "radiusScale": 2,
           "radiusSize": 0.15,
           "radiusType": "size",
           "roughness": 0.4,
           "sele": "",
           "side": "double",
           "sphereDetail": 2,
           "useInteriorColor": true,
           "visible": true,
           "wireframe": false
          },
          "type": "ball+stick"
         },
         "1": {
          "params": {
           "aspectRatio": 1,
           "assembly": "default",
           "bondScale": 0.4,
           "bondSpacing": 1,
           "clipCenter": {
            "x": 0,
            "y": 0,
            "z": 0
           },
           "clipNear": 0,
           "clipRadius": 0,
           "colorMode": "hcl",
           "colorReverse": false,
           "colorScale": "",
           "colorScheme": "uniform",
           "colorValue": 13983232,
           "cylinderOnly": false,
           "defaultAssembly": "",
           "depthWrite": true,
           "diffuse": 16777215,
           "diffuseInterior": false,
           "disableImpostor": false,
           "disablePicking": false,
           "flatShaded": false,
           "interiorColor": 2236962,
           "interiorDarkening": 0,
           "lazy": false,
           "lineOnly": false,
           "linewidth": 2,
           "matrix": {
            "elements": [
             1,
             0,
             0,
             0,
             0,
             1,
             0,
             0,
             0,
             0,
             1,
             0,
             0,
             0,
             0,
             1
            ]
           },
           "metalness": 0,
           "multipleBond": "off",
           "opacity": 1,
           "openEnded": true,
           "quality": "medium",
           "radialSegments": 10,
           "radiusData": {},
           "radiusScale": 1,
           "radiusSize": 0.5,
           "radiusType": "size",
           "roughness": 0.4,
           "sele": "@10,8,14,16",
           "side": "double",
           "sphereDetail": 1,
           "useInteriorColor": true,
           "visible": true,
           "wireframe": false
          },
          "type": "ball+stick"
         }
        }
       },
       "_ngl_serialize": false,
       "_ngl_version": "2.2.2",
       "_ngl_view_id": [
        "52CD8E97-30B4-4D63-8928-55EB5A35C320"
       ],
       "_player_dict": {},
       "_scene_position": {},
       "_scene_rotation": {},
       "_synced_model_ids": [],
       "_synced_repr_model_ids": [],
       "_view_height": "400px",
       "_view_width": "400px",
       "background": "white",
       "frame": 0,
       "gui_style": null,
       "layout": "IPY_MODEL_5d17e6e10f9f4a6397800784cc6d8fbe",
       "max_frame": 0,
       "n_components": 1,
       "picked": {}
      }
     },
     "643bbb3d485344619f0f1e885e37b1dc": {
      "model_module": "nglview-js-widgets",
      "model_module_version": "3.1.0",
      "model_name": "NGLModel",
      "state": {
       "_camera_orientation": [],
       "_camera_str": "orthographic",
       "_gui_theme": null,
       "_ibtn_fullscreen": "IPY_MODEL_c70161db26a14d28ae9b1bd31e9fcc1b",
       "_igui": null,
       "_iplayer": "IPY_MODEL_dbe20f9cc5ce492997323ae1dc2f5632",
       "_ngl_color_dict": {},
       "_ngl_coordinate_resource": {},
       "_ngl_full_stage_parameters": {},
       "_ngl_msg_archive": [
        {
         "args": [
          {
           "binary": false,
           "data": "REMARK   1 CREATED WITH OPENMM 7.1.1, 2017-09-12\nCRYST1   25.580   25.580   25.580  90.00  90.00  90.00 P 1           1 \nHETATM    1  H1  ACE A   1      19.745   3.573  20.603  1.00  0.00           H  \nHETATM    2  CH3 ACE A   1      18.882   3.072  21.040  1.00  0.00           C  \nHETATM    3  H2  ACE A   1      19.299   2.583  21.920  1.00  0.00           H  \nHETATM    4  H3  ACE A   1      18.428   2.368  20.342  1.00  0.00           H  \nHETATM    5  C   ACE A   1      17.901   4.069  21.635  1.00  0.00           C  \nHETATM    6  O   ACE A   1      16.732   3.819  21.870  1.00  0.00           O  \nATOM      7  N   ALA A   2      18.376   5.305  21.721  1.00  0.00           N  \nATOM      8  H   ALA A   2      19.385   5.264  21.729  1.00  0.00           H  \nATOM      9  CA  ALA A   2      17.741   6.537  22.185  1.00  0.00           C  \nATOM     10  HA  ALA A   2      16.674   6.456  21.975  1.00  0.00           H  \nATOM     11  CB  ALA A   2      18.128   6.686  23.697  1.00  0.00           C  \nATOM     12  HB1 ALA A   2      17.646   7.564  24.127  1.00  0.00           H  \nATOM     13  HB2 ALA A   2      19.202   6.812  23.836  1.00  0.00           H  \nATOM     14  HB3 ALA A   2      17.804   5.840  24.302  1.00  0.00           H  \nATOM     15  C   ALA A   2      18.239   7.806  21.423  1.00  0.00           C  \nATOM     16  O   ALA A   2      19.120   7.699  20.619  1.00  0.00           O  \nHETATM   17  N   NME A   3      17.667   8.950  21.653  1.00  0.00           N  \nHETATM   18  H   NME A   3      16.917   8.869  22.326  1.00  0.00           H  \nHETATM   19  C   NME A   3      17.764  10.096  20.832  1.00  0.00           C  \nHETATM   20  H1  NME A   3      16.789  10.514  20.583  1.00  0.00           H  \nHETATM   21  H2  NME A   3      18.366  10.885  21.283  1.00  0.00           H  \nHETATM   22  H3  NME A   3      18.270   9.740  19.934  1.00  0.00           H  \nTER      23      NME A   3\n\nCONECT    1    2\nCONECT    2    5    1    3    4\nCONECT    3    2\nCONECT    4    2\nCONECT    5    2    6    7\nCONECT    6    5\nCONECT    7    5\nCONECT   15   17\nCONECT   17   15   19   18\nCONECT   18   17\nCONECT   19   20   21   22   17\nCONECT   20   19\nCONECT   21   19\nCONECT   22   19\nEND\n",
           "type": "blob"
          }
         ],
         "kwargs": {
          "defaultRepresentation": true,
          "ext": "pdb",
          "height": "400px",
          "width": "400px"
         },
         "methodName": "loadFile",
         "reconstruc_color_scheme": false,
         "target": "Stage",
         "type": "call_method"
        }
       ],
       "_ngl_original_stage_parameters": {},
       "_ngl_repr_dict": {},
       "_ngl_serialize": false,
       "_ngl_version": "",
       "_ngl_view_id": [],
       "_player_dict": {},
       "_scene_position": {},
       "_scene_rotation": {},
       "_synced_model_ids": [],
       "_synced_repr_model_ids": [],
       "_view_height": "400px",
       "_view_width": "400px",
       "background": "white",
       "frame": 0,
       "gui_style": null,
       "layout": "IPY_MODEL_f3b02e145a2740a885083fb8e0aa9993",
       "max_frame": 0,
       "n_components": 0,
       "picked": {}
      }
     },
     "6491ca0e716e44c1801992b4373e34c5": {
      "model_module": "@jupyter-widgets/controls",
      "model_module_version": "2.0.0",
      "model_name": "ImageModel",
      "state": {
       "layout": "IPY_MODEL_6f41e86f131148b1ba9dac4ccd1c1c39",
       "width": "900.0"
      }
     },
     "64b029960a164831b5d5246548e26c9a": {
      "model_module": "@jupyter-widgets/controls",
      "model_module_version": "2.0.0",
      "model_name": "ImageModel",
      "state": {
       "layout": "IPY_MODEL_875084a8d2a345c1bc062dd9c8b679f4",
       "width": "900.0"
      }
     },
     "64e3dfac98c040fbbe9c7292ff0f2025": {
      "model_module": "@jupyter-widgets/base",
      "model_module_version": "2.0.0",
      "model_name": "LayoutModel",
      "state": {}
     },
     "663314a6312c4842b8b82f6872607e9d": {
      "model_module": "@jupyter-widgets/controls",
      "model_module_version": "2.0.0",
      "model_name": "LinkModel",
      "state": {
       "source": [
        "IPY_MODEL_8353400e32c84958802905b1f651fc45",
        "value"
       ],
       "target": [
        "IPY_MODEL_62cd61280c104c5d93d9583b2bf27f8a",
        "frame"
       ]
      }
     },
     "6638493a9bda4ebcb6e705a5cd72625c": {
      "model_module": "@jupyter-widgets/controls",
      "model_module_version": "2.0.0",
      "model_name": "HBoxModel",
      "state": {
       "children": [
        "IPY_MODEL_589cafd115754973aa6777bc8aaa828c",
        "IPY_MODEL_19f64b9a42094fd0bc235056333f189f"
       ],
       "layout": "IPY_MODEL_eb541553faad4524bd4ee633ab59b430"
      }
     },
     "67b9a75ea22a4e259f51e545260603db": {
      "model_module": "@jupyter-widgets/controls",
      "model_module_version": "2.0.0",
      "model_name": "PlayModel",
      "state": {
       "layout": "IPY_MODEL_fd1c892c37724fd191181741662bf12c",
       "max": 0,
       "style": "IPY_MODEL_9fe6cf1065a84a3bb3d8bacf488acd3d"
      }
     },
     "6920755d7cdc4fb6bfde118f354ab30b": {
      "model_module": "@jupyter-widgets/controls",
      "model_module_version": "2.0.0",
      "model_name": "LinkModel",
      "state": {
       "source": [
        "IPY_MODEL_cea921147a884becb2a18721fd6358db",
        "value"
       ],
       "target": [
        "IPY_MODEL_b75e7062c34e42ec9571415450d3594d",
        "value"
       ]
      }
     },
     "6a463ae70775413b917f5212e3b170fa": {
      "model_module": "@jupyter-widgets/base",
      "model_module_version": "2.0.0",
      "model_name": "LayoutModel",
      "state": {}
     },
     "6a6cf74e5d0b4ef9a9b6f17c23413c0f": {
      "model_module": "@jupyter-widgets/controls",
      "model_module_version": "2.0.0",
      "model_name": "HBoxModel",
      "state": {
       "children": [
        "IPY_MODEL_6fd04e7d200e4b36a548b773e31bf321",
        "IPY_MODEL_700bd24fa2164f3890b79b4cbc68fbab"
       ],
       "layout": "IPY_MODEL_e4e6ba8cd68a44d384617e5dd1d28f1d"
      }
     },
     "6a84b1fc176f43f6acf94e4d9d14aa24": {
      "model_module": "@jupyter-widgets/controls",
      "model_module_version": "2.0.0",
      "model_name": "DescriptionStyleModel",
      "state": {
       "description_width": ""
      }
     },
     "6a9a89d7ceab4f8f8eb0e444270611dd": {
      "model_module": "@jupyter-widgets/controls",
      "model_module_version": "2.0.0",
      "model_name": "ButtonStyleModel",
      "state": {
       "font_family": null,
       "font_size": null,
       "font_style": null,
       "font_variant": null,
       "font_weight": null,
       "text_color": null,
       "text_decoration": null
      }
     },
     "6bd1bf01c0af48818a186499a9d10c20": {
      "model_module": "@jupyter-widgets/controls",
      "model_module_version": "2.0.0",
      "model_name": "DescriptionStyleModel",
      "state": {
       "description_width": ""
      }
     },
     "6cc1a45502c64ed6be3cc698b5742270": {
      "model_module": "@jupyter-widgets/controls",
      "model_module_version": "2.0.0",
      "model_name": "LinkModel",
      "state": {
       "source": [
        "IPY_MODEL_2d296a5158e8491591a02a62efd71a60",
        "value"
       ],
       "target": [
        "IPY_MODEL_15d25f71e76f4a6ab866021ae8b730ca",
        "frame"
       ]
      }
     },
     "6d0825449cde42988e63310cc29cdaf3": {
      "model_module": "@jupyter-widgets/base",
      "model_module_version": "2.0.0",
      "model_name": "LayoutModel",
      "state": {}
     },
     "6d179af5035b4ca89d69c9e64e4503ac": {
      "model_module": "@jupyter-widgets/controls",
      "model_module_version": "2.0.0",
      "model_name": "ButtonModel",
      "state": {
       "icon": "compress",
       "layout": "IPY_MODEL_8de1af6b836c4157a4bf3a0d6d272372",
       "style": "IPY_MODEL_08261e553792478394eb83c5a94137ac",
       "tooltip": null
      }
     },
     "6d8795b1d2b547d2b0ac0472082be06b": {
      "model_module": "@jupyter-widgets/controls",
      "model_module_version": "2.0.0",
      "model_name": "ButtonStyleModel",
      "state": {
       "font_family": null,
       "font_size": null,
       "font_style": null,
       "font_variant": null,
       "font_weight": null,
       "text_color": null,
       "text_decoration": null
      }
     },
     "6e38d5c606c2487696e0568ab03fbc74": {
      "model_module": "@jupyter-widgets/base",
      "model_module_version": "2.0.0",
      "model_name": "LayoutModel",
      "state": {}
     },
     "6ecf78935d074836a826b3368dc47f69": {
      "model_module": "nglview-js-widgets",
      "model_module_version": "3.1.0",
      "model_name": "NGLModel",
      "state": {
       "_camera_orientation": [
        20.281080689280518,
        2.0637308239157774,
        -14.49826832085568,
        0,
        -13.969562131076152,
        10.15784799507706,
        -18.095592311861516,
        0,
        4.394326237673111,
        22.76708462534298,
        9.387798342613179,
        0,
        -18.209500312805176,
        -6.626500129699707,
        -22.118000030517578,
        1
       ],
       "_camera_str": "orthographic",
       "_gui_theme": null,
       "_ibtn_fullscreen": "IPY_MODEL_5a5dcfcca4844d93ba1c8cf9d157ca25",
       "_igui": null,
       "_iplayer": "IPY_MODEL_6a6cf74e5d0b4ef9a9b6f17c23413c0f",
       "_ngl_color_dict": {},
       "_ngl_coordinate_resource": {},
       "_ngl_full_stage_parameters": {
        "ambientColor": 14540253,
        "ambientIntensity": 0.2,
        "backgroundColor": "white",
        "cameraEyeSep": 0.3,
        "cameraFov": 40,
        "cameraType": "perspective",
        "clipDist": 10,
        "clipFar": 100,
        "clipMode": "scene",
        "clipNear": 0,
        "clipScale": "relative",
        "fogFar": 100,
        "fogNear": 50,
        "hoverTimeout": 0,
        "impostor": true,
        "lightColor": 14540253,
        "lightIntensity": 1,
        "mousePreset": "default",
        "panSpeed": 1,
        "quality": "medium",
        "rotateSpeed": 2,
        "sampleLevel": 0,
        "tooltip": true,
        "workerDefault": true,
        "zoomSpeed": 1.2
       },
       "_ngl_msg_archive": [
        {
         "args": [
          {
           "binary": false,
           "data": "REMARK   1 CREATED WITH OPENMM 7.1.1, 2017-09-12\nCRYST1   25.580   25.580   25.580  90.00  90.00  90.00 P 1           1 \nHETATM    1  H1  ACE A   1      19.745   3.573  20.603  1.00  0.00           H  \nHETATM    2  CH3 ACE A   1      18.882   3.072  21.040  1.00  0.00           C  \nHETATM    3  H2  ACE A   1      19.299   2.583  21.920  1.00  0.00           H  \nHETATM    4  H3  ACE A   1      18.428   2.368  20.342  1.00  0.00           H  \nHETATM    5  C   ACE A   1      17.901   4.069  21.635  1.00  0.00           C  \nHETATM    6  O   ACE A   1      16.732   3.819  21.870  1.00  0.00           O  \nATOM      7  N   ALA A   2      18.376   5.305  21.721  1.00  0.00           N  \nATOM      8  H   ALA A   2      19.385   5.264  21.729  1.00  0.00           H  \nATOM      9  CA  ALA A   2      17.741   6.537  22.185  1.00  0.00           C  \nATOM     10  HA  ALA A   2      16.674   6.456  21.975  1.00  0.00           H  \nATOM     11  CB  ALA A   2      18.128   6.686  23.697  1.00  0.00           C  \nATOM     12  HB1 ALA A   2      17.646   7.564  24.127  1.00  0.00           H  \nATOM     13  HB2 ALA A   2      19.202   6.812  23.836  1.00  0.00           H  \nATOM     14  HB3 ALA A   2      17.804   5.840  24.302  1.00  0.00           H  \nATOM     15  C   ALA A   2      18.239   7.806  21.423  1.00  0.00           C  \nATOM     16  O   ALA A   2      19.120   7.699  20.619  1.00  0.00           O  \nHETATM   17  N   NME A   3      17.667   8.950  21.653  1.00  0.00           N  \nHETATM   18  H   NME A   3      16.917   8.869  22.326  1.00  0.00           H  \nHETATM   19  C   NME A   3      17.764  10.096  20.832  1.00  0.00           C  \nHETATM   20  H1  NME A   3      16.789  10.514  20.583  1.00  0.00           H  \nHETATM   21  H2  NME A   3      18.366  10.885  21.283  1.00  0.00           H  \nHETATM   22  H3  NME A   3      18.270   9.740  19.934  1.00  0.00           H  \nTER      23      NME A   3\n\nCONECT    1    2\nCONECT    2    5    1    3    4\nCONECT    3    2\nCONECT    4    2\nCONECT    5    2    6    7\nCONECT    6    5\nCONECT    7    5\nCONECT   15   17\nCONECT   17   15   19   18\nCONECT   18   17\nCONECT   19   20   21   22   17\nCONECT   20   19\nCONECT   21   19\nCONECT   22   19\nEND\n",
           "type": "blob"
          }
         ],
         "kwargs": {
          "defaultRepresentation": true,
          "ext": "pdb",
          "height": "400px",
          "width": "400px"
         },
         "methodName": "loadFile",
         "reconstruc_color_scheme": false,
         "target": "Stage",
         "type": "call_method"
        }
       ],
       "_ngl_original_stage_parameters": {
        "ambientColor": 14540253,
        "ambientIntensity": 0.2,
        "backgroundColor": "white",
        "cameraEyeSep": 0.3,
        "cameraFov": 40,
        "cameraType": "perspective",
        "clipDist": 10,
        "clipFar": 100,
        "clipMode": "scene",
        "clipNear": 0,
        "clipScale": "relative",
        "fogFar": 100,
        "fogNear": 50,
        "hoverTimeout": 0,
        "impostor": true,
        "lightColor": 14540253,
        "lightIntensity": 1,
        "mousePreset": "default",
        "panSpeed": 1,
        "quality": "medium",
        "rotateSpeed": 2,
        "sampleLevel": 0,
        "tooltip": true,
        "workerDefault": true,
        "zoomSpeed": 1.2
       },
       "_ngl_repr_dict": {
        "0": {
         "0": {
          "params": {
           "aspectRatio": 1.5,
           "assembly": "default",
           "bondScale": 0.3,
           "bondSpacing": 0.75,
           "clipCenter": {
            "x": 0,
            "y": 0,
            "z": 0
           },
           "clipNear": 0,
           "clipRadius": 0,
           "colorMode": "hcl",
           "colorReverse": false,
           "colorScale": "",
           "colorScheme": "element",
           "colorValue": 9474192,
           "cylinderOnly": false,
           "defaultAssembly": "",
           "depthWrite": true,
           "diffuse": 16777215,
           "diffuseInterior": false,
           "disableImpostor": false,
           "disablePicking": false,
           "flatShaded": false,
           "interiorColor": 2236962,
           "interiorDarkening": 0,
           "lazy": false,
           "lineOnly": false,
           "linewidth": 2,
           "matrix": {
            "elements": [
             1,
             0,
             0,
             0,
             0,
             1,
             0,
             0,
             0,
             0,
             1,
             0,
             0,
             0,
             0,
             1
            ]
           },
           "metalness": 0,
           "multipleBond": "off",
           "opacity": 1,
           "openEnded": true,
           "quality": "high",
           "radialSegments": 20,
           "radiusData": {},
           "radiusScale": 2,
           "radiusSize": 0.15,
           "radiusType": "size",
           "roughness": 0.4,
           "sele": "",
           "side": "double",
           "sphereDetail": 2,
           "useInteriorColor": true,
           "visible": true,
           "wireframe": false
          },
          "type": "ball+stick"
         }
        }
       },
       "_ngl_serialize": false,
       "_ngl_version": "2.2.2",
       "_ngl_view_id": [
        "F304A5CF-F4A1-45D9-93AF-80B917280D11"
       ],
       "_player_dict": {},
       "_scene_position": {},
       "_scene_rotation": {},
       "_synced_model_ids": [],
       "_synced_repr_model_ids": [],
       "_view_height": "400px",
       "_view_width": "400px",
       "background": "white",
       "frame": 0,
       "gui_style": null,
       "layout": "IPY_MODEL_3631d3407137421aa5e920a6743623b8",
       "max_frame": 0,
       "n_components": 1,
       "picked": {}
      }
     },
     "6f41e86f131148b1ba9dac4ccd1c1c39": {
      "model_module": "@jupyter-widgets/base",
      "model_module_version": "2.0.0",
      "model_name": "LayoutModel",
      "state": {}
     },
     "6fd04e7d200e4b36a548b773e31bf321": {
      "model_module": "@jupyter-widgets/controls",
      "model_module_version": "2.0.0",
      "model_name": "PlayModel",
      "state": {
       "layout": "IPY_MODEL_e1c6ffb6bc724ff2913c9ea48dc895e5",
       "max": 0,
       "style": "IPY_MODEL_5f3b37ec51bf4d4a8a3f3b8ab7301204"
      }
     },
     "6ffb21f800384b5dbaa190f8f2dd221e": {
      "model_module": "@jupyter-widgets/base",
      "model_module_version": "2.0.0",
      "model_name": "LayoutModel",
      "state": {}
     },
     "700bd24fa2164f3890b79b4cbc68fbab": {
      "model_module": "@jupyter-widgets/controls",
      "model_module_version": "2.0.0",
      "model_name": "IntSliderModel",
      "state": {
       "behavior": "drag-tap",
       "layout": "IPY_MODEL_e3dfe9f5f27d4ea2b6f672c3498b8fe6",
       "max": 0,
       "style": "IPY_MODEL_d7ed2bc24ec8479dadcda988367deb37"
      }
     },
     "7016503ca4274578ada2f260a8f0a1b5": {
      "model_module": "@jupyter-widgets/base",
      "model_module_version": "2.0.0",
      "model_name": "LayoutModel",
      "state": {}
     },
     "71561107b262493e8328ab55ac41f11c": {
      "model_module": "@jupyter-widgets/controls",
      "model_module_version": "2.0.0",
      "model_name": "HBoxModel",
      "state": {
       "children": [
        "IPY_MODEL_cea921147a884becb2a18721fd6358db",
        "IPY_MODEL_b75e7062c34e42ec9571415450d3594d"
       ],
       "layout": "IPY_MODEL_cd0520b279c34d02b192edd7bf07af02"
      }
     },
     "72444bf220104dbb970e017432263ec2": {
      "model_module": "nglview-js-widgets",
      "model_module_version": "3.1.0",
      "model_name": "NGLModel",
      "state": {
       "_camera_orientation": [
        5.454010352076403,
        -0.2326916713047867,
        24.412714490767836,
        0,
        20.03743822093147,
        14.333429574552799,
        -4.339915818983849,
        0,
        -13.947610682980061,
        20.500723264305226,
        3.3114203929106028,
        0,
        -18.209500312805176,
        -6.626500129699707,
        -22.118000030517578,
        1
       ],
       "_camera_str": "orthographic",
       "_gui_theme": null,
       "_ibtn_fullscreen": "IPY_MODEL_99f00c9f84fc48f892a1626d412baa3e",
       "_igui": null,
       "_iplayer": "IPY_MODEL_98f85b351fe04d21bb0ec6836cb5dbe4",
       "_ngl_color_dict": {},
       "_ngl_coordinate_resource": {},
       "_ngl_full_stage_parameters": {
        "ambientColor": 14540253,
        "ambientIntensity": 0.2,
        "backgroundColor": "white",
        "cameraEyeSep": 0.3,
        "cameraFov": 40,
        "cameraType": "perspective",
        "clipDist": 10,
        "clipFar": 100,
        "clipMode": "scene",
        "clipNear": 0,
        "clipScale": "relative",
        "fogFar": 100,
        "fogNear": 50,
        "hoverTimeout": 0,
        "impostor": true,
        "lightColor": 14540253,
        "lightIntensity": 1,
        "mousePreset": "default",
        "panSpeed": 1,
        "quality": "medium",
        "rotateSpeed": 2,
        "sampleLevel": 0,
        "tooltip": true,
        "workerDefault": true,
        "zoomSpeed": 1.2
       },
       "_ngl_msg_archive": [
        {
         "args": [
          {
           "binary": false,
           "data": "REMARK   1 CREATED WITH OPENMM 7.1.1, 2017-09-12\nCRYST1   25.580   25.580   25.580  90.00  90.00  90.00 P 1           1 \nHETATM    1  H1  ACE A   1      19.745   3.573  20.603  1.00  0.00           H  \nHETATM    2  CH3 ACE A   1      18.882   3.072  21.040  1.00  0.00           C  \nHETATM    3  H2  ACE A   1      19.299   2.583  21.920  1.00  0.00           H  \nHETATM    4  H3  ACE A   1      18.428   2.368  20.342  1.00  0.00           H  \nHETATM    5  C   ACE A   1      17.901   4.069  21.635  1.00  0.00           C  \nHETATM    6  O   ACE A   1      16.732   3.819  21.870  1.00  0.00           O  \nATOM      7  N   ALA A   2      18.376   5.305  21.721  1.00  0.00           N  \nATOM      8  H   ALA A   2      19.385   5.264  21.729  1.00  0.00           H  \nATOM      9  CA  ALA A   2      17.741   6.537  22.185  1.00  0.00           C  \nATOM     10  HA  ALA A   2      16.674   6.456  21.975  1.00  0.00           H  \nATOM     11  CB  ALA A   2      18.128   6.686  23.697  1.00  0.00           C  \nATOM     12  HB1 ALA A   2      17.646   7.564  24.127  1.00  0.00           H  \nATOM     13  HB2 ALA A   2      19.202   6.812  23.836  1.00  0.00           H  \nATOM     14  HB3 ALA A   2      17.804   5.840  24.302  1.00  0.00           H  \nATOM     15  C   ALA A   2      18.239   7.806  21.423  1.00  0.00           C  \nATOM     16  O   ALA A   2      19.120   7.699  20.619  1.00  0.00           O  \nHETATM   17  N   NME A   3      17.667   8.950  21.653  1.00  0.00           N  \nHETATM   18  H   NME A   3      16.917   8.869  22.326  1.00  0.00           H  \nHETATM   19  C   NME A   3      17.764  10.096  20.832  1.00  0.00           C  \nHETATM   20  H1  NME A   3      16.789  10.514  20.583  1.00  0.00           H  \nHETATM   21  H2  NME A   3      18.366  10.885  21.283  1.00  0.00           H  \nHETATM   22  H3  NME A   3      18.270   9.740  19.934  1.00  0.00           H  \nTER      23      NME A   3\n\nCONECT    1    2\nCONECT    2    5    1    3    4\nCONECT    3    2\nCONECT    4    2\nCONECT    5    2    6    7\nCONECT    6    5\nCONECT    7    5\nCONECT   15   17\nCONECT   17   15   19   18\nCONECT   18   17\nCONECT   19   20   21   22   17\nCONECT   20   19\nCONECT   21   19\nCONECT   22   19\nEND\n",
           "type": "blob"
          }
         ],
         "kwargs": {
          "defaultRepresentation": true,
          "ext": "pdb",
          "height": "400px",
          "width": "400px"
         },
         "methodName": "loadFile",
         "reconstruc_color_scheme": false,
         "target": "Stage",
         "type": "call_method"
        },
        {
         "args": [
          "ball+stick"
         ],
         "component_index": 0,
         "kwargs": {
          "aspectRatio": 1,
          "color": "#D55E00",
          "radius": 0.5,
          "sele": "@4,6,8,10"
         },
         "methodName": "addRepresentation",
         "reconstruc_color_scheme": false,
         "target": "compList",
         "type": "call_method"
        }
       ],
       "_ngl_original_stage_parameters": {
        "ambientColor": 14540253,
        "ambientIntensity": 0.2,
        "backgroundColor": "white",
        "cameraEyeSep": 0.3,
        "cameraFov": 40,
        "cameraType": "perspective",
        "clipDist": 10,
        "clipFar": 100,
        "clipMode": "scene",
        "clipNear": 0,
        "clipScale": "relative",
        "fogFar": 100,
        "fogNear": 50,
        "hoverTimeout": 0,
        "impostor": true,
        "lightColor": 14540253,
        "lightIntensity": 1,
        "mousePreset": "default",
        "panSpeed": 1,
        "quality": "medium",
        "rotateSpeed": 2,
        "sampleLevel": 0,
        "tooltip": true,
        "workerDefault": true,
        "zoomSpeed": 1.2
       },
       "_ngl_repr_dict": {
        "0": {
         "0": {
          "params": {
           "aspectRatio": 1.5,
           "assembly": "default",
           "bondScale": 0.3,
           "bondSpacing": 0.75,
           "clipCenter": {
            "x": 0,
            "y": 0,
            "z": 0
           },
           "clipNear": 0,
           "clipRadius": 0,
           "colorMode": "hcl",
           "colorReverse": false,
           "colorScale": "",
           "colorScheme": "element",
           "colorValue": 9474192,
           "cylinderOnly": false,
           "defaultAssembly": "",
           "depthWrite": true,
           "diffuse": 16777215,
           "diffuseInterior": false,
           "disableImpostor": false,
           "disablePicking": false,
           "flatShaded": false,
           "interiorColor": 2236962,
           "interiorDarkening": 0,
           "lazy": false,
           "lineOnly": false,
           "linewidth": 2,
           "matrix": {
            "elements": [
             1,
             0,
             0,
             0,
             0,
             1,
             0,
             0,
             0,
             0,
             1,
             0,
             0,
             0,
             0,
             1
            ]
           },
           "metalness": 0,
           "multipleBond": "off",
           "opacity": 1,
           "openEnded": true,
           "quality": "high",
           "radialSegments": 20,
           "radiusData": {},
           "radiusScale": 2,
           "radiusSize": 0.15,
           "radiusType": "size",
           "roughness": 0.4,
           "sele": "",
           "side": "double",
           "sphereDetail": 2,
           "useInteriorColor": true,
           "visible": true,
           "wireframe": false
          },
          "type": "ball+stick"
         },
         "1": {
          "params": {
           "aspectRatio": 1,
           "assembly": "default",
           "bondScale": 0.4,
           "bondSpacing": 1,
           "clipCenter": {
            "x": 0,
            "y": 0,
            "z": 0
           },
           "clipNear": 0,
           "clipRadius": 0,
           "colorMode": "hcl",
           "colorReverse": false,
           "colorScale": "",
           "colorScheme": "uniform",
           "colorValue": 13983232,
           "cylinderOnly": false,
           "defaultAssembly": "",
           "depthWrite": true,
           "diffuse": 16777215,
           "diffuseInterior": false,
           "disableImpostor": false,
           "disablePicking": false,
           "flatShaded": false,
           "interiorColor": 2236962,
           "interiorDarkening": 0,
           "lazy": false,
           "lineOnly": false,
           "linewidth": 2,
           "matrix": {
            "elements": [
             1,
             0,
             0,
             0,
             0,
             1,
             0,
             0,
             0,
             0,
             1,
             0,
             0,
             0,
             0,
             1
            ]
           },
           "metalness": 0,
           "multipleBond": "off",
           "opacity": 1,
           "openEnded": true,
           "quality": "medium",
           "radialSegments": 10,
           "radiusData": {},
           "radiusScale": 1,
           "radiusSize": 0.5,
           "radiusType": "size",
           "roughness": 0.4,
           "sele": "@4,6,8,10",
           "side": "double",
           "sphereDetail": 1,
           "useInteriorColor": true,
           "visible": true,
           "wireframe": false
          },
          "type": "ball+stick"
         }
        }
       },
       "_ngl_serialize": false,
       "_ngl_version": "2.2.2",
       "_ngl_view_id": [
        "8D64B513-4F68-4E2B-ADC2-1470700782B6"
       ],
       "_player_dict": {},
       "_scene_position": {},
       "_scene_rotation": {},
       "_synced_model_ids": [],
       "_synced_repr_model_ids": [],
       "_view_height": "400px",
       "_view_width": "400px",
       "background": "white",
       "frame": 0,
       "gui_style": null,
       "layout": "IPY_MODEL_32ed048a446a46dbba753f588470f69e",
       "max_frame": 0,
       "n_components": 1,
       "picked": {}
      }
     },
     "7272edce1bff415b8eceb689479dd0f1": {
      "model_module": "@jupyter-widgets/controls",
      "model_module_version": "2.0.0",
      "model_name": "ButtonModel",
      "state": {
       "icon": "compress",
       "layout": "IPY_MODEL_9a2dee163d064a0c93a952bc00e14cb8",
       "style": "IPY_MODEL_f29fcceba53a4eb5984c95fbdb1020bf",
       "tooltip": null
      }
     },
     "7286469638994552b4a704a6b431834c": {
      "model_module": "@jupyter-widgets/base",
      "model_module_version": "2.0.0",
      "model_name": "LayoutModel",
      "state": {
       "width": "34px"
      }
     },
     "7359ced4ca3e44b8ad9baa79bdafd328": {
      "model_module": "@jupyter-widgets/controls",
      "model_module_version": "2.0.0",
      "model_name": "DescriptionStyleModel",
      "state": {
       "description_width": ""
      }
     },
     "73ab0430f8ac47b18436f5550982077e": {
      "model_module": "@jupyter-widgets/base",
      "model_module_version": "2.0.0",
      "model_name": "LayoutModel",
      "state": {}
     },
     "74243cbf35064a9f8d884379856150e6": {
      "model_module": "@jupyter-widgets/controls",
      "model_module_version": "2.0.0",
      "model_name": "LinkModel",
      "state": {
       "source": [
        "IPY_MODEL_589cafd115754973aa6777bc8aaa828c",
        "value"
       ],
       "target": [
        "IPY_MODEL_c1a7438793b74e85a71b5351076c423c",
        "frame"
       ]
      }
     },
     "7435ed6b76e94cc6a928d1938e942d31": {
      "model_module": "@jupyter-widgets/controls",
      "model_module_version": "2.0.0",
      "model_name": "LinkModel",
      "state": {
       "source": [
        "IPY_MODEL_cea921147a884becb2a18721fd6358db",
        "value"
       ],
       "target": [
        "IPY_MODEL_7f95c83ba0014730bd58189826dc3e92",
        "frame"
       ]
      }
     },
     "74cb764382a14496847c68c52ff95a19": {
      "model_module": "@jupyter-widgets/controls",
      "model_module_version": "2.0.0",
      "model_name": "ButtonModel",
      "state": {
       "icon": "compress",
       "layout": "IPY_MODEL_892069e2a08e457cb3c0e2c4183fb21c",
       "style": "IPY_MODEL_9a605d6c452f4840a48fa8a8424d3c8c",
       "tooltip": null
      }
     },
     "7504328e41fe406c8e61eda4a4a5b156": {
      "model_module": "@jupyter-widgets/controls",
      "model_module_version": "2.0.0",
      "model_name": "LinkModel",
      "state": {
       "source": [
        "IPY_MODEL_cea921147a884becb2a18721fd6358db",
        "max"
       ],
       "target": [
        "IPY_MODEL_7f95c83ba0014730bd58189826dc3e92",
        "max_frame"
       ]
      }
     },
     "75a2cd06eac94db6b8abd61fd4866e74": {
      "model_module": "@jupyter-widgets/controls",
      "model_module_version": "2.0.0",
      "model_name": "LinkModel",
      "state": {
       "source": [
        "IPY_MODEL_779f57667327467f8d58e12563e22074",
        "max"
       ],
       "target": [
        "IPY_MODEL_3335c334e2d94bc3ae248a6aa5650a19",
        "max_frame"
       ]
      }
     },
     "7679712cfe64402a94811225f179410b": {
      "model_module": "@jupyter-widgets/controls",
      "model_module_version": "2.0.0",
      "model_name": "LinkModel",
      "state": {
       "source": [
        "IPY_MODEL_8353400e32c84958802905b1f651fc45",
        "max"
       ],
       "target": [
        "IPY_MODEL_62cd61280c104c5d93d9583b2bf27f8a",
        "max_frame"
       ]
      }
     },
     "768e6f4c85354b028d4a8c553ec24f78": {
      "model_module": "@jupyter-widgets/base",
      "model_module_version": "2.0.0",
      "model_name": "LayoutModel",
      "state": {}
     },
     "7780a0e46f414947b92dcdd6fa615b60": {
      "model_module": "@jupyter-widgets/controls",
      "model_module_version": "2.0.0",
      "model_name": "ImageModel",
      "state": {
       "layout": "IPY_MODEL_d7309cc5d50641d09661f076416dd38b",
       "width": "900.0"
      }
     },
     "77983fdcd3e84318b137e5e040b7d00e": {
      "model_module": "@jupyter-widgets/base",
      "model_module_version": "2.0.0",
      "model_name": "LayoutModel",
      "state": {}
     },
     "779f57667327467f8d58e12563e22074": {
      "model_module": "@jupyter-widgets/controls",
      "model_module_version": "2.0.0",
      "model_name": "IntSliderModel",
      "state": {
       "behavior": "drag-tap",
       "layout": "IPY_MODEL_36edcd78ece849f78ed5005bf826d583",
       "max": 0,
       "style": "IPY_MODEL_16d8e06d113640e798500ade95e641f4"
      }
     },
     "77b5522d341f47a0a435ec51b12cc7c2": {
      "model_module": "@jupyter-widgets/controls",
      "model_module_version": "2.0.0",
      "model_name": "IntSliderModel",
      "state": {
       "behavior": "drag-tap",
       "layout": "IPY_MODEL_60a6f7319d44431eb51c443d53360832",
       "max": 0,
       "style": "IPY_MODEL_c2398881bf7b48368ef637223269e79a"
      }
     },
     "7963e221010a4a8aac70ee365342d1d5": {
      "model_module": "@jupyter-widgets/controls",
      "model_module_version": "2.0.0",
      "model_name": "HBoxModel",
      "state": {
       "children": [
        "IPY_MODEL_b8413f91f86541ab9ab03cb3e288f245",
        "IPY_MODEL_9af2b04090184e1fbb393b89cf221950"
       ],
       "layout": "IPY_MODEL_521c0253e61048cabdb3fd02d0f1899a"
      }
     },
     "7a3f8f0d24e24f3ebba3f4ab85daac60": {
      "model_module": "@jupyter-widgets/controls",
      "model_module_version": "2.0.0",
      "model_name": "LinkModel",
      "state": {
       "source": [
        "IPY_MODEL_a4cf432de8a248a39ab96c5c7b3f4c6c",
        "value"
       ],
       "target": [
        "IPY_MODEL_377b5a7ab7ca4437a68badc07a1c4524",
        "frame"
       ]
      }
     },
     "7c57f883783f42e19ec27b406a08ddb9": {
      "model_module": "@jupyter-widgets/controls",
      "model_module_version": "2.0.0",
      "model_name": "DescriptionStyleModel",
      "state": {
       "description_width": ""
      }
     },
     "7cdb5156dda649ccae4cedd3cf88cbd4": {
      "model_module": "@jupyter-widgets/base",
      "model_module_version": "2.0.0",
      "model_name": "LayoutModel",
      "state": {}
     },
     "7e3d6f68c2a9419aa0af6d890f00e1a1": {
      "model_module": "@jupyter-widgets/controls",
      "model_module_version": "2.0.0",
      "model_name": "HBoxModel",
      "state": {
       "children": [
        "IPY_MODEL_0cef3e4683db4328908b208aeee56921",
        "IPY_MODEL_b3a6370331e54f9bb575544091f5bfd5"
       ],
       "layout": "IPY_MODEL_b4c9e3c44a1c4890b9dce7bca925558a"
      }
     },
     "7e719bb11ec94e6da85000a55dfa4633": {
      "model_module": "@jupyter-widgets/controls",
      "model_module_version": "2.0.0",
      "model_name": "LinkModel",
      "state": {
       "source": [
        "IPY_MODEL_3209b2fb2298465f97a665d37e46a5bd",
        "max"
       ],
       "target": [
        "IPY_MODEL_9da21d8c9f594c28a7cc0df452b26b2c",
        "max_frame"
       ]
      }
     },
     "7f95c83ba0014730bd58189826dc3e92": {
      "model_module": "nglview-js-widgets",
      "model_module_version": "3.1.0",
      "model_name": "NGLModel",
      "state": {
       "_camera_orientation": [
        -2.1444897293563567,
        9.242644013830084,
        19.028521767839273,
        0,
        21.057494911008792,
        2.761791390482727,
        1.031679031059516,
        0,
        -2.0231206361355802,
        18.948772656399278,
        -9.431910884999732,
        0,
        -18.209500312805176,
        -6.626500129699707,
        -22.118000030517578,
        1
       ],
       "_camera_str": "orthographic",
       "_gui_theme": null,
       "_ibtn_fullscreen": "IPY_MODEL_a4cd03f252d14b1e8e586062dd929c94",
       "_igui": null,
       "_iplayer": "IPY_MODEL_71561107b262493e8328ab55ac41f11c",
       "_ngl_color_dict": {},
       "_ngl_coordinate_resource": {},
       "_ngl_full_stage_parameters": {
        "ambientColor": 14540253,
        "ambientIntensity": 0.2,
        "backgroundColor": "white",
        "cameraEyeSep": 0.3,
        "cameraFov": 40,
        "cameraType": "perspective",
        "clipDist": 10,
        "clipFar": 100,
        "clipMode": "scene",
        "clipNear": 0,
        "clipScale": "relative",
        "fogFar": 100,
        "fogNear": 50,
        "hoverTimeout": 0,
        "impostor": true,
        "lightColor": 14540253,
        "lightIntensity": 1,
        "mousePreset": "default",
        "panSpeed": 1,
        "quality": "medium",
        "rotateSpeed": 2,
        "sampleLevel": 0,
        "tooltip": true,
        "workerDefault": true,
        "zoomSpeed": 1.2
       },
       "_ngl_msg_archive": [
        {
         "args": [
          {
           "binary": false,
           "data": "REMARK   1 CREATED WITH OPENMM 7.1.1, 2017-09-12\nCRYST1   25.580   25.580   25.580  90.00  90.00  90.00 P 1           1 \nHETATM    1  H1  ACE A   1      19.745   3.573  20.603  1.00  0.00           H  \nHETATM    2  CH3 ACE A   1      18.882   3.072  21.040  1.00  0.00           C  \nHETATM    3  H2  ACE A   1      19.299   2.583  21.920  1.00  0.00           H  \nHETATM    4  H3  ACE A   1      18.428   2.368  20.342  1.00  0.00           H  \nHETATM    5  C   ACE A   1      17.901   4.069  21.635  1.00  0.00           C  \nHETATM    6  O   ACE A   1      16.732   3.819  21.870  1.00  0.00           O  \nATOM      7  N   ALA A   2      18.376   5.305  21.721  1.00  0.00           N  \nATOM      8  H   ALA A   2      19.385   5.264  21.729  1.00  0.00           H  \nATOM      9  CA  ALA A   2      17.741   6.537  22.185  1.00  0.00           C  \nATOM     10  HA  ALA A   2      16.674   6.456  21.975  1.00  0.00           H  \nATOM     11  CB  ALA A   2      18.128   6.686  23.697  1.00  0.00           C  \nATOM     12  HB1 ALA A   2      17.646   7.564  24.127  1.00  0.00           H  \nATOM     13  HB2 ALA A   2      19.202   6.812  23.836  1.00  0.00           H  \nATOM     14  HB3 ALA A   2      17.804   5.840  24.302  1.00  0.00           H  \nATOM     15  C   ALA A   2      18.239   7.806  21.423  1.00  0.00           C  \nATOM     16  O   ALA A   2      19.120   7.699  20.619  1.00  0.00           O  \nHETATM   17  N   NME A   3      17.667   8.950  21.653  1.00  0.00           N  \nHETATM   18  H   NME A   3      16.917   8.869  22.326  1.00  0.00           H  \nHETATM   19  C   NME A   3      17.764  10.096  20.832  1.00  0.00           C  \nHETATM   20  H1  NME A   3      16.789  10.514  20.583  1.00  0.00           H  \nHETATM   21  H2  NME A   3      18.366  10.885  21.283  1.00  0.00           H  \nHETATM   22  H3  NME A   3      18.270   9.740  19.934  1.00  0.00           H  \nTER      23      NME A   3\n\nCONECT    1    2\nCONECT    2    5    1    3    4\nCONECT    3    2\nCONECT    4    2\nCONECT    5    2    6    7\nCONECT    6    5\nCONECT    7    5\nCONECT   15   17\nCONECT   17   15   19   18\nCONECT   18   17\nCONECT   19   20   21   22   17\nCONECT   20   19\nCONECT   21   19\nCONECT   22   19\nEND\n",
           "type": "blob"
          }
         ],
         "kwargs": {
          "defaultRepresentation": true,
          "ext": "pdb",
          "height": "400px",
          "width": "400px"
         },
         "methodName": "loadFile",
         "reconstruc_color_scheme": false,
         "target": "Stage",
         "type": "call_method"
        },
        {
         "args": [
          "ball+stick"
         ],
         "component_index": 0,
         "kwargs": {
          "aspectRatio": 1,
          "color": "#FEC220",
          "radius": 0.5,
          "sele": "@6,8,14,16"
         },
         "methodName": "addRepresentation",
         "reconstruc_color_scheme": false,
         "target": "compList",
         "type": "call_method"
        }
       ],
       "_ngl_original_stage_parameters": {
        "ambientColor": 14540253,
        "ambientIntensity": 0.2,
        "backgroundColor": "white",
        "cameraEyeSep": 0.3,
        "cameraFov": 40,
        "cameraType": "perspective",
        "clipDist": 10,
        "clipFar": 100,
        "clipMode": "scene",
        "clipNear": 0,
        "clipScale": "relative",
        "fogFar": 100,
        "fogNear": 50,
        "hoverTimeout": 0,
        "impostor": true,
        "lightColor": 14540253,
        "lightIntensity": 1,
        "mousePreset": "default",
        "panSpeed": 1,
        "quality": "medium",
        "rotateSpeed": 2,
        "sampleLevel": 0,
        "tooltip": true,
        "workerDefault": true,
        "zoomSpeed": 1.2
       },
       "_ngl_repr_dict": {
        "0": {
         "0": {
          "params": {
           "aspectRatio": 1.5,
           "assembly": "default",
           "bondScale": 0.3,
           "bondSpacing": 0.75,
           "clipCenter": {
            "x": 0,
            "y": 0,
            "z": 0
           },
           "clipNear": 0,
           "clipRadius": 0,
           "colorMode": "hcl",
           "colorReverse": false,
           "colorScale": "",
           "colorScheme": "element",
           "colorValue": 9474192,
           "cylinderOnly": false,
           "defaultAssembly": "",
           "depthWrite": true,
           "diffuse": 16777215,
           "diffuseInterior": false,
           "disableImpostor": false,
           "disablePicking": false,
           "flatShaded": false,
           "interiorColor": 2236962,
           "interiorDarkening": 0,
           "lazy": false,
           "lineOnly": false,
           "linewidth": 2,
           "matrix": {
            "elements": [
             1,
             0,
             0,
             0,
             0,
             1,
             0,
             0,
             0,
             0,
             1,
             0,
             0,
             0,
             0,
             1
            ]
           },
           "metalness": 0,
           "multipleBond": "off",
           "opacity": 1,
           "openEnded": true,
           "quality": "high",
           "radialSegments": 20,
           "radiusData": {},
           "radiusScale": 2,
           "radiusSize": 0.15,
           "radiusType": "size",
           "roughness": 0.4,
           "sele": "",
           "side": "double",
           "sphereDetail": 2,
           "useInteriorColor": true,
           "visible": true,
           "wireframe": false
          },
          "type": "ball+stick"
         },
         "1": {
          "params": {
           "aspectRatio": 1,
           "assembly": "default",
           "bondScale": 0.4,
           "bondSpacing": 1,
           "clipCenter": {
            "x": 0,
            "y": 0,
            "z": 0
           },
           "clipNear": 0,
           "clipRadius": 0,
           "colorMode": "hcl",
           "colorReverse": false,
           "colorScale": "",
           "colorScheme": "uniform",
           "colorValue": 16695840,
           "cylinderOnly": false,
           "defaultAssembly": "",
           "depthWrite": true,
           "diffuse": 16777215,
           "diffuseInterior": false,
           "disableImpostor": false,
           "disablePicking": false,
           "flatShaded": false,
           "interiorColor": 2236962,
           "interiorDarkening": 0,
           "lazy": false,
           "lineOnly": false,
           "linewidth": 2,
           "matrix": {
            "elements": [
             1,
             0,
             0,
             0,
             0,
             1,
             0,
             0,
             0,
             0,
             1,
             0,
             0,
             0,
             0,
             1
            ]
           },
           "metalness": 0,
           "multipleBond": "off",
           "opacity": 1,
           "openEnded": true,
           "quality": "medium",
           "radialSegments": 10,
           "radiusData": {},
           "radiusScale": 1,
           "radiusSize": 0.5,
           "radiusType": "size",
           "roughness": 0.4,
           "sele": "@6,8,14,16",
           "side": "double",
           "sphereDetail": 1,
           "useInteriorColor": true,
           "visible": true,
           "wireframe": false
          },
          "type": "ball+stick"
         }
        }
       },
       "_ngl_serialize": false,
       "_ngl_version": "2.2.2",
       "_ngl_view_id": [
        "7D127090-3ED1-40E4-AE6E-3B303B1AE4A4"
       ],
       "_player_dict": {},
       "_scene_position": {},
       "_scene_rotation": {},
       "_synced_model_ids": [],
       "_synced_repr_model_ids": [],
       "_view_height": "400px",
       "_view_width": "400px",
       "background": "white",
       "frame": 0,
       "gui_style": null,
       "layout": "IPY_MODEL_42b2ea69f06b4e02b27ebe13a1238190",
       "max_frame": 0,
       "n_components": 1,
       "picked": {}
      }
     },
     "819e9855498f4fd6b41ef662ce4d7869": {
      "model_module": "@jupyter-widgets/controls",
      "model_module_version": "2.0.0",
      "model_name": "LinkModel",
      "state": {
       "source": [
        "IPY_MODEL_19f64b9a42094fd0bc235056333f189f",
        "max"
       ],
       "target": [
        "IPY_MODEL_c1a7438793b74e85a71b5351076c423c",
        "max_frame"
       ]
      }
     },
     "820ad5c4f45f4a93a87ba3c6e2eac5da": {
      "model_module": "@jupyter-widgets/controls",
      "model_module_version": "2.0.0",
      "model_name": "ButtonStyleModel",
      "state": {
       "font_family": null,
       "font_size": null,
       "font_style": null,
       "font_variant": null,
       "font_weight": null,
       "text_color": null,
       "text_decoration": null
      }
     },
     "828ec266e0b54073bbadd6c8f5057c1f": {
      "model_module": "@jupyter-widgets/controls",
      "model_module_version": "2.0.0",
      "model_name": "ImageModel",
      "state": {
       "layout": "IPY_MODEL_6ffb21f800384b5dbaa190f8f2dd221e",
       "width": "900.0"
      }
     },
     "829aa71806b44b4a976160bafbd09a0d": {
      "model_module": "@jupyter-widgets/controls",
      "model_module_version": "2.0.0",
      "model_name": "IntSliderModel",
      "state": {
       "behavior": "drag-tap",
       "layout": "IPY_MODEL_a3b091d3aba94720ac48c86c77a77eab",
       "max": 0,
       "style": "IPY_MODEL_c9849dee3f93418595d973050fca22ee"
      }
     },
     "82c31a41a8d74b25aa174d7a2d6f689c": {
      "model_module": "@jupyter-widgets/base",
      "model_module_version": "2.0.0",
      "model_name": "LayoutModel",
      "state": {}
     },
     "82ef7239c01e4b7aa7aee44bf5dc4adf": {
      "model_module": "@jupyter-widgets/controls",
      "model_module_version": "2.0.0",
      "model_name": "ImageModel",
      "state": {
       "layout": "IPY_MODEL_922ae653315f4a18a6cb3b8efc5cdfc7",
       "width": "900.0"
      }
     },
     "8353400e32c84958802905b1f651fc45": {
      "model_module": "@jupyter-widgets/controls",
      "model_module_version": "2.0.0",
      "model_name": "PlayModel",
      "state": {
       "layout": "IPY_MODEL_551de15ea01047ec8f4c1de65a0d279d",
       "max": 0,
       "style": "IPY_MODEL_12cf66461d4a4fd9b73fe7a0002efbe4"
      }
     },
     "83839a4a49154149bee29b1914b50360": {
      "model_module": "@jupyter-widgets/controls",
      "model_module_version": "2.0.0",
      "model_name": "ButtonModel",
      "state": {
       "icon": "compress",
       "layout": "IPY_MODEL_38751be94ef644398247405a255a1cf2",
       "style": "IPY_MODEL_6a9a89d7ceab4f8f8eb0e444270611dd",
       "tooltip": null
      }
     },
     "85695fc7d7ff49559d29bee661d3306a": {
      "model_module": "@jupyter-widgets/controls",
      "model_module_version": "2.0.0",
      "model_name": "LinkModel",
      "state": {
       "source": [
        "IPY_MODEL_700bd24fa2164f3890b79b4cbc68fbab",
        "max"
       ],
       "target": [
        "IPY_MODEL_6ecf78935d074836a826b3368dc47f69",
        "max_frame"
       ]
      }
     },
     "858acddd540c42b098f1f565122e03bf": {
      "model_module": "@jupyter-widgets/controls",
      "model_module_version": "2.0.0",
      "model_name": "SliderStyleModel",
      "state": {
       "description_width": ""
      }
     },
     "875084a8d2a345c1bc062dd9c8b679f4": {
      "model_module": "@jupyter-widgets/base",
      "model_module_version": "2.0.0",
      "model_name": "LayoutModel",
      "state": {}
     },
     "88e92ba97b0a4ddca0f814c33262fa23": {
      "model_module": "@jupyter-widgets/controls",
      "model_module_version": "2.0.0",
      "model_name": "LinkModel",
      "state": {
       "source": [
        "IPY_MODEL_5c10fcbc17b14bd087686dcf9532e8f9",
        "value"
       ],
       "target": [
        "IPY_MODEL_ed6dc251667f45a1b870c1e493ee0f07",
        "value"
       ]
      }
     },
     "892069e2a08e457cb3c0e2c4183fb21c": {
      "model_module": "@jupyter-widgets/base",
      "model_module_version": "2.0.0",
      "model_name": "LayoutModel",
      "state": {
       "width": "34px"
      }
     },
     "8d09f232e33f45bb8a597f6bcd192bb0": {
      "model_module": "@jupyter-widgets/controls",
      "model_module_version": "2.0.0",
      "model_name": "PlayModel",
      "state": {
       "layout": "IPY_MODEL_350e32363bed47bb9c4348ffb0b402a2",
       "max": 0,
       "style": "IPY_MODEL_6a84b1fc176f43f6acf94e4d9d14aa24"
      }
     },
     "8de1af6b836c4157a4bf3a0d6d272372": {
      "model_module": "@jupyter-widgets/base",
      "model_module_version": "2.0.0",
      "model_name": "LayoutModel",
      "state": {
       "width": "34px"
      }
     },
     "8e594794b6b8424bbf2c4a544f7d375f": {
      "model_module": "@jupyter-widgets/controls",
      "model_module_version": "2.0.0",
      "model_name": "ButtonModel",
      "state": {
       "icon": "compress",
       "layout": "IPY_MODEL_7286469638994552b4a704a6b431834c",
       "style": "IPY_MODEL_bcb39c92a6da48b4a88a7a16c9bf96e9",
       "tooltip": null
      }
     },
     "8f49436cc9bb4316b0bc405bd71fb1fa": {
      "model_module": "@jupyter-widgets/controls",
      "model_module_version": "2.0.0",
      "model_name": "SliderStyleModel",
      "state": {
       "description_width": ""
      }
     },
     "8f4f6224ec764879951df9690870f258": {
      "model_module": "@jupyter-widgets/base",
      "model_module_version": "2.0.0",
      "model_name": "LayoutModel",
      "state": {}
     },
     "8f87fd5239d3440eb227402d1789de00": {
      "model_module": "@jupyter-widgets/base",
      "model_module_version": "2.0.0",
      "model_name": "LayoutModel",
      "state": {}
     },
     "91327d2be5c94d0b9e0bf46b6683d79c": {
      "model_module": "@jupyter-widgets/controls",
      "model_module_version": "2.0.0",
      "model_name": "LinkModel",
      "state": {
       "source": [
        "IPY_MODEL_5c10fcbc17b14bd087686dcf9532e8f9",
        "max"
       ],
       "target": [
        "IPY_MODEL_72444bf220104dbb970e017432263ec2",
        "max_frame"
       ]
      }
     },
     "922ae653315f4a18a6cb3b8efc5cdfc7": {
      "model_module": "@jupyter-widgets/base",
      "model_module_version": "2.0.0",
      "model_name": "LayoutModel",
      "state": {}
     },
     "923d31eb6658475ba36ea8c62c960927": {
      "model_module": "@jupyter-widgets/controls",
      "model_module_version": "2.0.0",
      "model_name": "LinkModel",
      "state": {
       "source": [
        "IPY_MODEL_2d296a5158e8491591a02a62efd71a60",
        "value"
       ],
       "target": [
        "IPY_MODEL_829aa71806b44b4a976160bafbd09a0d",
        "value"
       ]
      }
     },
     "92f0a70f4e0a4623b2ca1e7455440647": {
      "model_module": "@jupyter-widgets/controls",
      "model_module_version": "2.0.0",
      "model_name": "SliderStyleModel",
      "state": {
       "description_width": ""
      }
     },
     "943a6680c4454acaa7067cdb300e5783": {
      "model_module": "@jupyter-widgets/controls",
      "model_module_version": "2.0.0",
      "model_name": "IntSliderModel",
      "state": {
       "behavior": "drag-tap",
       "layout": "IPY_MODEL_768e6f4c85354b028d4a8c553ec24f78",
       "max": 0,
       "style": "IPY_MODEL_1c4bea8211d64bdaab85cc7d8edc1506"
      }
     },
     "95d72a62d86f4e9c9e3a8ba79ad9a81c": {
      "model_module": "@jupyter-widgets/controls",
      "model_module_version": "2.0.0",
      "model_name": "SliderStyleModel",
      "state": {
       "description_width": ""
      }
     },
     "9621fc00bebc4ccb9e5c997399fb8ee6": {
      "model_module": "@jupyter-widgets/controls",
      "model_module_version": "2.0.0",
      "model_name": "ImageModel",
      "state": {
       "layout": "IPY_MODEL_7cdb5156dda649ccae4cedd3cf88cbd4",
       "width": "900.0"
      }
     },
     "98f72e7473e44828b55d46528f85cf02": {
      "model_module": "@jupyter-widgets/controls",
      "model_module_version": "2.0.0",
      "model_name": "HBoxModel",
      "state": {
       "children": [
        "IPY_MODEL_5e95e454b19b4d3cbf4207cb18398c5e",
        "IPY_MODEL_e810c5f7aa854ac1b2af0ec1a13c1dbe"
       ],
       "layout": "IPY_MODEL_c2e19818eef2498fbe493cebf932c8d5"
      }
     },
     "98f85b351fe04d21bb0ec6836cb5dbe4": {
      "model_module": "@jupyter-widgets/controls",
      "model_module_version": "2.0.0",
      "model_name": "HBoxModel",
      "state": {
       "children": [
        "IPY_MODEL_5c10fcbc17b14bd087686dcf9532e8f9",
        "IPY_MODEL_ed6dc251667f45a1b870c1e493ee0f07"
       ],
       "layout": "IPY_MODEL_59907498ea304786ae347751018d2a80"
      }
     },
     "99893354bb9e49649c7a032f82c4807d": {
      "model_module": "@jupyter-widgets/controls",
      "model_module_version": "2.0.0",
      "model_name": "LinkModel",
      "state": {
       "source": [
        "IPY_MODEL_6fd04e7d200e4b36a548b773e31bf321",
        "value"
       ],
       "target": [
        "IPY_MODEL_700bd24fa2164f3890b79b4cbc68fbab",
        "value"
       ]
      }
     },
     "99f00c9f84fc48f892a1626d412baa3e": {
      "model_module": "@jupyter-widgets/controls",
      "model_module_version": "2.0.0",
      "model_name": "ButtonModel",
      "state": {
       "icon": "compress",
       "layout": "IPY_MODEL_24c021ed88db479fa1eb78d888440fc7",
       "style": "IPY_MODEL_820ad5c4f45f4a93a87ba3c6e2eac5da",
       "tooltip": null
      }
     },
     "9a2dee163d064a0c93a952bc00e14cb8": {
      "model_module": "@jupyter-widgets/base",
      "model_module_version": "2.0.0",
      "model_name": "LayoutModel",
      "state": {
       "width": "34px"
      }
     },
     "9a3a3514b8d34a0999105990a1b0e33f": {
      "model_module": "@jupyter-widgets/base",
      "model_module_version": "2.0.0",
      "model_name": "LayoutModel",
      "state": {}
     },
     "9a605d6c452f4840a48fa8a8424d3c8c": {
      "model_module": "@jupyter-widgets/controls",
      "model_module_version": "2.0.0",
      "model_name": "ButtonStyleModel",
      "state": {
       "font_family": null,
       "font_size": null,
       "font_style": null,
       "font_variant": null,
       "font_weight": null,
       "text_color": null,
       "text_decoration": null
      }
     },
     "9af2b04090184e1fbb393b89cf221950": {
      "model_module": "@jupyter-widgets/controls",
      "model_module_version": "2.0.0",
      "model_name": "IntSliderModel",
      "state": {
       "behavior": "drag-tap",
       "layout": "IPY_MODEL_0073b273e0b040e7aa6ea555f7ccba19",
       "max": 0,
       "style": "IPY_MODEL_a4b14882b8304c44997f60977e432882"
      }
     },
     "9b06e4f8e7e947ebbb14050bd12146ed": {
      "model_module": "@jupyter-widgets/controls",
      "model_module_version": "2.0.0",
      "model_name": "LinkModel",
      "state": {
       "source": [
        "IPY_MODEL_47efd193ec254768b64fb9d231f9a6ad",
        "value"
       ],
       "target": [
        "IPY_MODEL_dc4f6a4b762a4431a743c8f23c83d930",
        "value"
       ]
      }
     },
     "9d79d2b5416d4cbfa549be04a255075b": {
      "model_module": "@jupyter-widgets/controls",
      "model_module_version": "2.0.0",
      "model_name": "ImageModel",
      "state": {
       "layout": "IPY_MODEL_c820955a0f5241da91a7808017029136",
       "width": "900.0"
      }
     },
     "9da21d8c9f594c28a7cc0df452b26b2c": {
      "model_module": "nglview-js-widgets",
      "model_module_version": "3.1.0",
      "model_name": "NGLModel",
      "state": {
       "_camera_orientation": [
        0.9203003471972547,
        0.23071881972783218,
        24.997616271150132,
        0,
        24.95369836705631,
        1.4914688880230156,
        -0.9324491967459402,
        0,
        -1.4989957369529125,
        24.97004790793919,
        -0.17527806000409846,
        0,
        -18.209500312805176,
        -6.626500129699707,
        -22.118000030517578,
        1
       ],
       "_camera_str": "orthographic",
       "_gui_theme": null,
       "_ibtn_fullscreen": "IPY_MODEL_210d75b10d8f4fbda7b9881fb1bd79db",
       "_igui": null,
       "_iplayer": "IPY_MODEL_ef0d0ad935c241b19a3693b8916e7ffa",
       "_ngl_color_dict": {},
       "_ngl_coordinate_resource": {},
       "_ngl_full_stage_parameters": {
        "ambientColor": 14540253,
        "ambientIntensity": 0.2,
        "backgroundColor": "white",
        "cameraEyeSep": 0.3,
        "cameraFov": 40,
        "cameraType": "perspective",
        "clipDist": 10,
        "clipFar": 100,
        "clipMode": "scene",
        "clipNear": 0,
        "clipScale": "relative",
        "fogFar": 100,
        "fogNear": 50,
        "hoverTimeout": 0,
        "impostor": true,
        "lightColor": 14540253,
        "lightIntensity": 1,
        "mousePreset": "default",
        "panSpeed": 1,
        "quality": "medium",
        "rotateSpeed": 2,
        "sampleLevel": 0,
        "tooltip": true,
        "workerDefault": true,
        "zoomSpeed": 1.2
       },
       "_ngl_msg_archive": [
        {
         "args": [
          {
           "binary": false,
           "data": "REMARK   1 CREATED WITH OPENMM 7.1.1, 2017-09-12\nCRYST1   25.580   25.580   25.580  90.00  90.00  90.00 P 1           1 \nHETATM    1  H1  ACE A   1      19.745   3.573  20.603  1.00  0.00           H  \nHETATM    2  CH3 ACE A   1      18.882   3.072  21.040  1.00  0.00           C  \nHETATM    3  H2  ACE A   1      19.299   2.583  21.920  1.00  0.00           H  \nHETATM    4  H3  ACE A   1      18.428   2.368  20.342  1.00  0.00           H  \nHETATM    5  C   ACE A   1      17.901   4.069  21.635  1.00  0.00           C  \nHETATM    6  O   ACE A   1      16.732   3.819  21.870  1.00  0.00           O  \nATOM      7  N   ALA A   2      18.376   5.305  21.721  1.00  0.00           N  \nATOM      8  H   ALA A   2      19.385   5.264  21.729  1.00  0.00           H  \nATOM      9  CA  ALA A   2      17.741   6.537  22.185  1.00  0.00           C  \nATOM     10  HA  ALA A   2      16.674   6.456  21.975  1.00  0.00           H  \nATOM     11  CB  ALA A   2      18.128   6.686  23.697  1.00  0.00           C  \nATOM     12  HB1 ALA A   2      17.646   7.564  24.127  1.00  0.00           H  \nATOM     13  HB2 ALA A   2      19.202   6.812  23.836  1.00  0.00           H  \nATOM     14  HB3 ALA A   2      17.804   5.840  24.302  1.00  0.00           H  \nATOM     15  C   ALA A   2      18.239   7.806  21.423  1.00  0.00           C  \nATOM     16  O   ALA A   2      19.120   7.699  20.619  1.00  0.00           O  \nHETATM   17  N   NME A   3      17.667   8.950  21.653  1.00  0.00           N  \nHETATM   18  H   NME A   3      16.917   8.869  22.326  1.00  0.00           H  \nHETATM   19  C   NME A   3      17.764  10.096  20.832  1.00  0.00           C  \nHETATM   20  H1  NME A   3      16.789  10.514  20.583  1.00  0.00           H  \nHETATM   21  H2  NME A   3      18.366  10.885  21.283  1.00  0.00           H  \nHETATM   22  H3  NME A   3      18.270   9.740  19.934  1.00  0.00           H  \nTER      23      NME A   3\n\nCONECT    1    2\nCONECT    2    5    1    3    4\nCONECT    3    2\nCONECT    4    2\nCONECT    5    2    6    7\nCONECT    6    5\nCONECT    7    5\nCONECT   15   17\nCONECT   17   15   19   18\nCONECT   18   17\nCONECT   19   20   21   22   17\nCONECT   20   19\nCONECT   21   19\nCONECT   22   19\nEND\n",
           "type": "blob"
          }
         ],
         "kwargs": {
          "defaultRepresentation": true,
          "ext": "pdb",
          "height": "400px",
          "width": "400px"
         },
         "methodName": "loadFile",
         "reconstruc_color_scheme": false,
         "target": "Stage",
         "type": "call_method"
        },
        {
         "args": [
          "ball+stick"
         ],
         "component_index": 0,
         "kwargs": {
          "aspectRatio": 1,
          "color": "#D55E00",
          "radius": 0.5,
          "sele": "@8,10,14,16"
         },
         "methodName": "addRepresentation",
         "reconstruc_color_scheme": false,
         "target": "compList",
         "type": "call_method"
        }
       ],
       "_ngl_original_stage_parameters": {
        "ambientColor": 14540253,
        "ambientIntensity": 0.2,
        "backgroundColor": "white",
        "cameraEyeSep": 0.3,
        "cameraFov": 40,
        "cameraType": "perspective",
        "clipDist": 10,
        "clipFar": 100,
        "clipMode": "scene",
        "clipNear": 0,
        "clipScale": "relative",
        "fogFar": 100,
        "fogNear": 50,
        "hoverTimeout": 0,
        "impostor": true,
        "lightColor": 14540253,
        "lightIntensity": 1,
        "mousePreset": "default",
        "panSpeed": 1,
        "quality": "medium",
        "rotateSpeed": 2,
        "sampleLevel": 0,
        "tooltip": true,
        "workerDefault": true,
        "zoomSpeed": 1.2
       },
       "_ngl_repr_dict": {
        "0": {
         "0": {
          "params": {
           "aspectRatio": 1.5,
           "assembly": "default",
           "bondScale": 0.3,
           "bondSpacing": 0.75,
           "clipCenter": {
            "x": 0,
            "y": 0,
            "z": 0
           },
           "clipNear": 0,
           "clipRadius": 0,
           "colorMode": "hcl",
           "colorReverse": false,
           "colorScale": "",
           "colorScheme": "element",
           "colorValue": 9474192,
           "cylinderOnly": false,
           "defaultAssembly": "",
           "depthWrite": true,
           "diffuse": 16777215,
           "diffuseInterior": false,
           "disableImpostor": false,
           "disablePicking": false,
           "flatShaded": false,
           "interiorColor": 2236962,
           "interiorDarkening": 0,
           "lazy": false,
           "lineOnly": false,
           "linewidth": 2,
           "matrix": {
            "elements": [
             1,
             0,
             0,
             0,
             0,
             1,
             0,
             0,
             0,
             0,
             1,
             0,
             0,
             0,
             0,
             1
            ]
           },
           "metalness": 0,
           "multipleBond": "off",
           "opacity": 1,
           "openEnded": true,
           "quality": "high",
           "radialSegments": 20,
           "radiusData": {},
           "radiusScale": 2,
           "radiusSize": 0.15,
           "radiusType": "size",
           "roughness": 0.4,
           "sele": "",
           "side": "double",
           "sphereDetail": 2,
           "useInteriorColor": true,
           "visible": true,
           "wireframe": false
          },
          "type": "ball+stick"
         },
         "1": {
          "params": {
           "aspectRatio": 1,
           "assembly": "default",
           "bondScale": 0.4,
           "bondSpacing": 1,
           "clipCenter": {
            "x": 0,
            "y": 0,
            "z": 0
           },
           "clipNear": 0,
           "clipRadius": 0,
           "colorMode": "hcl",
           "colorReverse": false,
           "colorScale": "",
           "colorScheme": "uniform",
           "colorValue": 13983232,
           "cylinderOnly": false,
           "defaultAssembly": "",
           "depthWrite": true,
           "diffuse": 16777215,
           "diffuseInterior": false,
           "disableImpostor": false,
           "disablePicking": false,
           "flatShaded": false,
           "interiorColor": 2236962,
           "interiorDarkening": 0,
           "lazy": false,
           "lineOnly": false,
           "linewidth": 2,
           "matrix": {
            "elements": [
             1,
             0,
             0,
             0,
             0,
             1,
             0,
             0,
             0,
             0,
             1,
             0,
             0,
             0,
             0,
             1
            ]
           },
           "metalness": 0,
           "multipleBond": "off",
           "opacity": 1,
           "openEnded": true,
           "quality": "medium",
           "radialSegments": 10,
           "radiusData": {},
           "radiusScale": 1,
           "radiusSize": 0.5,
           "radiusType": "size",
           "roughness": 0.4,
           "sele": "@8,10,14,16",
           "side": "double",
           "sphereDetail": 1,
           "useInteriorColor": true,
           "visible": true,
           "wireframe": false
          },
          "type": "ball+stick"
         }
        }
       },
       "_ngl_serialize": false,
       "_ngl_version": "2.2.2",
       "_ngl_view_id": [
        "E661D578-11B5-4D8A-8585-E4DF263978EF"
       ],
       "_player_dict": {},
       "_scene_position": {},
       "_scene_rotation": {},
       "_synced_model_ids": [],
       "_synced_repr_model_ids": [],
       "_view_height": "400px",
       "_view_width": "400px",
       "background": "white",
       "frame": 0,
       "gui_style": null,
       "layout": "IPY_MODEL_f2cc91fb95e748608189e99573028ccf",
       "max_frame": 0,
       "n_components": 1,
       "picked": {}
      }
     },
     "9e1cccdf41a0471faa01dfc023e00645": {
      "model_module": "@jupyter-widgets/base",
      "model_module_version": "2.0.0",
      "model_name": "LayoutModel",
      "state": {
       "width": "34px"
      }
     },
     "9e9f4aa321574befa95cb2dfedfc339c": {
      "model_module": "@jupyter-widgets/controls",
      "model_module_version": "2.0.0",
      "model_name": "HBoxModel",
      "state": {
       "children": [
        "IPY_MODEL_b419aa5bc013452489ea2817d765fa29",
        "IPY_MODEL_779f57667327467f8d58e12563e22074"
       ],
       "layout": "IPY_MODEL_f07bf97b28234f199f46e5cf9714fb53"
      }
     },
     "9f3688be0d904d1ab45ae21427b9a168": {
      "model_module": "@jupyter-widgets/controls",
      "model_module_version": "2.0.0",
      "model_name": "LinkModel",
      "state": {
       "source": [
        "IPY_MODEL_0cef3e4683db4328908b208aeee56921",
        "max"
       ],
       "target": [
        "IPY_MODEL_c40d39a02e204ec8aacf619f759809d2",
        "max_frame"
       ]
      }
     },
     "9fe6cf1065a84a3bb3d8bacf488acd3d": {
      "model_module": "@jupyter-widgets/controls",
      "model_module_version": "2.0.0",
      "model_name": "DescriptionStyleModel",
      "state": {
       "description_width": ""
      }
     },
     "9fe6e04d3a9149d39fc3e76697b04dc2": {
      "model_module": "@jupyter-widgets/controls",
      "model_module_version": "2.0.0",
      "model_name": "ButtonStyleModel",
      "state": {
       "font_family": null,
       "font_size": null,
       "font_style": null,
       "font_variant": null,
       "font_weight": null,
       "text_color": null,
       "text_decoration": null
      }
     },
     "a1f2d60705894c4d9461d4ab121e9de3": {
      "model_module": "@jupyter-widgets/base",
      "model_module_version": "2.0.0",
      "model_name": "LayoutModel",
      "state": {}
     },
     "a2087d0622de4e9eb9e788d1160ff703": {
      "model_module": "@jupyter-widgets/controls",
      "model_module_version": "2.0.0",
      "model_name": "IntSliderModel",
      "state": {
       "behavior": "drag-tap",
       "layout": "IPY_MODEL_b8306e5db3cd410c87d2ff9f35af6ec2",
       "max": 0,
       "style": "IPY_MODEL_050cb980a2d5491fb16ada13dc939bfe"
      }
     },
     "a21fdb31ccc4465abd09a5bc7fc6f616": {
      "model_module": "@jupyter-widgets/controls",
      "model_module_version": "2.0.0",
      "model_name": "ButtonStyleModel",
      "state": {
       "font_family": null,
       "font_size": null,
       "font_style": null,
       "font_variant": null,
       "font_weight": null,
       "text_color": null,
       "text_decoration": null
      }
     },
     "a2b20508c5254a22b472cbacdf2df8cc": {
      "model_module": "@jupyter-widgets/controls",
      "model_module_version": "2.0.0",
      "model_name": "ImageModel",
      "state": {
       "layout": "IPY_MODEL_eae894f99fcf458d962190a47c2bb685",
       "width": "900.0"
      }
     },
     "a2bf3c8caa1e4b8da394d8c44ea25e5a": {
      "model_module": "@jupyter-widgets/base",
      "model_module_version": "2.0.0",
      "model_name": "LayoutModel",
      "state": {}
     },
     "a2c043cffd2a42ed8112524598bd1904": {
      "model_module": "@jupyter-widgets/base",
      "model_module_version": "2.0.0",
      "model_name": "LayoutModel",
      "state": {}
     },
     "a3874f314b7745e98126dacbbaa67d5a": {
      "model_module": "@jupyter-widgets/controls",
      "model_module_version": "2.0.0",
      "model_name": "DescriptionStyleModel",
      "state": {
       "description_width": ""
      }
     },
     "a3b091d3aba94720ac48c86c77a77eab": {
      "model_module": "@jupyter-widgets/base",
      "model_module_version": "2.0.0",
      "model_name": "LayoutModel",
      "state": {}
     },
     "a4aeb51808b64f03a1253f43469770d2": {
      "model_module": "@jupyter-widgets/controls",
      "model_module_version": "2.0.0",
      "model_name": "ButtonStyleModel",
      "state": {
       "font_family": null,
       "font_size": null,
       "font_style": null,
       "font_variant": null,
       "font_weight": null,
       "text_color": null,
       "text_decoration": null
      }
     },
     "a4b14882b8304c44997f60977e432882": {
      "model_module": "@jupyter-widgets/controls",
      "model_module_version": "2.0.0",
      "model_name": "SliderStyleModel",
      "state": {
       "description_width": ""
      }
     },
     "a4cd03f252d14b1e8e586062dd929c94": {
      "model_module": "@jupyter-widgets/controls",
      "model_module_version": "2.0.0",
      "model_name": "ButtonModel",
      "state": {
       "icon": "compress",
       "layout": "IPY_MODEL_4956e8bbd98946c6b444bc74d714fac4",
       "style": "IPY_MODEL_e013353904094a228dbd3b8c806ce5fe",
       "tooltip": null
      }
     },
     "a4cf432de8a248a39ab96c5c7b3f4c6c": {
      "model_module": "@jupyter-widgets/controls",
      "model_module_version": "2.0.0",
      "model_name": "PlayModel",
      "state": {
       "layout": "IPY_MODEL_3e476e35b452435992d4b57865a02517",
       "max": 0,
       "style": "IPY_MODEL_44d9fc46686445a4b5b8a3116afcb65e"
      }
     },
     "a7479ab76bbc4a91bfbfe7e8643f13a6": {
      "model_module": "@jupyter-widgets/controls",
      "model_module_version": "2.0.0",
      "model_name": "DescriptionStyleModel",
      "state": {
       "description_width": ""
      }
     },
     "a7954807657a4790b533b7ff5130c69c": {
      "model_module": "@jupyter-widgets/base",
      "model_module_version": "2.0.0",
      "model_name": "LayoutModel",
      "state": {
       "width": "34px"
      }
     },
     "a883424ada57419e9dd752d7a0802ef4": {
      "model_module": "@jupyter-widgets/base",
      "model_module_version": "2.0.0",
      "model_name": "LayoutModel",
      "state": {}
     },
     "a8db0f4f7829498fa4e59bb987f59922": {
      "model_module": "@jupyter-widgets/base",
      "model_module_version": "2.0.0",
      "model_name": "LayoutModel",
      "state": {}
     },
     "a8de953850814d71bef1c5d650bdaabe": {
      "model_module": "@jupyter-widgets/controls",
      "model_module_version": "2.0.0",
      "model_name": "HBoxModel",
      "state": {
       "children": [
        "IPY_MODEL_a4cf432de8a248a39ab96c5c7b3f4c6c",
        "IPY_MODEL_a2087d0622de4e9eb9e788d1160ff703"
       ],
       "layout": "IPY_MODEL_ef266a18c656420e9ec5a591e8a55708"
      }
     },
     "a99d6136b18547e5a4c6733e900dce1c": {
      "model_module": "@jupyter-widgets/base",
      "model_module_version": "2.0.0",
      "model_name": "LayoutModel",
      "state": {
       "width": "34px"
      }
     },
     "aa457f7236494892ae61c94e1b8c2313": {
      "model_module": "@jupyter-widgets/controls",
      "model_module_version": "2.0.0",
      "model_name": "LinkModel",
      "state": {
       "source": [
        "IPY_MODEL_1cd8be57a43d4317b369e14873249448",
        "value"
       ],
       "target": [
        "IPY_MODEL_d8880b4fa0294b109e63ada076b7c91c",
        "frame"
       ]
      }
     },
     "ab39760929e445b08a7a32eef8a8dd0a": {
      "model_module": "@jupyter-widgets/base",
      "model_module_version": "2.0.0",
      "model_name": "LayoutModel",
      "state": {}
     },
     "abb302da77d84839bcf0e135bcdb3e77": {
      "model_module": "@jupyter-widgets/controls",
      "model_module_version": "2.0.0",
      "model_name": "ButtonStyleModel",
      "state": {
       "font_family": null,
       "font_size": null,
       "font_style": null,
       "font_variant": null,
       "font_weight": null,
       "text_color": null,
       "text_decoration": null
      }
     },
     "ac82e49e31614a819f2b2236dc16d6ad": {
      "model_module": "@jupyter-widgets/controls",
      "model_module_version": "2.0.0",
      "model_name": "LinkModel",
      "state": {
       "source": [
        "IPY_MODEL_ccfe3c2c0f504562a045cf16d4c25676",
        "max"
       ],
       "target": [
        "IPY_MODEL_eb5004a11b124ac3ac7440245447ca0d",
        "max_frame"
       ]
      }
     },
     "acc0cdb0710b42a1b3414a36cc016a75": {
      "model_module": "@jupyter-widgets/controls",
      "model_module_version": "2.0.0",
      "model_name": "LinkModel",
      "state": {
       "source": [
        "IPY_MODEL_b419aa5bc013452489ea2817d765fa29",
        "value"
       ],
       "target": [
        "IPY_MODEL_3335c334e2d94bc3ae248a6aa5650a19",
        "frame"
       ]
      }
     },
     "ade5f0260ee54340a143770e8800515a": {
      "model_module": "@jupyter-widgets/controls",
      "model_module_version": "2.0.0",
      "model_name": "DescriptionStyleModel",
      "state": {
       "description_width": ""
      }
     },
     "ae821fa3097241f79c23ebfe366b1f89": {
      "model_module": "@jupyter-widgets/base",
      "model_module_version": "2.0.0",
      "model_name": "LayoutModel",
      "state": {}
     },
     "aeb3c7f469634021a1e2ff0cf070b715": {
      "model_module": "@jupyter-widgets/controls",
      "model_module_version": "2.0.0",
      "model_name": "IntSliderModel",
      "state": {
       "behavior": "drag-tap",
       "layout": "IPY_MODEL_f93b2307130947d99dd4cad11bd486ca",
       "max": 0,
       "style": "IPY_MODEL_625b84ae355f4dc799e9a77076d4cb1b"
      }
     },
     "af4e3aa1ea094f09847c6c8b4ce0ae58": {
      "model_module": "@jupyter-widgets/controls",
      "model_module_version": "2.0.0",
      "model_name": "LinkModel",
      "state": {
       "source": [
        "IPY_MODEL_5c10fcbc17b14bd087686dcf9532e8f9",
        "value"
       ],
       "target": [
        "IPY_MODEL_72444bf220104dbb970e017432263ec2",
        "frame"
       ]
      }
     },
     "af56424eb01848d09b1e793b998e0a11": {
      "model_module": "@jupyter-widgets/controls",
      "model_module_version": "2.0.0",
      "model_name": "LinkModel",
      "state": {
       "source": [
        "IPY_MODEL_8d09f232e33f45bb8a597f6bcd192bb0",
        "value"
       ],
       "target": [
        "IPY_MODEL_943a6680c4454acaa7067cdb300e5783",
        "value"
       ]
      }
     },
     "af74b68d7b934ab5a41424e956d8ed29": {
      "model_module": "@jupyter-widgets/controls",
      "model_module_version": "2.0.0",
      "model_name": "PlayModel",
      "state": {
       "layout": "IPY_MODEL_7016503ca4274578ada2f260a8f0a1b5",
       "max": 0,
       "style": "IPY_MODEL_6bd1bf01c0af48818a186499a9d10c20"
      }
     },
     "b0537c86677c4409a05415de4bb5a50b": {
      "model_module": "@jupyter-widgets/base",
      "model_module_version": "2.0.0",
      "model_name": "LayoutModel",
      "state": {
       "width": "34px"
      }
     },
     "b182c24d787643cd8db26daf74216ec0": {
      "model_module": "@jupyter-widgets/controls",
      "model_module_version": "2.0.0",
      "model_name": "ImageModel",
      "state": {
       "layout": "IPY_MODEL_e63867734d08405aa7aa0142a63baa29",
       "width": "900.0"
      }
     },
     "b2d819a9fcf24f9c81c25f38b2cc601c": {
      "model_module": "@jupyter-widgets/controls",
      "model_module_version": "2.0.0",
      "model_name": "ImageModel",
      "state": {
       "layout": "IPY_MODEL_a1f2d60705894c4d9461d4ab121e9de3",
       "width": "900.0"
      }
     },
     "b3a6370331e54f9bb575544091f5bfd5": {
      "model_module": "@jupyter-widgets/controls",
      "model_module_version": "2.0.0",
      "model_name": "IntSliderModel",
      "state": {
       "behavior": "drag-tap",
       "layout": "IPY_MODEL_4c43f4e37714443881331bfd73963389",
       "max": 0,
       "style": "IPY_MODEL_0ad434a5dff74f80a5e757fb273a6842"
      }
     },
     "b419aa5bc013452489ea2817d765fa29": {
      "model_module": "@jupyter-widgets/controls",
      "model_module_version": "2.0.0",
      "model_name": "PlayModel",
      "state": {
       "layout": "IPY_MODEL_1361e4be83c14f62b75dee1b96a79a4e",
       "max": 0,
       "style": "IPY_MODEL_a3874f314b7745e98126dacbbaa67d5a"
      }
     },
     "b4c9e3c44a1c4890b9dce7bca925558a": {
      "model_module": "@jupyter-widgets/base",
      "model_module_version": "2.0.0",
      "model_name": "LayoutModel",
      "state": {}
     },
     "b4d1aa873fd840b4914952740035d3ac": {
      "model_module": "@jupyter-widgets/controls",
      "model_module_version": "2.0.0",
      "model_name": "SliderStyleModel",
      "state": {
       "description_width": ""
      }
     },
     "b52c173b7d3c4b7690e584781687ca8b": {
      "model_module": "@jupyter-widgets/controls",
      "model_module_version": "2.0.0",
      "model_name": "ButtonStyleModel",
      "state": {
       "font_family": null,
       "font_size": null,
       "font_style": null,
       "font_variant": null,
       "font_weight": null,
       "text_color": null,
       "text_decoration": null
      }
     },
     "b59ff2553ff74fe7a9a72aa6d2b1a02a": {
      "model_module": "@jupyter-widgets/controls",
      "model_module_version": "2.0.0",
      "model_name": "LinkModel",
      "state": {
       "source": [
        "IPY_MODEL_2d296a5158e8491591a02a62efd71a60",
        "max"
       ],
       "target": [
        "IPY_MODEL_15d25f71e76f4a6ab866021ae8b730ca",
        "max_frame"
       ]
      }
     },
     "b69075eb0308437cb1c0fcf19a58da21": {
      "model_module": "@jupyter-widgets/base",
      "model_module_version": "2.0.0",
      "model_name": "LayoutModel",
      "state": {
       "width": "34px"
      }
     },
     "b75e7062c34e42ec9571415450d3594d": {
      "model_module": "@jupyter-widgets/controls",
      "model_module_version": "2.0.0",
      "model_name": "IntSliderModel",
      "state": {
       "behavior": "drag-tap",
       "layout": "IPY_MODEL_8f4f6224ec764879951df9690870f258",
       "max": 0,
       "style": "IPY_MODEL_d037fcbfee3f404380274e314cd99f22"
      }
     },
     "b791c2d31be44a7282aacd01e077d87e": {
      "model_module": "@jupyter-widgets/controls",
      "model_module_version": "2.0.0",
      "model_name": "LinkModel",
      "state": {
       "source": [
        "IPY_MODEL_e810c5f7aa854ac1b2af0ec1a13c1dbe",
        "max"
       ],
       "target": [
        "IPY_MODEL_2d5d4af6cbe2442bae08c588590f71d6",
        "max_frame"
       ]
      }
     },
     "b8306e5db3cd410c87d2ff9f35af6ec2": {
      "model_module": "@jupyter-widgets/base",
      "model_module_version": "2.0.0",
      "model_name": "LayoutModel",
      "state": {}
     },
     "b8413f91f86541ab9ab03cb3e288f245": {
      "model_module": "@jupyter-widgets/controls",
      "model_module_version": "2.0.0",
      "model_name": "PlayModel",
      "state": {
       "layout": "IPY_MODEL_d047917a0da54afe98cdc09b1ee597b8",
       "max": 0,
       "style": "IPY_MODEL_dd9f7ee4683542b585d72d3e0b347a51"
      }
     },
     "b92327440f9d45b0ab7e9aab500f8d42": {
      "model_module": "@jupyter-widgets/controls",
      "model_module_version": "2.0.0",
      "model_name": "ImageModel",
      "state": {
       "layout": "IPY_MODEL_47f59259205942be93e17fb96504f8e2",
       "width": "900.0"
      }
     },
     "b9632003349a46cd958969ad62823ae2": {
      "model_module": "@jupyter-widgets/controls",
      "model_module_version": "2.0.0",
      "model_name": "DescriptionStyleModel",
      "state": {
       "description_width": ""
      }
     },
     "bb4b56a148a24b5daf53c24dbde0b4de": {
      "model_module": "@jupyter-widgets/controls",
      "model_module_version": "2.0.0",
      "model_name": "LinkModel",
      "state": {
       "source": [
        "IPY_MODEL_589cafd115754973aa6777bc8aaa828c",
        "value"
       ],
       "target": [
        "IPY_MODEL_19f64b9a42094fd0bc235056333f189f",
        "value"
       ]
      }
     },
     "bb6d036d024747f988f3be77ea2f4fdc": {
      "model_module": "@jupyter-widgets/controls",
      "model_module_version": "2.0.0",
      "model_name": "DescriptionStyleModel",
      "state": {
       "description_width": ""
      }
     },
     "bc0fa73f48774b52bf90613f3cf85bc9": {
      "model_module": "nglview-js-widgets",
      "model_module_version": "3.1.0",
      "model_name": "NGLModel",
      "state": {
       "_camera_orientation": [
        20.02529114440165,
        -1.4495811674777481,
        -15.124905543681276,
        0,
        -13.394759674622204,
        -13.496178207526594,
        -16.441104760150587,
        0,
        -7.172479803074029,
        21.157226352100704,
        -11.52404639199777,
        0,
        -18.315500259399414,
        -6.558499813079834,
        -22.33099937438965,
        1
       ],
       "_camera_str": "orthographic",
       "_gui_theme": null,
       "_ibtn_fullscreen": "IPY_MODEL_c8aedc75d6254a17979b2ebe16db2808",
       "_igui": null,
       "_iplayer": "IPY_MODEL_7963e221010a4a8aac70ee365342d1d5",
       "_ngl_color_dict": {},
       "_ngl_coordinate_resource": {},
       "_ngl_full_stage_parameters": {
        "ambientColor": 14540253,
        "ambientIntensity": 0.2,
        "backgroundColor": "white",
        "cameraEyeSep": 0.3,
        "cameraFov": 40,
        "cameraType": "perspective",
        "clipDist": 10,
        "clipFar": 100,
        "clipMode": "scene",
        "clipNear": 0,
        "clipScale": "relative",
        "fogFar": 100,
        "fogNear": 50,
        "hoverTimeout": 0,
        "impostor": true,
        "lightColor": 14540253,
        "lightIntensity": 1,
        "mousePreset": "default",
        "panSpeed": 1,
        "quality": "medium",
        "rotateSpeed": 2,
        "sampleLevel": 0,
        "tooltip": true,
        "workerDefault": true,
        "zoomSpeed": 1.2
       },
       "_ngl_msg_archive": [
        {
         "args": [
          {
           "binary": false,
           "data": "HETATM    1  H1  ACE A   1      19.745   3.573  20.603  1.00  0.00           H  \nHETATM    2  CH3 ACE A   1      18.882   3.072  21.040  1.00  0.00           C  \nHETATM    3  H2  ACE A   1      19.299   2.583  21.920  1.00  0.00           H  \nHETATM    4  H3  ACE A   1      18.428   2.368  20.342  1.00  0.00           H  \nHETATM    5  C   ACE A   1      17.901   4.069  21.635  1.00  0.00           C  \nHETATM    6  O   ACE A   1      16.732   3.819  21.870  1.00  0.00           O  \nATOM      7  N   ALA A   2      18.376   5.305  21.721  1.00  0.00           N  \nATOM      8  H   ALA A   2      19.385   5.264  21.729  1.00  0.00           H  \nATOM      9  CA  ALA A   2      17.741   6.537  22.185  1.00  0.00           C  \nATOM     10  HA  ALA A   2      17.046   6.861  21.410  1.00  0.00           H  \nATOM     11  CB  ALA A   2      17.101   6.202  23.577  1.00  0.00           C  \nATOM     12  HB1 ALA A   2      16.563   7.067  23.965  1.00  0.00           H  \nATOM     13  HB2 ALA A   2      17.852   5.934  24.320  1.00  0.00           H  \nATOM     14  HB3 ALA A   2      16.372   5.395  23.523  1.00  0.00           H  \nATOM     15  C   ALA A   2      18.753   7.711  22.379  1.00  0.00           C  \nATOM     16  O   ALA A   2      19.854   7.474  22.785  1.00  0.00           O  \nHETATM   17  N   NME A   3      18.391   8.919  22.068  1.00  0.00           N  \nHETATM   18  H   NME A   3      17.448   8.949  21.704  1.00  0.00           H  \nHETATM   19  C   NME A   3      19.264  10.013  21.870  1.00  0.00           C  \nHETATM   20  H1  NME A   3      19.083  10.525  20.925  1.00  0.00           H  \nHETATM   21  H2  NME A   3      19.202  10.749  22.672  1.00  0.00           H  \nHETATM   22  H3  NME A   3      20.259   9.566  21.880  1.00  0.00           H  \nCONECT    1    2\nCONECT    2    3    4    5\nCONECT    5    6    7\nCONECT    7    8    9\nCONECT    9   10   11   15\nCONECT   11   12   13   14\nCONECT   15   16   16   17\nCONECT   17   18   19\nCONECT   19   20   21   22\nEND\n",
           "type": "blob"
          }
         ],
         "kwargs": {
          "defaultRepresentation": true,
          "ext": "pdb",
          "height": "400px",
          "width": "400px"
         },
         "methodName": "loadFile",
         "reconstruc_color_scheme": false,
         "target": "Stage",
         "type": "call_method"
        }
       ],
       "_ngl_original_stage_parameters": {
        "ambientColor": 14540253,
        "ambientIntensity": 0.2,
        "backgroundColor": "white",
        "cameraEyeSep": 0.3,
        "cameraFov": 40,
        "cameraType": "perspective",
        "clipDist": 10,
        "clipFar": 100,
        "clipMode": "scene",
        "clipNear": 0,
        "clipScale": "relative",
        "fogFar": 100,
        "fogNear": 50,
        "hoverTimeout": 0,
        "impostor": true,
        "lightColor": 14540253,
        "lightIntensity": 1,
        "mousePreset": "default",
        "panSpeed": 1,
        "quality": "medium",
        "rotateSpeed": 2,
        "sampleLevel": 0,
        "tooltip": true,
        "workerDefault": true,
        "zoomSpeed": 1.2
       },
       "_ngl_repr_dict": {
        "0": {
         "0": {
          "params": {
           "aspectRatio": 1.5,
           "assembly": "default",
           "bondScale": 0.3,
           "bondSpacing": 0.75,
           "clipCenter": {
            "x": 0,
            "y": 0,
            "z": 0
           },
           "clipNear": 0,
           "clipRadius": 0,
           "colorMode": "hcl",
           "colorReverse": false,
           "colorScale": "",
           "colorScheme": "element",
           "colorValue": 9474192,
           "cylinderOnly": false,
           "defaultAssembly": "",
           "depthWrite": true,
           "diffuse": 16777215,
           "diffuseInterior": false,
           "disableImpostor": false,
           "disablePicking": false,
           "flatShaded": false,
           "interiorColor": 2236962,
           "interiorDarkening": 0,
           "lazy": false,
           "lineOnly": false,
           "linewidth": 2,
           "matrix": {
            "elements": [
             1,
             0,
             0,
             0,
             0,
             1,
             0,
             0,
             0,
             0,
             1,
             0,
             0,
             0,
             0,
             1
            ]
           },
           "metalness": 0,
           "multipleBond": "off",
           "opacity": 1,
           "openEnded": true,
           "quality": "high",
           "radialSegments": 20,
           "radiusData": {},
           "radiusScale": 2,
           "radiusSize": 0.15,
           "radiusType": "size",
           "roughness": 0.4,
           "sele": "",
           "side": "double",
           "sphereDetail": 2,
           "useInteriorColor": true,
           "visible": true,
           "wireframe": false
          },
          "type": "ball+stick"
         }
        }
       },
       "_ngl_serialize": false,
       "_ngl_version": "2.2.2",
       "_ngl_view_id": [
        "2AE4D234-AF4E-45E3-B877-C6D51A364323"
       ],
       "_player_dict": {},
       "_scene_position": {},
       "_scene_rotation": {},
       "_synced_model_ids": [],
       "_synced_repr_model_ids": [],
       "_view_height": "400px",
       "_view_width": "400px",
       "background": "white",
       "frame": 0,
       "gui_style": null,
       "layout": "IPY_MODEL_2ff4a9bc172a4e228d24d31710cb968d",
       "max_frame": 0,
       "n_components": 1,
       "picked": {}
      }
     },
     "bcb39c92a6da48b4a88a7a16c9bf96e9": {
      "model_module": "@jupyter-widgets/controls",
      "model_module_version": "2.0.0",
      "model_name": "ButtonStyleModel",
      "state": {
       "font_family": null,
       "font_size": null,
       "font_style": null,
       "font_variant": null,
       "font_weight": null,
       "text_color": null,
       "text_decoration": null
      }
     },
     "bd48e85cdf6241d5a9836c62116cde0d": {
      "model_module": "@jupyter-widgets/controls",
      "model_module_version": "2.0.0",
      "model_name": "ImageModel",
      "state": {
       "layout": "IPY_MODEL_5a559c9215ca42bd910c467c04832479",
       "width": "900.0"
      }
     },
     "bea0d31223274fb1ad2658c6d9fd9cac": {
      "model_module": "@jupyter-widgets/controls",
      "model_module_version": "2.0.0",
      "model_name": "SliderStyleModel",
      "state": {
       "description_width": ""
      }
     },
     "bfadca2b17654dc781881a9ea7c8f9b7": {
      "model_module": "@jupyter-widgets/controls",
      "model_module_version": "2.0.0",
      "model_name": "LinkModel",
      "state": {
       "source": [
        "IPY_MODEL_5e95e454b19b4d3cbf4207cb18398c5e",
        "value"
       ],
       "target": [
        "IPY_MODEL_2d5d4af6cbe2442bae08c588590f71d6",
        "frame"
       ]
      }
     },
     "c1688c057ba24bd196595daa8960f1aa": {
      "model_module": "@jupyter-widgets/controls",
      "model_module_version": "2.0.0",
      "model_name": "LinkModel",
      "state": {
       "source": [
        "IPY_MODEL_b75e7062c34e42ec9571415450d3594d",
        "max"
       ],
       "target": [
        "IPY_MODEL_7f95c83ba0014730bd58189826dc3e92",
        "max_frame"
       ]
      }
     },
     "c1a7438793b74e85a71b5351076c423c": {
      "model_module": "nglview-js-widgets",
      "model_module_version": "3.1.0",
      "model_name": "NGLModel",
      "state": {
       "_camera_orientation": [
        -5.10084611313092,
        4.865446627085909,
        24.00187078523915,
        0,
        24.486981481841298,
        1.401126293876375,
        4.919917291860389,
        0,
        -0.38744029255611173,
        24.49786271023999,
        -5.048328019465199,
        0,
        -18.209500312805176,
        -6.626500129699707,
        -22.118000030517578,
        1
       ],
       "_camera_str": "orthographic",
       "_gui_theme": null,
       "_ibtn_fullscreen": "IPY_MODEL_47fc44ad92714f768eaf04917a38bf0d",
       "_igui": null,
       "_iplayer": "IPY_MODEL_6638493a9bda4ebcb6e705a5cd72625c",
       "_ngl_color_dict": {},
       "_ngl_coordinate_resource": {},
       "_ngl_full_stage_parameters": {
        "ambientColor": 14540253,
        "ambientIntensity": 0.2,
        "backgroundColor": "white",
        "cameraEyeSep": 0.3,
        "cameraFov": 40,
        "cameraType": "perspective",
        "clipDist": 10,
        "clipFar": 100,
        "clipMode": "scene",
        "clipNear": 0,
        "clipScale": "relative",
        "fogFar": 100,
        "fogNear": 50,
        "hoverTimeout": 0,
        "impostor": true,
        "lightColor": 14540253,
        "lightIntensity": 1,
        "mousePreset": "default",
        "panSpeed": 1,
        "quality": "medium",
        "rotateSpeed": 2,
        "sampleLevel": 0,
        "tooltip": true,
        "workerDefault": true,
        "zoomSpeed": 1.2
       },
       "_ngl_msg_archive": [
        {
         "args": [
          {
           "binary": false,
           "data": "REMARK   1 CREATED WITH OPENMM 7.1.1, 2017-09-12\nCRYST1   25.580   25.580   25.580  90.00  90.00  90.00 P 1           1 \nHETATM    1  H1  ACE A   1      19.745   3.573  20.603  1.00  0.00           H  \nHETATM    2  CH3 ACE A   1      18.882   3.072  21.040  1.00  0.00           C  \nHETATM    3  H2  ACE A   1      19.299   2.583  21.920  1.00  0.00           H  \nHETATM    4  H3  ACE A   1      18.428   2.368  20.342  1.00  0.00           H  \nHETATM    5  C   ACE A   1      17.901   4.069  21.635  1.00  0.00           C  \nHETATM    6  O   ACE A   1      16.732   3.819  21.870  1.00  0.00           O  \nATOM      7  N   ALA A   2      18.376   5.305  21.721  1.00  0.00           N  \nATOM      8  H   ALA A   2      19.385   5.264  21.729  1.00  0.00           H  \nATOM      9  CA  ALA A   2      17.741   6.537  22.185  1.00  0.00           C  \nATOM     10  HA  ALA A   2      16.674   6.456  21.975  1.00  0.00           H  \nATOM     11  CB  ALA A   2      18.128   6.686  23.697  1.00  0.00           C  \nATOM     12  HB1 ALA A   2      17.646   7.564  24.127  1.00  0.00           H  \nATOM     13  HB2 ALA A   2      19.202   6.812  23.836  1.00  0.00           H  \nATOM     14  HB3 ALA A   2      17.804   5.840  24.302  1.00  0.00           H  \nATOM     15  C   ALA A   2      18.239   7.806  21.423  1.00  0.00           C  \nATOM     16  O   ALA A   2      19.120   7.699  20.619  1.00  0.00           O  \nHETATM   17  N   NME A   3      17.667   8.950  21.653  1.00  0.00           N  \nHETATM   18  H   NME A   3      16.917   8.869  22.326  1.00  0.00           H  \nHETATM   19  C   NME A   3      17.764  10.096  20.832  1.00  0.00           C  \nHETATM   20  H1  NME A   3      16.789  10.514  20.583  1.00  0.00           H  \nHETATM   21  H2  NME A   3      18.366  10.885  21.283  1.00  0.00           H  \nHETATM   22  H3  NME A   3      18.270   9.740  19.934  1.00  0.00           H  \nTER      23      NME A   3\n\nCONECT    1    2\nCONECT    2    5    1    3    4\nCONECT    3    2\nCONECT    4    2\nCONECT    5    2    6    7\nCONECT    6    5\nCONECT    7    5\nCONECT   15   17\nCONECT   17   15   19   18\nCONECT   18   17\nCONECT   19   20   21   22   17\nCONECT   20   19\nCONECT   21   19\nCONECT   22   19\nEND\n",
           "type": "blob"
          }
         ],
         "kwargs": {
          "defaultRepresentation": true,
          "ext": "pdb",
          "height": "400px",
          "width": "400px"
         },
         "methodName": "loadFile",
         "reconstruc_color_scheme": false,
         "target": "Stage",
         "type": "call_method"
        },
        {
         "args": [
          "ball+stick"
         ],
         "component_index": 0,
         "kwargs": {
          "aspectRatio": 1,
          "color": "#D55E00",
          "radius": 0.5,
          "sele": "@4,6,8,14"
         },
         "methodName": "addRepresentation",
         "reconstruc_color_scheme": false,
         "target": "compList",
         "type": "call_method"
        }
       ],
       "_ngl_original_stage_parameters": {
        "ambientColor": 14540253,
        "ambientIntensity": 0.2,
        "backgroundColor": "white",
        "cameraEyeSep": 0.3,
        "cameraFov": 40,
        "cameraType": "perspective",
        "clipDist": 10,
        "clipFar": 100,
        "clipMode": "scene",
        "clipNear": 0,
        "clipScale": "relative",
        "fogFar": 100,
        "fogNear": 50,
        "hoverTimeout": 0,
        "impostor": true,
        "lightColor": 14540253,
        "lightIntensity": 1,
        "mousePreset": "default",
        "panSpeed": 1,
        "quality": "medium",
        "rotateSpeed": 2,
        "sampleLevel": 0,
        "tooltip": true,
        "workerDefault": true,
        "zoomSpeed": 1.2
       },
       "_ngl_repr_dict": {
        "0": {
         "0": {
          "params": {
           "aspectRatio": 1.5,
           "assembly": "default",
           "bondScale": 0.3,
           "bondSpacing": 0.75,
           "clipCenter": {
            "x": 0,
            "y": 0,
            "z": 0
           },
           "clipNear": 0,
           "clipRadius": 0,
           "colorMode": "hcl",
           "colorReverse": false,
           "colorScale": "",
           "colorScheme": "element",
           "colorValue": 9474192,
           "cylinderOnly": false,
           "defaultAssembly": "",
           "depthWrite": true,
           "diffuse": 16777215,
           "diffuseInterior": false,
           "disableImpostor": false,
           "disablePicking": false,
           "flatShaded": false,
           "interiorColor": 2236962,
           "interiorDarkening": 0,
           "lazy": false,
           "lineOnly": false,
           "linewidth": 2,
           "matrix": {
            "elements": [
             1,
             0,
             0,
             0,
             0,
             1,
             0,
             0,
             0,
             0,
             1,
             0,
             0,
             0,
             0,
             1
            ]
           },
           "metalness": 0,
           "multipleBond": "off",
           "opacity": 1,
           "openEnded": true,
           "quality": "high",
           "radialSegments": 20,
           "radiusData": {},
           "radiusScale": 2,
           "radiusSize": 0.15,
           "radiusType": "size",
           "roughness": 0.4,
           "sele": "",
           "side": "double",
           "sphereDetail": 2,
           "useInteriorColor": true,
           "visible": true,
           "wireframe": false
          },
          "type": "ball+stick"
         },
         "1": {
          "params": {
           "aspectRatio": 1,
           "assembly": "default",
           "bondScale": 0.4,
           "bondSpacing": 1,
           "clipCenter": {
            "x": 0,
            "y": 0,
            "z": 0
           },
           "clipNear": 0,
           "clipRadius": 0,
           "colorMode": "hcl",
           "colorReverse": false,
           "colorScale": "",
           "colorScheme": "uniform",
           "colorValue": 13983232,
           "cylinderOnly": false,
           "defaultAssembly": "",
           "depthWrite": true,
           "diffuse": 16777215,
           "diffuseInterior": false,
           "disableImpostor": false,
           "disablePicking": false,
           "flatShaded": false,
           "interiorColor": 2236962,
           "interiorDarkening": 0,
           "lazy": false,
           "lineOnly": false,
           "linewidth": 2,
           "matrix": {
            "elements": [
             1,
             0,
             0,
             0,
             0,
             1,
             0,
             0,
             0,
             0,
             1,
             0,
             0,
             0,
             0,
             1
            ]
           },
           "metalness": 0,
           "multipleBond": "off",
           "opacity": 1,
           "openEnded": true,
           "quality": "medium",
           "radialSegments": 10,
           "radiusData": {},
           "radiusScale": 1,
           "radiusSize": 0.5,
           "radiusType": "size",
           "roughness": 0.4,
           "sele": "@4,6,8,14",
           "side": "double",
           "sphereDetail": 1,
           "useInteriorColor": true,
           "visible": true,
           "wireframe": false
          },
          "type": "ball+stick"
         }
        }
       },
       "_ngl_serialize": false,
       "_ngl_version": "2.2.2",
       "_ngl_view_id": [
        "6F193144-2ED1-4BBB-BFA4-8739953AD5C7"
       ],
       "_player_dict": {},
       "_scene_position": {},
       "_scene_rotation": {},
       "_synced_model_ids": [],
       "_synced_repr_model_ids": [],
       "_view_height": "400px",
       "_view_width": "400px",
       "background": "white",
       "frame": 0,
       "gui_style": null,
       "layout": "IPY_MODEL_1cecac729a9f413cbce31d5f889f7704",
       "max_frame": 0,
       "n_components": 1,
       "picked": {}
      }
     },
     "c1c7a4d3eeee47729bc66a0c70b58905": {
      "model_module": "@jupyter-widgets/controls",
      "model_module_version": "2.0.0",
      "model_name": "HBoxModel",
      "state": {
       "children": [
        "IPY_MODEL_8353400e32c84958802905b1f651fc45",
        "IPY_MODEL_1eb27e5bf951496680dee39b3cfdd0a3"
       ],
       "layout": "IPY_MODEL_fa617de0125846bc9337a90bde64495a"
      }
     },
     "c1d815f1b1c544a7849a82f4ea87b4bf": {
      "model_module": "nglview-js-widgets",
      "model_module_version": "3.1.0",
      "model_name": "NGLModel",
      "state": {
       "_camera_orientation": [
        25.01561518616277,
        0,
        0,
        0,
        0,
        25.01561518616277,
        0,
        0,
        0,
        0,
        25.01561518616277,
        0,
        -18.209500312805176,
        -6.626500129699707,
        -22.118000030517578,
        1
       ],
       "_camera_str": "orthographic",
       "_gui_theme": null,
       "_ibtn_fullscreen": "IPY_MODEL_00e04d9d58b246b89e75874b66d1c7a4",
       "_igui": null,
       "_iplayer": "IPY_MODEL_0674795353d24a1ba4cbfddb0eaf5df4",
       "_ngl_color_dict": {},
       "_ngl_coordinate_resource": {},
       "_ngl_full_stage_parameters": {
        "ambientColor": 14540253,
        "ambientIntensity": 0.2,
        "backgroundColor": "white",
        "cameraEyeSep": 0.3,
        "cameraFov": 40,
        "cameraType": "perspective",
        "clipDist": 10,
        "clipFar": 100,
        "clipMode": "scene",
        "clipNear": 0,
        "clipScale": "relative",
        "fogFar": 100,
        "fogNear": 50,
        "hoverTimeout": 0,
        "impostor": true,
        "lightColor": 14540253,
        "lightIntensity": 1,
        "mousePreset": "default",
        "panSpeed": 1,
        "quality": "medium",
        "rotateSpeed": 2,
        "sampleLevel": 0,
        "tooltip": true,
        "workerDefault": true,
        "zoomSpeed": 1.2
       },
       "_ngl_msg_archive": [
        {
         "args": [
          {
           "binary": false,
           "data": "REMARK   1 CREATED WITH OPENMM 7.1.1, 2017-09-12\nCRYST1   25.580   25.580   25.580  90.00  90.00  90.00 P 1           1 \nHETATM    1  H1  ACE A   1      19.745   3.573  20.603  1.00  0.00           H  \nHETATM    2  CH3 ACE A   1      18.882   3.072  21.040  1.00  0.00           C  \nHETATM    3  H2  ACE A   1      19.299   2.583  21.920  1.00  0.00           H  \nHETATM    4  H3  ACE A   1      18.428   2.368  20.342  1.00  0.00           H  \nHETATM    5  C   ACE A   1      17.901   4.069  21.635  1.00  0.00           C  \nHETATM    6  O   ACE A   1      16.732   3.819  21.870  1.00  0.00           O  \nATOM      7  N   ALA A   2      18.376   5.305  21.721  1.00  0.00           N  \nATOM      8  H   ALA A   2      19.385   5.264  21.729  1.00  0.00           H  \nATOM      9  CA  ALA A   2      17.741   6.537  22.185  1.00  0.00           C  \nATOM     10  HA  ALA A   2      16.674   6.456  21.975  1.00  0.00           H  \nATOM     11  CB  ALA A   2      18.128   6.686  23.697  1.00  0.00           C  \nATOM     12  HB1 ALA A   2      17.646   7.564  24.127  1.00  0.00           H  \nATOM     13  HB2 ALA A   2      19.202   6.812  23.836  1.00  0.00           H  \nATOM     14  HB3 ALA A   2      17.804   5.840  24.302  1.00  0.00           H  \nATOM     15  C   ALA A   2      18.239   7.806  21.423  1.00  0.00           C  \nATOM     16  O   ALA A   2      19.120   7.699  20.619  1.00  0.00           O  \nHETATM   17  N   NME A   3      17.667   8.950  21.653  1.00  0.00           N  \nHETATM   18  H   NME A   3      16.917   8.869  22.326  1.00  0.00           H  \nHETATM   19  C   NME A   3      17.764  10.096  20.832  1.00  0.00           C  \nHETATM   20  H1  NME A   3      16.789  10.514  20.583  1.00  0.00           H  \nHETATM   21  H2  NME A   3      18.366  10.885  21.283  1.00  0.00           H  \nHETATM   22  H3  NME A   3      18.270   9.740  19.934  1.00  0.00           H  \nTER      23      NME A   3\n\nCONECT    1    2\nCONECT    2    5    1    3    4\nCONECT    3    2\nCONECT    4    2\nCONECT    5    2    6    7\nCONECT    6    5\nCONECT    7    5\nCONECT   15   17\nCONECT   17   15   19   18\nCONECT   18   17\nCONECT   19   20   21   22   17\nCONECT   20   19\nCONECT   21   19\nCONECT   22   19\nEND\n",
           "type": "blob"
          }
         ],
         "kwargs": {
          "defaultRepresentation": true,
          "ext": "pdb",
          "height": "400px",
          "width": "400px"
         },
         "methodName": "loadFile",
         "reconstruc_color_scheme": false,
         "target": "Stage",
         "type": "call_method"
        }
       ],
       "_ngl_original_stage_parameters": {
        "ambientColor": 14540253,
        "ambientIntensity": 0.2,
        "backgroundColor": "white",
        "cameraEyeSep": 0.3,
        "cameraFov": 40,
        "cameraType": "perspective",
        "clipDist": 10,
        "clipFar": 100,
        "clipMode": "scene",
        "clipNear": 0,
        "clipScale": "relative",
        "fogFar": 100,
        "fogNear": 50,
        "hoverTimeout": 0,
        "impostor": true,
        "lightColor": 14540253,
        "lightIntensity": 1,
        "mousePreset": "default",
        "panSpeed": 1,
        "quality": "medium",
        "rotateSpeed": 2,
        "sampleLevel": 0,
        "tooltip": true,
        "workerDefault": true,
        "zoomSpeed": 1.2
       },
       "_ngl_repr_dict": {
        "0": {
         "0": {
          "params": {
           "aspectRatio": 1.5,
           "assembly": "default",
           "bondScale": 0.3,
           "bondSpacing": 0.75,
           "clipCenter": {
            "x": 0,
            "y": 0,
            "z": 0
           },
           "clipNear": 0,
           "clipRadius": 0,
           "colorMode": "hcl",
           "colorReverse": false,
           "colorScale": "",
           "colorScheme": "element",
           "colorValue": 9474192,
           "cylinderOnly": false,
           "defaultAssembly": "",
           "depthWrite": true,
           "diffuse": 16777215,
           "diffuseInterior": false,
           "disableImpostor": false,
           "disablePicking": false,
           "flatShaded": false,
           "interiorColor": 2236962,
           "interiorDarkening": 0,
           "lazy": false,
           "lineOnly": false,
           "linewidth": 2,
           "matrix": {
            "elements": [
             1,
             0,
             0,
             0,
             0,
             1,
             0,
             0,
             0,
             0,
             1,
             0,
             0,
             0,
             0,
             1
            ]
           },
           "metalness": 0,
           "multipleBond": "off",
           "opacity": 1,
           "openEnded": true,
           "quality": "high",
           "radialSegments": 20,
           "radiusData": {},
           "radiusScale": 2,
           "radiusSize": 0.15,
           "radiusType": "size",
           "roughness": 0.4,
           "sele": "",
           "side": "double",
           "sphereDetail": 2,
           "useInteriorColor": true,
           "visible": true,
           "wireframe": false
          },
          "type": "ball+stick"
         }
        }
       },
       "_ngl_serialize": false,
       "_ngl_version": "2.2.2",
       "_ngl_view_id": [
        "3C79073F-3763-45A1-968F-311976AE2BD2"
       ],
       "_player_dict": {},
       "_scene_position": {},
       "_scene_rotation": {},
       "_synced_model_ids": [],
       "_synced_repr_model_ids": [],
       "_view_height": "400px",
       "_view_width": "400px",
       "background": "white",
       "frame": 0,
       "gui_style": null,
       "layout": "IPY_MODEL_29978c3d569c4512bfb339c0e3912e04",
       "max_frame": 0,
       "n_components": 1,
       "picked": {}
      }
     },
     "c2398881bf7b48368ef637223269e79a": {
      "model_module": "@jupyter-widgets/controls",
      "model_module_version": "2.0.0",
      "model_name": "SliderStyleModel",
      "state": {
       "description_width": ""
      }
     },
     "c25bd96da34e445399347dc01c382d61": {
      "model_module": "@jupyter-widgets/base",
      "model_module_version": "2.0.0",
      "model_name": "LayoutModel",
      "state": {}
     },
     "c2c7683c3a674847a403ff5d4a9dc27b": {
      "model_module": "@jupyter-widgets/base",
      "model_module_version": "2.0.0",
      "model_name": "LayoutModel",
      "state": {}
     },
     "c2e19818eef2498fbe493cebf932c8d5": {
      "model_module": "@jupyter-widgets/base",
      "model_module_version": "2.0.0",
      "model_name": "LayoutModel",
      "state": {}
     },
     "c2f66e6ee6b74a69846daedb1228babe": {
      "model_module": "@jupyter-widgets/controls",
      "model_module_version": "2.0.0",
      "model_name": "HBoxModel",
      "state": {
       "children": [
        "IPY_MODEL_2d296a5158e8491591a02a62efd71a60",
        "IPY_MODEL_829aa71806b44b4a976160bafbd09a0d"
       ],
       "layout": "IPY_MODEL_6e38d5c606c2487696e0568ab03fbc74"
      }
     },
     "c40d39a02e204ec8aacf619f759809d2": {
      "model_module": "nglview-js-widgets",
      "model_module_version": "3.1.0",
      "model_name": "NGLModel",
      "state": {
       "_camera_orientation": [],
       "_camera_str": "orthographic",
       "_gui_theme": null,
       "_ibtn_fullscreen": "IPY_MODEL_30c9cd305e7244eab0efc8f34ce059c1",
       "_igui": null,
       "_iplayer": "IPY_MODEL_7e3d6f68c2a9419aa0af6d890f00e1a1",
       "_ngl_color_dict": {},
       "_ngl_coordinate_resource": {},
       "_ngl_full_stage_parameters": {},
       "_ngl_msg_archive": [
        {
         "args": [
          {
           "binary": false,
           "data": "REMARK   1 CREATED WITH OPENMM 7.1.1, 2017-09-12\nCRYST1   25.580   25.580   25.580  90.00  90.00  90.00 P 1           1 \nHETATM    1  H1  ACE A   1      19.745   3.573  20.603  1.00  0.00           H  \nHETATM    2  CH3 ACE A   1      18.882   3.072  21.040  1.00  0.00           C  \nHETATM    3  H2  ACE A   1      19.299   2.583  21.920  1.00  0.00           H  \nHETATM    4  H3  ACE A   1      18.428   2.368  20.342  1.00  0.00           H  \nHETATM    5  C   ACE A   1      17.901   4.069  21.635  1.00  0.00           C  \nHETATM    6  O   ACE A   1      16.732   3.819  21.870  1.00  0.00           O  \nATOM      7  N   ALA A   2      18.376   5.305  21.721  1.00  0.00           N  \nATOM      8  H   ALA A   2      19.385   5.264  21.729  1.00  0.00           H  \nATOM      9  CA  ALA A   2      17.741   6.537  22.185  1.00  0.00           C  \nATOM     10  HA  ALA A   2      16.674   6.456  21.975  1.00  0.00           H  \nATOM     11  CB  ALA A   2      18.128   6.686  23.697  1.00  0.00           C  \nATOM     12  HB1 ALA A   2      17.646   7.564  24.127  1.00  0.00           H  \nATOM     13  HB2 ALA A   2      19.202   6.812  23.836  1.00  0.00           H  \nATOM     14  HB3 ALA A   2      17.804   5.840  24.302  1.00  0.00           H  \nATOM     15  C   ALA A   2      18.239   7.806  21.423  1.00  0.00           C  \nATOM     16  O   ALA A   2      19.120   7.699  20.619  1.00  0.00           O  \nHETATM   17  N   NME A   3      17.667   8.950  21.653  1.00  0.00           N  \nHETATM   18  H   NME A   3      16.917   8.869  22.326  1.00  0.00           H  \nHETATM   19  C   NME A   3      17.764  10.096  20.832  1.00  0.00           C  \nHETATM   20  H1  NME A   3      16.789  10.514  20.583  1.00  0.00           H  \nHETATM   21  H2  NME A   3      18.366  10.885  21.283  1.00  0.00           H  \nHETATM   22  H3  NME A   3      18.270   9.740  19.934  1.00  0.00           H  \nTER      23      NME A   3\n\nCONECT    1    2\nCONECT    2    5    1    3    4\nCONECT    3    2\nCONECT    4    2\nCONECT    5    2    6    7\nCONECT    6    5\nCONECT    7    5\nCONECT   15   17\nCONECT   17   15   19   18\nCONECT   18   17\nCONECT   19   20   21   22   17\nCONECT   20   19\nCONECT   21   19\nCONECT   22   19\nEND\n",
           "type": "blob"
          }
         ],
         "kwargs": {
          "defaultRepresentation": true,
          "ext": "pdb",
          "height": "400px",
          "width": "400px"
         },
         "methodName": "loadFile",
         "reconstruc_color_scheme": false,
         "target": "Stage",
         "type": "call_method"
        }
       ],
       "_ngl_original_stage_parameters": {},
       "_ngl_repr_dict": {},
       "_ngl_serialize": false,
       "_ngl_version": "",
       "_ngl_view_id": [],
       "_player_dict": {},
       "_scene_position": {},
       "_scene_rotation": {},
       "_synced_model_ids": [],
       "_synced_repr_model_ids": [],
       "_view_height": "400px",
       "_view_width": "400px",
       "background": "white",
       "frame": 0,
       "gui_style": null,
       "layout": "IPY_MODEL_0a789ae824b542c6b66fd9f2b3040d48",
       "max_frame": 0,
       "n_components": 0,
       "picked": {}
      }
     },
     "c5f0b422767545cc9900cced642ccc49": {
      "model_module": "@jupyter-widgets/base",
      "model_module_version": "2.0.0",
      "model_name": "LayoutModel",
      "state": {}
     },
     "c64ad8a85e2840a0a1ad9316f1abf9c3": {
      "model_module": "@jupyter-widgets/controls",
      "model_module_version": "2.0.0",
      "model_name": "ButtonModel",
      "state": {
       "icon": "compress",
       "layout": "IPY_MODEL_e0406c9e162c42fc94345d9062e6fa49",
       "style": "IPY_MODEL_5380fe22357240bfb5d5944984294d6a",
       "tooltip": null
      }
     },
     "c6d309330e02452fa91534c280f7dfba": {
      "model_module": "@jupyter-widgets/base",
      "model_module_version": "2.0.0",
      "model_name": "LayoutModel",
      "state": {}
     },
     "c70161db26a14d28ae9b1bd31e9fcc1b": {
      "model_module": "@jupyter-widgets/controls",
      "model_module_version": "2.0.0",
      "model_name": "ButtonModel",
      "state": {
       "icon": "compress",
       "layout": "IPY_MODEL_f50c01a81ea14750a4be599c2576f94d",
       "style": "IPY_MODEL_9fe6e04d3a9149d39fc3e76697b04dc2",
       "tooltip": null
      }
     },
     "c820955a0f5241da91a7808017029136": {
      "model_module": "@jupyter-widgets/base",
      "model_module_version": "2.0.0",
      "model_name": "LayoutModel",
      "state": {}
     },
     "c8aedc75d6254a17979b2ebe16db2808": {
      "model_module": "@jupyter-widgets/controls",
      "model_module_version": "2.0.0",
      "model_name": "ButtonModel",
      "state": {
       "icon": "compress",
       "layout": "IPY_MODEL_a7954807657a4790b533b7ff5130c69c",
       "style": "IPY_MODEL_6d8795b1d2b547d2b0ac0472082be06b",
       "tooltip": null
      }
     },
     "c9849dee3f93418595d973050fca22ee": {
      "model_module": "@jupyter-widgets/controls",
      "model_module_version": "2.0.0",
      "model_name": "SliderStyleModel",
      "state": {
       "description_width": ""
      }
     },
     "c99c6cbcc30d4407b05ac208b2168427": {
      "model_module": "@jupyter-widgets/controls",
      "model_module_version": "2.0.0",
      "model_name": "LinkModel",
      "state": {
       "source": [
        "IPY_MODEL_0cef3e4683db4328908b208aeee56921",
        "value"
       ],
       "target": [
        "IPY_MODEL_c40d39a02e204ec8aacf619f759809d2",
        "frame"
       ]
      }
     },
     "cc2a483adf15483a9556be13127e3a88": {
      "model_module": "@jupyter-widgets/controls",
      "model_module_version": "2.0.0",
      "model_name": "ButtonStyleModel",
      "state": {
       "font_family": null,
       "font_size": null,
       "font_style": null,
       "font_variant": null,
       "font_weight": null,
       "text_color": null,
       "text_decoration": null
      }
     },
     "ccfe3c2c0f504562a045cf16d4c25676": {
      "model_module": "@jupyter-widgets/controls",
      "model_module_version": "2.0.0",
      "model_name": "IntSliderModel",
      "state": {
       "behavior": "drag-tap",
       "layout": "IPY_MODEL_82c31a41a8d74b25aa174d7a2d6f689c",
       "max": 0,
       "style": "IPY_MODEL_95d72a62d86f4e9c9e3a8ba79ad9a81c"
      }
     },
     "cd0520b279c34d02b192edd7bf07af02": {
      "model_module": "@jupyter-widgets/base",
      "model_module_version": "2.0.0",
      "model_name": "LayoutModel",
      "state": {}
     },
     "cde2d465623d467485a43f960c139fd8": {
      "model_module": "@jupyter-widgets/controls",
      "model_module_version": "2.0.0",
      "model_name": "LinkModel",
      "state": {
       "source": [
        "IPY_MODEL_d9b6f619cbde42f1b3d0d9003760278b",
        "value"
       ],
       "target": [
        "IPY_MODEL_da8c15c1ea544db796b45420f3f55ceb",
        "value"
       ]
      }
     },
     "cea921147a884becb2a18721fd6358db": {
      "model_module": "@jupyter-widgets/controls",
      "model_module_version": "2.0.0",
      "model_name": "PlayModel",
      "state": {
       "layout": "IPY_MODEL_34c832a6535e45ab8327da3c3b178edc",
       "max": 0,
       "style": "IPY_MODEL_f46d2e1e04014984a9845d2af42fc092"
      }
     },
     "d037fcbfee3f404380274e314cd99f22": {
      "model_module": "@jupyter-widgets/controls",
      "model_module_version": "2.0.0",
      "model_name": "SliderStyleModel",
      "state": {
       "description_width": ""
      }
     },
     "d047917a0da54afe98cdc09b1ee597b8": {
      "model_module": "@jupyter-widgets/base",
      "model_module_version": "2.0.0",
      "model_name": "LayoutModel",
      "state": {}
     },
     "d104266e2ef041cd88662f0f6b2bb828": {
      "model_module": "@jupyter-widgets/controls",
      "model_module_version": "2.0.0",
      "model_name": "LinkModel",
      "state": {
       "source": [
        "IPY_MODEL_b8413f91f86541ab9ab03cb3e288f245",
        "value"
       ],
       "target": [
        "IPY_MODEL_bc0fa73f48774b52bf90613f3cf85bc9",
        "frame"
       ]
      }
     },
     "d26603bd49a0445fb1d087cfff3e712e": {
      "model_module": "@jupyter-widgets/controls",
      "model_module_version": "2.0.0",
      "model_name": "LinkModel",
      "state": {
       "source": [
        "IPY_MODEL_67b9a75ea22a4e259f51e545260603db",
        "value"
       ],
       "target": [
        "IPY_MODEL_aeb3c7f469634021a1e2ff0cf070b715",
        "value"
       ]
      }
     },
     "d271da311438493d865368e8e0bd0f6c": {
      "model_module": "@jupyter-widgets/controls",
      "model_module_version": "2.0.0",
      "model_name": "ButtonModel",
      "state": {
       "icon": "compress",
       "layout": "IPY_MODEL_d9a58d3bdca2445b9521a46f90d8382a",
       "style": "IPY_MODEL_cc2a483adf15483a9556be13127e3a88",
       "tooltip": null
      }
     },
     "d4c7955173f541e28689ecdd99755ee5": {
      "model_module": "@jupyter-widgets/base",
      "model_module_version": "2.0.0",
      "model_name": "LayoutModel",
      "state": {}
     },
     "d58eb26c447d4133aca267f0bc6cc1c6": {
      "model_module": "@jupyter-widgets/controls",
      "model_module_version": "2.0.0",
      "model_name": "HBoxModel",
      "state": {
       "children": [
        "IPY_MODEL_67b9a75ea22a4e259f51e545260603db",
        "IPY_MODEL_aeb3c7f469634021a1e2ff0cf070b715"
       ],
       "layout": "IPY_MODEL_8f87fd5239d3440eb227402d1789de00"
      }
     },
     "d651f01793fe4dd99ea2f748249f54e7": {
      "model_module": "@jupyter-widgets/controls",
      "model_module_version": "2.0.0",
      "model_name": "PlayModel",
      "state": {
       "layout": "IPY_MODEL_ab39760929e445b08a7a32eef8a8dd0a",
       "max": 0,
       "style": "IPY_MODEL_2fa5716fb7614f41b0a0b61f3191e6a4"
      }
     },
     "d7309cc5d50641d09661f076416dd38b": {
      "model_module": "@jupyter-widgets/base",
      "model_module_version": "2.0.0",
      "model_name": "LayoutModel",
      "state": {}
     },
     "d741bcf56bbb42ee885e1c697479fa8c": {
      "model_module": "@jupyter-widgets/controls",
      "model_module_version": "2.0.0",
      "model_name": "LinkModel",
      "state": {
       "source": [
        "IPY_MODEL_d9b6f619cbde42f1b3d0d9003760278b",
        "value"
       ],
       "target": [
        "IPY_MODEL_643bbb3d485344619f0f1e885e37b1dc",
        "frame"
       ]
      }
     },
     "d7ed2bc24ec8479dadcda988367deb37": {
      "model_module": "@jupyter-widgets/controls",
      "model_module_version": "2.0.0",
      "model_name": "SliderStyleModel",
      "state": {
       "description_width": ""
      }
     },
     "d8880b4fa0294b109e63ada076b7c91c": {
      "model_module": "nglview-js-widgets",
      "model_module_version": "3.1.0",
      "model_name": "NGLModel",
      "state": {
       "_camera_orientation": [
        25.01561518616277,
        0,
        0,
        0,
        0,
        25.01561518616277,
        0,
        0,
        0,
        0,
        25.01561518616277,
        0,
        -18.209500312805176,
        -6.626500129699707,
        -22.118000030517578,
        1
       ],
       "_camera_str": "orthographic",
       "_gui_theme": null,
       "_ibtn_fullscreen": "IPY_MODEL_c64ad8a85e2840a0a1ad9316f1abf9c3",
       "_igui": null,
       "_iplayer": "IPY_MODEL_06e8a66518554053b70f979b37f9dc65",
       "_ngl_color_dict": {},
       "_ngl_coordinate_resource": {},
       "_ngl_full_stage_parameters": {
        "ambientColor": 14540253,
        "ambientIntensity": 0.2,
        "backgroundColor": "white",
        "cameraEyeSep": 0.3,
        "cameraFov": 40,
        "cameraType": "perspective",
        "clipDist": 10,
        "clipFar": 100,
        "clipMode": "scene",
        "clipNear": 0,
        "clipScale": "relative",
        "fogFar": 100,
        "fogNear": 50,
        "hoverTimeout": 0,
        "impostor": true,
        "lightColor": 14540253,
        "lightIntensity": 1,
        "mousePreset": "default",
        "panSpeed": 1,
        "quality": "medium",
        "rotateSpeed": 2,
        "sampleLevel": 0,
        "tooltip": true,
        "workerDefault": true,
        "zoomSpeed": 1.2
       },
       "_ngl_msg_archive": [
        {
         "args": [
          {
           "binary": false,
           "data": "REMARK   1 CREATED WITH OPENMM 7.1.1, 2017-09-12\nCRYST1   25.580   25.580   25.580  90.00  90.00  90.00 P 1           1 \nHETATM    1  H1  ACE A   1      19.745   3.573  20.603  1.00  0.00           H  \nHETATM    2  CH3 ACE A   1      18.882   3.072  21.040  1.00  0.00           C  \nHETATM    3  H2  ACE A   1      19.299   2.583  21.920  1.00  0.00           H  \nHETATM    4  H3  ACE A   1      18.428   2.368  20.342  1.00  0.00           H  \nHETATM    5  C   ACE A   1      17.901   4.069  21.635  1.00  0.00           C  \nHETATM    6  O   ACE A   1      16.732   3.819  21.870  1.00  0.00           O  \nATOM      7  N   ALA A   2      18.376   5.305  21.721  1.00  0.00           N  \nATOM      8  H   ALA A   2      19.385   5.264  21.729  1.00  0.00           H  \nATOM      9  CA  ALA A   2      17.741   6.537  22.185  1.00  0.00           C  \nATOM     10  HA  ALA A   2      16.674   6.456  21.975  1.00  0.00           H  \nATOM     11  CB  ALA A   2      18.128   6.686  23.697  1.00  0.00           C  \nATOM     12  HB1 ALA A   2      17.646   7.564  24.127  1.00  0.00           H  \nATOM     13  HB2 ALA A   2      19.202   6.812  23.836  1.00  0.00           H  \nATOM     14  HB3 ALA A   2      17.804   5.840  24.302  1.00  0.00           H  \nATOM     15  C   ALA A   2      18.239   7.806  21.423  1.00  0.00           C  \nATOM     16  O   ALA A   2      19.120   7.699  20.619  1.00  0.00           O  \nHETATM   17  N   NME A   3      17.667   8.950  21.653  1.00  0.00           N  \nHETATM   18  H   NME A   3      16.917   8.869  22.326  1.00  0.00           H  \nHETATM   19  C   NME A   3      17.764  10.096  20.832  1.00  0.00           C  \nHETATM   20  H1  NME A   3      16.789  10.514  20.583  1.00  0.00           H  \nHETATM   21  H2  NME A   3      18.366  10.885  21.283  1.00  0.00           H  \nHETATM   22  H3  NME A   3      18.270   9.740  19.934  1.00  0.00           H  \nTER      23      NME A   3\n\nCONECT    1    2\nCONECT    2    5    1    3    4\nCONECT    3    2\nCONECT    4    2\nCONECT    5    2    6    7\nCONECT    6    5\nCONECT    7    5\nCONECT   15   17\nCONECT   17   15   19   18\nCONECT   18   17\nCONECT   19   20   21   22   17\nCONECT   20   19\nCONECT   21   19\nCONECT   22   19\nEND\n",
           "type": "blob"
          }
         ],
         "kwargs": {
          "defaultRepresentation": true,
          "ext": "pdb",
          "height": "400px",
          "width": "400px"
         },
         "methodName": "loadFile",
         "reconstruc_color_scheme": false,
         "target": "Stage",
         "type": "call_method"
        },
        {
         "args": [
          "ball+stick"
         ],
         "component_index": 0,
         "kwargs": {
          "aspectRatio": 1,
          "color": "#0072B2",
          "radius": 0.5,
          "sele": "@8,10,14,16"
         },
         "methodName": "addRepresentation",
         "reconstruc_color_scheme": false,
         "target": "compList",
         "type": "call_method"
        }
       ],
       "_ngl_original_stage_parameters": {
        "ambientColor": 14540253,
        "ambientIntensity": 0.2,
        "backgroundColor": "white",
        "cameraEyeSep": 0.3,
        "cameraFov": 40,
        "cameraType": "perspective",
        "clipDist": 10,
        "clipFar": 100,
        "clipMode": "scene",
        "clipNear": 0,
        "clipScale": "relative",
        "fogFar": 100,
        "fogNear": 50,
        "hoverTimeout": 0,
        "impostor": true,
        "lightColor": 14540253,
        "lightIntensity": 1,
        "mousePreset": "default",
        "panSpeed": 1,
        "quality": "medium",
        "rotateSpeed": 2,
        "sampleLevel": 0,
        "tooltip": true,
        "workerDefault": true,
        "zoomSpeed": 1.2
       },
       "_ngl_repr_dict": {
        "0": {
         "0": {
          "params": {
           "aspectRatio": 1.5,
           "assembly": "default",
           "bondScale": 0.3,
           "bondSpacing": 0.75,
           "clipCenter": {
            "x": 0,
            "y": 0,
            "z": 0
           },
           "clipNear": 0,
           "clipRadius": 0,
           "colorMode": "hcl",
           "colorReverse": false,
           "colorScale": "",
           "colorScheme": "element",
           "colorValue": 9474192,
           "cylinderOnly": false,
           "defaultAssembly": "",
           "depthWrite": true,
           "diffuse": 16777215,
           "diffuseInterior": false,
           "disableImpostor": false,
           "disablePicking": false,
           "flatShaded": false,
           "interiorColor": 2236962,
           "interiorDarkening": 0,
           "lazy": false,
           "lineOnly": false,
           "linewidth": 2,
           "matrix": {
            "elements": [
             1,
             0,
             0,
             0,
             0,
             1,
             0,
             0,
             0,
             0,
             1,
             0,
             0,
             0,
             0,
             1
            ]
           },
           "metalness": 0,
           "multipleBond": "off",
           "opacity": 1,
           "openEnded": true,
           "quality": "high",
           "radialSegments": 20,
           "radiusData": {},
           "radiusScale": 2,
           "radiusSize": 0.15,
           "radiusType": "size",
           "roughness": 0.4,
           "sele": "",
           "side": "double",
           "sphereDetail": 2,
           "useInteriorColor": true,
           "visible": true,
           "wireframe": false
          },
          "type": "ball+stick"
         },
         "1": {
          "params": {
           "aspectRatio": 1,
           "assembly": "default",
           "bondScale": 0.4,
           "bondSpacing": 1,
           "clipCenter": {
            "x": 0,
            "y": 0,
            "z": 0
           },
           "clipNear": 0,
           "clipRadius": 0,
           "colorMode": "hcl",
           "colorReverse": false,
           "colorScale": "",
           "colorScheme": "uniform",
           "colorValue": 29362,
           "cylinderOnly": false,
           "defaultAssembly": "",
           "depthWrite": true,
           "diffuse": 16777215,
           "diffuseInterior": false,
           "disableImpostor": false,
           "disablePicking": false,
           "flatShaded": false,
           "interiorColor": 2236962,
           "interiorDarkening": 0,
           "lazy": false,
           "lineOnly": false,
           "linewidth": 2,
           "matrix": {
            "elements": [
             1,
             0,
             0,
             0,
             0,
             1,
             0,
             0,
             0,
             0,
             1,
             0,
             0,
             0,
             0,
             1
            ]
           },
           "metalness": 0,
           "multipleBond": "off",
           "opacity": 1,
           "openEnded": true,
           "quality": "medium",
           "radialSegments": 10,
           "radiusData": {},
           "radiusScale": 1,
           "radiusSize": 0.5,
           "radiusType": "size",
           "roughness": 0.4,
           "sele": "@8,10,14,16",
           "side": "double",
           "sphereDetail": 1,
           "useInteriorColor": true,
           "visible": true,
           "wireframe": false
          },
          "type": "ball+stick"
         }
        }
       },
       "_ngl_serialize": false,
       "_ngl_version": "2.2.2",
       "_ngl_view_id": [
        "1F8798EF-096C-41DF-9EEA-687A676A3A55"
       ],
       "_player_dict": {},
       "_scene_position": {},
       "_scene_rotation": {},
       "_synced_model_ids": [],
       "_synced_repr_model_ids": [],
       "_view_height": "400px",
       "_view_width": "400px",
       "background": "white",
       "frame": 0,
       "gui_style": null,
       "layout": "IPY_MODEL_5822abe878cc4f59bc3416c6edd44623",
       "max_frame": 0,
       "n_components": 1,
       "picked": {}
      }
     },
     "d95eef1148164367aa81f9f16d256d51": {
      "model_module": "@jupyter-widgets/controls",
      "model_module_version": "2.0.0",
      "model_name": "ImageModel",
      "state": {
       "layout": "IPY_MODEL_c5f0b422767545cc9900cced642ccc49",
       "width": "900.0"
      }
     },
     "d9a58d3bdca2445b9521a46f90d8382a": {
      "model_module": "@jupyter-widgets/base",
      "model_module_version": "2.0.0",
      "model_name": "LayoutModel",
      "state": {
       "width": "34px"
      }
     },
     "d9b6f619cbde42f1b3d0d9003760278b": {
      "model_module": "@jupyter-widgets/controls",
      "model_module_version": "2.0.0",
      "model_name": "PlayModel",
      "state": {
       "layout": "IPY_MODEL_20f1c0f419cd49a3a72b6da3a37f9ca1",
       "max": 0,
       "style": "IPY_MODEL_7359ced4ca3e44b8ad9baa79bdafd328"
      }
     },
     "da3070873b8741a7a29b41c1c2b8d4b4": {
      "model_module": "@jupyter-widgets/controls",
      "model_module_version": "2.0.0",
      "model_name": "HBoxModel",
      "state": {
       "children": [
        "IPY_MODEL_af74b68d7b934ab5a41424e956d8ed29",
        "IPY_MODEL_ccfe3c2c0f504562a045cf16d4c25676"
       ],
       "layout": "IPY_MODEL_a2c043cffd2a42ed8112524598bd1904"
      }
     },
     "da8c15c1ea544db796b45420f3f55ceb": {
      "model_module": "@jupyter-widgets/controls",
      "model_module_version": "2.0.0",
      "model_name": "IntSliderModel",
      "state": {
       "behavior": "drag-tap",
       "layout": "IPY_MODEL_08d8bf0544d444278c892e01502332a2",
       "max": 0,
       "style": "IPY_MODEL_bea0d31223274fb1ad2658c6d9fd9cac"
      }
     },
     "db9605f3897a48ca961f77e437e6df66": {
      "model_module": "@jupyter-widgets/controls",
      "model_module_version": "2.0.0",
      "model_name": "LinkModel",
      "state": {
       "source": [
        "IPY_MODEL_9af2b04090184e1fbb393b89cf221950",
        "max"
       ],
       "target": [
        "IPY_MODEL_bc0fa73f48774b52bf90613f3cf85bc9",
        "max_frame"
       ]
      }
     },
     "dbe20f9cc5ce492997323ae1dc2f5632": {
      "model_module": "@jupyter-widgets/controls",
      "model_module_version": "2.0.0",
      "model_name": "HBoxModel",
      "state": {
       "children": [
        "IPY_MODEL_d9b6f619cbde42f1b3d0d9003760278b",
        "IPY_MODEL_da8c15c1ea544db796b45420f3f55ceb"
       ],
       "layout": "IPY_MODEL_0317df35c8674e668d00ce9e8e6796fa"
      }
     },
     "dc4f6a4b762a4431a743c8f23c83d930": {
      "model_module": "@jupyter-widgets/controls",
      "model_module_version": "2.0.0",
      "model_name": "IntSliderModel",
      "state": {
       "behavior": "drag-tap",
       "layout": "IPY_MODEL_062069b73c614cdaa51bb56400287d56",
       "max": 0,
       "style": "IPY_MODEL_92f0a70f4e0a4623b2ca1e7455440647"
      }
     },
     "dc87bc3a3da749efbe5e11d129ee572c": {
      "model_module": "@jupyter-widgets/controls",
      "model_module_version": "2.0.0",
      "model_name": "LinkModel",
      "state": {
       "source": [
        "IPY_MODEL_af74b68d7b934ab5a41424e956d8ed29",
        "max"
       ],
       "target": [
        "IPY_MODEL_eb5004a11b124ac3ac7440245447ca0d",
        "max_frame"
       ]
      }
     },
     "dd9f7ee4683542b585d72d3e0b347a51": {
      "model_module": "@jupyter-widgets/controls",
      "model_module_version": "2.0.0",
      "model_name": "DescriptionStyleModel",
      "state": {
       "description_width": ""
      }
     },
     "de2eb425d2a54a7c8de64677ee94ea75": {
      "model_module": "@jupyter-widgets/controls",
      "model_module_version": "2.0.0",
      "model_name": "LinkModel",
      "state": {
       "source": [
        "IPY_MODEL_d9b6f619cbde42f1b3d0d9003760278b",
        "max"
       ],
       "target": [
        "IPY_MODEL_643bbb3d485344619f0f1e885e37b1dc",
        "max_frame"
       ]
      }
     },
     "e013353904094a228dbd3b8c806ce5fe": {
      "model_module": "@jupyter-widgets/controls",
      "model_module_version": "2.0.0",
      "model_name": "ButtonStyleModel",
      "state": {
       "font_family": null,
       "font_size": null,
       "font_style": null,
       "font_variant": null,
       "font_weight": null,
       "text_color": null,
       "text_decoration": null
      }
     },
     "e0406c9e162c42fc94345d9062e6fa49": {
      "model_module": "@jupyter-widgets/base",
      "model_module_version": "2.0.0",
      "model_name": "LayoutModel",
      "state": {
       "width": "34px"
      }
     },
     "e0a255a89195456c9763871471588292": {
      "model_module": "@jupyter-widgets/base",
      "model_module_version": "2.0.0",
      "model_name": "LayoutModel",
      "state": {}
     },
     "e11a1b7a1b7c44c2b756b05b7439ed09": {
      "model_module": "@jupyter-widgets/controls",
      "model_module_version": "2.0.0",
      "model_name": "ButtonModel",
      "state": {
       "icon": "compress",
       "layout": "IPY_MODEL_9e1cccdf41a0471faa01dfc023e00645",
       "style": "IPY_MODEL_a4aeb51808b64f03a1253f43469770d2",
       "tooltip": null
      }
     },
     "e1c6ffb6bc724ff2913c9ea48dc895e5": {
      "model_module": "@jupyter-widgets/base",
      "model_module_version": "2.0.0",
      "model_name": "LayoutModel",
      "state": {}
     },
     "e3dfe9f5f27d4ea2b6f672c3498b8fe6": {
      "model_module": "@jupyter-widgets/base",
      "model_module_version": "2.0.0",
      "model_name": "LayoutModel",
      "state": {}
     },
     "e491a447bc7c44319082ed4a1e4020f7": {
      "model_module": "@jupyter-widgets/base",
      "model_module_version": "2.0.0",
      "model_name": "LayoutModel",
      "state": {}
     },
     "e4e6ba8cd68a44d384617e5dd1d28f1d": {
      "model_module": "@jupyter-widgets/base",
      "model_module_version": "2.0.0",
      "model_name": "LayoutModel",
      "state": {}
     },
     "e55d4a23fefc4ffe8fc86b61875c9b75": {
      "model_module": "@jupyter-widgets/controls",
      "model_module_version": "2.0.0",
      "model_name": "ButtonStyleModel",
      "state": {
       "font_family": null,
       "font_size": null,
       "font_style": null,
       "font_variant": null,
       "font_weight": null,
       "text_color": null,
       "text_decoration": null
      }
     },
     "e5a06057bbba42839ded76fece40dccf": {
      "model_module": "@jupyter-widgets/controls",
      "model_module_version": "2.0.0",
      "model_name": "LinkModel",
      "state": {
       "source": [
        "IPY_MODEL_a2087d0622de4e9eb9e788d1160ff703",
        "max"
       ],
       "target": [
        "IPY_MODEL_377b5a7ab7ca4437a68badc07a1c4524",
        "max_frame"
       ]
      }
     },
     "e63867734d08405aa7aa0142a63baa29": {
      "model_module": "@jupyter-widgets/base",
      "model_module_version": "2.0.0",
      "model_name": "LayoutModel",
      "state": {}
     },
     "e810c5f7aa854ac1b2af0ec1a13c1dbe": {
      "model_module": "@jupyter-widgets/controls",
      "model_module_version": "2.0.0",
      "model_name": "IntSliderModel",
      "state": {
       "behavior": "drag-tap",
       "layout": "IPY_MODEL_64e3dfac98c040fbbe9c7292ff0f2025",
       "max": 0,
       "style": "IPY_MODEL_0400efaa389346488ee1d2baf69f09e0"
      }
     },
     "e81125383f484c9cb27c24a5b1ff156a": {
      "model_module": "@jupyter-widgets/controls",
      "model_module_version": "2.0.0",
      "model_name": "ButtonModel",
      "state": {
       "icon": "compress",
       "layout": "IPY_MODEL_4c07db59637d4c79b4fd72483799795e",
       "style": "IPY_MODEL_a21fdb31ccc4465abd09a5bc7fc6f616",
       "tooltip": null
      }
     },
     "eae894f99fcf458d962190a47c2bb685": {
      "model_module": "@jupyter-widgets/base",
      "model_module_version": "2.0.0",
      "model_name": "LayoutModel",
      "state": {}
     },
     "eb5004a11b124ac3ac7440245447ca0d": {
      "model_module": "nglview-js-widgets",
      "model_module_version": "3.1.0",
      "model_name": "NGLModel",
      "state": {
       "_camera_orientation": [
        8.102121132689593,
        5.978965649972111,
        -22.899532878420512,
        0,
        -23.649881060372582,
        2.971263437918726,
        -7.59181944957199,
        0,
        0.9054071590378443,
        24.108184636781125,
        6.614882806023281,
        0,
        -18.209500312805176,
        -6.626500129699707,
        -22.118000030517578,
        1
       ],
       "_camera_str": "orthographic",
       "_gui_theme": null,
       "_ibtn_fullscreen": "IPY_MODEL_8e594794b6b8424bbf2c4a544f7d375f",
       "_igui": null,
       "_iplayer": "IPY_MODEL_da3070873b8741a7a29b41c1c2b8d4b4",
       "_ngl_color_dict": {},
       "_ngl_coordinate_resource": {},
       "_ngl_full_stage_parameters": {
        "ambientColor": 14540253,
        "ambientIntensity": 0.2,
        "backgroundColor": "white",
        "cameraEyeSep": 0.3,
        "cameraFov": 40,
        "cameraType": "perspective",
        "clipDist": 10,
        "clipFar": 100,
        "clipMode": "scene",
        "clipNear": 0,
        "clipScale": "relative",
        "fogFar": 100,
        "fogNear": 50,
        "hoverTimeout": 0,
        "impostor": true,
        "lightColor": 14540253,
        "lightIntensity": 1,
        "mousePreset": "default",
        "panSpeed": 1,
        "quality": "medium",
        "rotateSpeed": 2,
        "sampleLevel": 0,
        "tooltip": true,
        "workerDefault": true,
        "zoomSpeed": 1.2
       },
       "_ngl_msg_archive": [
        {
         "args": [
          {
           "binary": false,
           "data": "REMARK   1 CREATED WITH OPENMM 7.1.1, 2017-09-12\nCRYST1   25.580   25.580   25.580  90.00  90.00  90.00 P 1           1 \nHETATM    1  H1  ACE A   1      19.745   3.573  20.603  1.00  0.00           H  \nHETATM    2  CH3 ACE A   1      18.882   3.072  21.040  1.00  0.00           C  \nHETATM    3  H2  ACE A   1      19.299   2.583  21.920  1.00  0.00           H  \nHETATM    4  H3  ACE A   1      18.428   2.368  20.342  1.00  0.00           H  \nHETATM    5  C   ACE A   1      17.901   4.069  21.635  1.00  0.00           C  \nHETATM    6  O   ACE A   1      16.732   3.819  21.870  1.00  0.00           O  \nATOM      7  N   ALA A   2      18.376   5.305  21.721  1.00  0.00           N  \nATOM      8  H   ALA A   2      19.385   5.264  21.729  1.00  0.00           H  \nATOM      9  CA  ALA A   2      17.741   6.537  22.185  1.00  0.00           C  \nATOM     10  HA  ALA A   2      16.674   6.456  21.975  1.00  0.00           H  \nATOM     11  CB  ALA A   2      18.128   6.686  23.697  1.00  0.00           C  \nATOM     12  HB1 ALA A   2      17.646   7.564  24.127  1.00  0.00           H  \nATOM     13  HB2 ALA A   2      19.202   6.812  23.836  1.00  0.00           H  \nATOM     14  HB3 ALA A   2      17.804   5.840  24.302  1.00  0.00           H  \nATOM     15  C   ALA A   2      18.239   7.806  21.423  1.00  0.00           C  \nATOM     16  O   ALA A   2      19.120   7.699  20.619  1.00  0.00           O  \nHETATM   17  N   NME A   3      17.667   8.950  21.653  1.00  0.00           N  \nHETATM   18  H   NME A   3      16.917   8.869  22.326  1.00  0.00           H  \nHETATM   19  C   NME A   3      17.764  10.096  20.832  1.00  0.00           C  \nHETATM   20  H1  NME A   3      16.789  10.514  20.583  1.00  0.00           H  \nHETATM   21  H2  NME A   3      18.366  10.885  21.283  1.00  0.00           H  \nHETATM   22  H3  NME A   3      18.270   9.740  19.934  1.00  0.00           H  \nTER      23      NME A   3\n\nCONECT    1    2\nCONECT    2    5    1    3    4\nCONECT    3    2\nCONECT    4    2\nCONECT    5    2    6    7\nCONECT    6    5\nCONECT    7    5\nCONECT   15   17\nCONECT   17   15   19   18\nCONECT   18   17\nCONECT   19   20   21   22   17\nCONECT   20   19\nCONECT   21   19\nCONECT   22   19\nEND\n",
           "type": "blob"
          }
         ],
         "kwargs": {
          "defaultRepresentation": true,
          "ext": "pdb",
          "height": "400px",
          "width": "400px"
         },
         "methodName": "loadFile",
         "reconstruc_color_scheme": false,
         "target": "Stage",
         "type": "call_method"
        },
        {
         "args": [
          "ball+stick"
         ],
         "component_index": 0,
         "kwargs": {
          "aspectRatio": 1,
          "color": "#D55E00",
          "radius": 0.5,
          "sele": "@4,6,8,14"
         },
         "methodName": "addRepresentation",
         "reconstruc_color_scheme": false,
         "target": "compList",
         "type": "call_method"
        }
       ],
       "_ngl_original_stage_parameters": {
        "ambientColor": 14540253,
        "ambientIntensity": 0.2,
        "backgroundColor": "white",
        "cameraEyeSep": 0.3,
        "cameraFov": 40,
        "cameraType": "perspective",
        "clipDist": 10,
        "clipFar": 100,
        "clipMode": "scene",
        "clipNear": 0,
        "clipScale": "relative",
        "fogFar": 100,
        "fogNear": 50,
        "hoverTimeout": 0,
        "impostor": true,
        "lightColor": 14540253,
        "lightIntensity": 1,
        "mousePreset": "default",
        "panSpeed": 1,
        "quality": "medium",
        "rotateSpeed": 2,
        "sampleLevel": 0,
        "tooltip": true,
        "workerDefault": true,
        "zoomSpeed": 1.2
       },
       "_ngl_repr_dict": {
        "0": {
         "0": {
          "params": {
           "aspectRatio": 1.5,
           "assembly": "default",
           "bondScale": 0.3,
           "bondSpacing": 0.75,
           "clipCenter": {
            "x": 0,
            "y": 0,
            "z": 0
           },
           "clipNear": 0,
           "clipRadius": 0,
           "colorMode": "hcl",
           "colorReverse": false,
           "colorScale": "",
           "colorScheme": "element",
           "colorValue": 9474192,
           "cylinderOnly": false,
           "defaultAssembly": "",
           "depthWrite": true,
           "diffuse": 16777215,
           "diffuseInterior": false,
           "disableImpostor": false,
           "disablePicking": false,
           "flatShaded": false,
           "interiorColor": 2236962,
           "interiorDarkening": 0,
           "lazy": false,
           "lineOnly": false,
           "linewidth": 2,
           "matrix": {
            "elements": [
             1,
             0,
             0,
             0,
             0,
             1,
             0,
             0,
             0,
             0,
             1,
             0,
             0,
             0,
             0,
             1
            ]
           },
           "metalness": 0,
           "multipleBond": "off",
           "opacity": 1,
           "openEnded": true,
           "quality": "high",
           "radialSegments": 20,
           "radiusData": {},
           "radiusScale": 2,
           "radiusSize": 0.15,
           "radiusType": "size",
           "roughness": 0.4,
           "sele": "",
           "side": "double",
           "sphereDetail": 2,
           "useInteriorColor": true,
           "visible": true,
           "wireframe": false
          },
          "type": "ball+stick"
         },
         "1": {
          "params": {
           "aspectRatio": 1,
           "assembly": "default",
           "bondScale": 0.4,
           "bondSpacing": 1,
           "clipCenter": {
            "x": 0,
            "y": 0,
            "z": 0
           },
           "clipNear": 0,
           "clipRadius": 0,
           "colorMode": "hcl",
           "colorReverse": false,
           "colorScale": "",
           "colorScheme": "uniform",
           "colorValue": 13983232,
           "cylinderOnly": false,
           "defaultAssembly": "",
           "depthWrite": true,
           "diffuse": 16777215,
           "diffuseInterior": false,
           "disableImpostor": false,
           "disablePicking": false,
           "flatShaded": false,
           "interiorColor": 2236962,
           "interiorDarkening": 0,
           "lazy": false,
           "lineOnly": false,
           "linewidth": 2,
           "matrix": {
            "elements": [
             1,
             0,
             0,
             0,
             0,
             1,
             0,
             0,
             0,
             0,
             1,
             0,
             0,
             0,
             0,
             1
            ]
           },
           "metalness": 0,
           "multipleBond": "off",
           "opacity": 1,
           "openEnded": true,
           "quality": "medium",
           "radialSegments": 10,
           "radiusData": {},
           "radiusScale": 1,
           "radiusSize": 0.5,
           "radiusType": "size",
           "roughness": 0.4,
           "sele": "@4,6,8,14",
           "side": "double",
           "sphereDetail": 1,
           "useInteriorColor": true,
           "visible": true,
           "wireframe": false
          },
          "type": "ball+stick"
         }
        }
       },
       "_ngl_serialize": false,
       "_ngl_version": "2.2.2",
       "_ngl_view_id": [
        "0948171B-37BA-422D-A69C-3C3043AEA438"
       ],
       "_player_dict": {},
       "_scene_position": {},
       "_scene_rotation": {},
       "_synced_model_ids": [],
       "_synced_repr_model_ids": [],
       "_view_height": "400px",
       "_view_width": "400px",
       "background": "white",
       "frame": 0,
       "gui_style": null,
       "layout": "IPY_MODEL_ae821fa3097241f79c23ebfe366b1f89",
       "max_frame": 0,
       "n_components": 1,
       "picked": {}
      }
     },
     "eb541553faad4524bd4ee633ab59b430": {
      "model_module": "@jupyter-widgets/base",
      "model_module_version": "2.0.0",
      "model_name": "LayoutModel",
      "state": {}
     },
     "ed6dc251667f45a1b870c1e493ee0f07": {
      "model_module": "@jupyter-widgets/controls",
      "model_module_version": "2.0.0",
      "model_name": "IntSliderModel",
      "state": {
       "behavior": "drag-tap",
       "layout": "IPY_MODEL_c2c7683c3a674847a403ff5d4a9dc27b",
       "max": 0,
       "style": "IPY_MODEL_8f49436cc9bb4316b0bc405bd71fb1fa"
      }
     },
     "ef0d0ad935c241b19a3693b8916e7ffa": {
      "model_module": "@jupyter-widgets/controls",
      "model_module_version": "2.0.0",
      "model_name": "HBoxModel",
      "state": {
       "children": [
        "IPY_MODEL_56f6e342f64746d5bcf37d032f7d661f",
        "IPY_MODEL_3209b2fb2298465f97a665d37e46a5bd"
       ],
       "layout": "IPY_MODEL_d4c7955173f541e28689ecdd99755ee5"
      }
     },
     "ef266a18c656420e9ec5a591e8a55708": {
      "model_module": "@jupyter-widgets/base",
      "model_module_version": "2.0.0",
      "model_name": "LayoutModel",
      "state": {}
     },
     "ef33a81e672f4fa98c5ade1d8f914d72": {
      "model_module": "@jupyter-widgets/controls",
      "model_module_version": "2.0.0",
      "model_name": "LinkModel",
      "state": {
       "source": [
        "IPY_MODEL_b419aa5bc013452489ea2817d765fa29",
        "max"
       ],
       "target": [
        "IPY_MODEL_3335c334e2d94bc3ae248a6aa5650a19",
        "max_frame"
       ]
      }
     },
     "f07bf97b28234f199f46e5cf9714fb53": {
      "model_module": "@jupyter-widgets/base",
      "model_module_version": "2.0.0",
      "model_name": "LayoutModel",
      "state": {}
     },
     "f0f883615b7f49838e2487085f1cce39": {
      "model_module": "@jupyter-widgets/controls",
      "model_module_version": "2.0.0",
      "model_name": "LinkModel",
      "state": {
       "source": [
        "IPY_MODEL_67b9a75ea22a4e259f51e545260603db",
        "value"
       ],
       "target": [
        "IPY_MODEL_5900c5e4da9a42bcb2ab279af3fc9f8c",
        "frame"
       ]
      }
     },
     "f17c5f3b432c404fa73dfd9625769260": {
      "model_module": "@jupyter-widgets/controls",
      "model_module_version": "2.0.0",
      "model_name": "LinkModel",
      "state": {
       "source": [
        "IPY_MODEL_1eb27e5bf951496680dee39b3cfdd0a3",
        "max"
       ],
       "target": [
        "IPY_MODEL_62cd61280c104c5d93d9583b2bf27f8a",
        "max_frame"
       ]
      }
     },
     "f1bbf29175104922be7f1667fb58af58": {
      "model_module": "@jupyter-widgets/controls",
      "model_module_version": "2.0.0",
      "model_name": "LinkModel",
      "state": {
       "source": [
        "IPY_MODEL_d651f01793fe4dd99ea2f748249f54e7",
        "value"
       ],
       "target": [
        "IPY_MODEL_58fd821b708748e89aef97017c7def24",
        "value"
       ]
      }
     },
     "f29fcceba53a4eb5984c95fbdb1020bf": {
      "model_module": "@jupyter-widgets/controls",
      "model_module_version": "2.0.0",
      "model_name": "ButtonStyleModel",
      "state": {
       "font_family": null,
       "font_size": null,
       "font_style": null,
       "font_variant": null,
       "font_weight": null,
       "text_color": null,
       "text_decoration": null
      }
     },
     "f2c01151bfb94552b0d3de237fa780cc": {
      "model_module": "@jupyter-widgets/base",
      "model_module_version": "2.0.0",
      "model_name": "LayoutModel",
      "state": {}
     },
     "f2cc91fb95e748608189e99573028ccf": {
      "model_module": "@jupyter-widgets/base",
      "model_module_version": "2.0.0",
      "model_name": "LayoutModel",
      "state": {}
     },
     "f2ea60cc6e804db0977708caae1e0062": {
      "model_module": "@jupyter-widgets/controls",
      "model_module_version": "2.0.0",
      "model_name": "LinkModel",
      "state": {
       "source": [
        "IPY_MODEL_dc4f6a4b762a4431a743c8f23c83d930",
        "max"
       ],
       "target": [
        "IPY_MODEL_3d4170b6f81b478584982165c44edaee",
        "max_frame"
       ]
      }
     },
     "f3b02e145a2740a885083fb8e0aa9993": {
      "model_module": "@jupyter-widgets/base",
      "model_module_version": "2.0.0",
      "model_name": "LayoutModel",
      "state": {}
     },
     "f46d2e1e04014984a9845d2af42fc092": {
      "model_module": "@jupyter-widgets/controls",
      "model_module_version": "2.0.0",
      "model_name": "DescriptionStyleModel",
      "state": {
       "description_width": ""
      }
     },
     "f4c919cb8fa942889b128840ee94744f": {
      "model_module": "@jupyter-widgets/controls",
      "model_module_version": "2.0.0",
      "model_name": "ButtonStyleModel",
      "state": {
       "font_family": null,
       "font_size": null,
       "font_style": null,
       "font_variant": null,
       "font_weight": null,
       "text_color": null,
       "text_decoration": null
      }
     },
     "f50c01a81ea14750a4be599c2576f94d": {
      "model_module": "@jupyter-widgets/base",
      "model_module_version": "2.0.0",
      "model_name": "LayoutModel",
      "state": {
       "width": "34px"
      }
     },
     "f59f682247f3450fb063f96427095dc7": {
      "model_module": "@jupyter-widgets/controls",
      "model_module_version": "2.0.0",
      "model_name": "SliderStyleModel",
      "state": {
       "description_width": ""
      }
     },
     "f70c2bb1a8364d188e55cf73f850fb2a": {
      "model_module": "@jupyter-widgets/controls",
      "model_module_version": "2.0.0",
      "model_name": "LinkModel",
      "state": {
       "source": [
        "IPY_MODEL_af74b68d7b934ab5a41424e956d8ed29",
        "value"
       ],
       "target": [
        "IPY_MODEL_eb5004a11b124ac3ac7440245447ca0d",
        "frame"
       ]
      }
     },
     "f86e7c03cf744c7da3513abfb131ef60": {
      "model_module": "@jupyter-widgets/controls",
      "model_module_version": "2.0.0",
      "model_name": "LinkModel",
      "state": {
       "source": [
        "IPY_MODEL_da8c15c1ea544db796b45420f3f55ceb",
        "max"
       ],
       "target": [
        "IPY_MODEL_643bbb3d485344619f0f1e885e37b1dc",
        "max_frame"
       ]
      }
     },
     "f89cd9f09ce2493eaff312aa1d25450b": {
      "model_module": "@jupyter-widgets/controls",
      "model_module_version": "2.0.0",
      "model_name": "LinkModel",
      "state": {
       "source": [
        "IPY_MODEL_6fd04e7d200e4b36a548b773e31bf321",
        "max"
       ],
       "target": [
        "IPY_MODEL_6ecf78935d074836a826b3368dc47f69",
        "max_frame"
       ]
      }
     },
     "f93b2307130947d99dd4cad11bd486ca": {
      "model_module": "@jupyter-widgets/base",
      "model_module_version": "2.0.0",
      "model_name": "LayoutModel",
      "state": {}
     },
     "fa617de0125846bc9337a90bde64495a": {
      "model_module": "@jupyter-widgets/base",
      "model_module_version": "2.0.0",
      "model_name": "LayoutModel",
      "state": {}
     },
     "fb47a0a794dc4c7d99796313f879e10f": {
      "model_module": "@jupyter-widgets/controls",
      "model_module_version": "2.0.0",
      "model_name": "LinkModel",
      "state": {
       "source": [
        "IPY_MODEL_58fd821b708748e89aef97017c7def24",
        "max"
       ],
       "target": [
        "IPY_MODEL_c1d815f1b1c544a7849a82f4ea87b4bf",
        "max_frame"
       ]
      }
     },
     "fb702354216f486182a01197df2c58d8": {
      "model_module": "@jupyter-widgets/controls",
      "model_module_version": "2.0.0",
      "model_name": "LinkModel",
      "state": {
       "source": [
        "IPY_MODEL_af74b68d7b934ab5a41424e956d8ed29",
        "value"
       ],
       "target": [
        "IPY_MODEL_ccfe3c2c0f504562a045cf16d4c25676",
        "value"
       ]
      }
     },
     "fd1c892c37724fd191181741662bf12c": {
      "model_module": "@jupyter-widgets/base",
      "model_module_version": "2.0.0",
      "model_name": "LayoutModel",
      "state": {}
     },
     "ff3982609fef477684574a3de77a173b": {
      "model_module": "@jupyter-widgets/controls",
      "model_module_version": "2.0.0",
      "model_name": "LinkModel",
      "state": {
       "source": [
        "IPY_MODEL_8d09f232e33f45bb8a597f6bcd192bb0",
        "max"
       ],
       "target": [
        "IPY_MODEL_31e24cf5e290435eb09c7179cb742fec",
        "max_frame"
       ]
      }
     }
    },
    "version_major": 2,
    "version_minor": 0
   }
  }
 },
 "nbformat": 4,
 "nbformat_minor": 4
}
