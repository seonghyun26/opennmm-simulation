{
 "cells": [
  {
   "cell_type": "markdown",
   "metadata": {},
   "source": [
    "# Trajectory View"
   ]
  },
  {
   "cell_type": "markdown",
   "metadata": {},
   "source": [
    "## Configurations"
   ]
  },
  {
   "cell_type": "code",
   "execution_count": 1,
   "metadata": {},
   "outputs": [
    {
     "data": {
      "application/vnd.jupyter.widget-view+json": {
       "model_id": "c4e531d35b7841c4a0e85856afe4cec9",
       "version_major": 2,
       "version_minor": 0
      },
      "text/plain": []
     },
     "metadata": {},
     "output_type": "display_data"
    }
   ],
   "source": [
    "from sys import stdout\n",
    "\n",
    "import time\n",
    "import random\n",
    "import mdtraj\n",
    "import nglview\n",
    "import pandas\n",
    "import numpy as np\n",
    "import matplotlib.pyplot as plt\n",
    "\n",
    "from openmm import *\n",
    "from tqdm.auto import tqdm\n",
    "from matplotlib import animation \n",
    "from openmm.app import *\n",
    "from openmm.unit import *\n",
    "from matplotlib.colors import LogNorm\n",
    "from mpl_toolkits.mplot3d import Axes3D"
   ]
  },
  {
   "cell_type": "code",
   "execution_count": 2,
   "metadata": {},
   "outputs": [],
   "source": [
    "data_dir = \"../data\"\n",
    "IMAGE_SIZE = \"400px\""
   ]
  },
  {
   "cell_type": "markdown",
   "metadata": {},
   "source": [
    "## View trajectory"
   ]
  },
  {
   "cell_type": "code",
   "execution_count": 3,
   "metadata": {},
   "outputs": [],
   "source": [
    "molecule = \"ad-c5\"\n",
    "result_dir = f\"../log/{molecule}\"\n",
    "date = \"0814-19:24:18\"\n",
    "\n",
    "molecule = \"alanine\"\n",
    "state = \"c5\""
   ]
  },
  {
   "cell_type": "code",
   "execution_count": 4,
   "metadata": {},
   "outputs": [
    {
     "data": {
      "text/plain": [
       "<Axes: xlabel='#\"Time (ps)\"'>"
      ]
     },
     "execution_count": 4,
     "metadata": {},
     "output_type": "execute_result"
    },
    {
     "data": {
      "image/png": "[encoded data removed]",
      "text/plain": [
       "<Figure size 640x480 with 1 Axes>"
      ]
     },
     "metadata": {},
     "output_type": "display_data"
    }
   ],
   "source": [
    "df1 = pandas.read_csv(f\"{result_dir}/{date}/scalars.csv\")\n",
    "df1.plot(kind=\"line\", x='#\"Time (ps)\"', y=\"Potential Energy (kJ/mole)\")"
   ]
  },
  {
   "cell_type": "code",
   "execution_count": null,
   "metadata": {
    "scrolled": true
   },
   "outputs": [
    {
     "name": "stdout",
     "output_type": "stream",
     "text": [
      "Loading trajectory...\n",
      "<--- 696.8790719509125 seconds --->\n",
      "Showing trajectory...\n"
     ]
    }
   ],
   "source": [
    "start = time.time()\n",
    "print(\"Loading trajectory...\")\n",
    "traj_ad = mdtraj.load(\n",
    "    f\"{result_dir}/{date}/traj.dcd\",\n",
    "    top=f\"{data_dir}/alanine/{state}.pdb\"\n",
    ")\n",
    "end = time.time()\n",
    "print(f\"<--- {end-start} seconds --->\")\n",
    "\n",
    "print(\"Showing trajectory...\")\n",
    "traj_ad.superpose(traj_ad, 0)\n",
    "nglview.show_mdtraj(traj_ad, width=IMAGE_SIZE, height=IMAGE_SIZE)\n",
    "end2 = time.time()\n",
    "print(f\"<--- {end2-end} seconds --->\")"
   ]
  },
  {
   "cell_type": "code",
   "execution_count": null,
   "metadata": {},
   "outputs": [],
   "source": [
    "def plot_ramachandran(traj, phi_start=None, psi_start=None):\n",
    "    from matplotlib.gridspec import GridSpec\n",
    "\n",
    "    phis = mdtraj.compute_phi(traj)[1].ravel()\n",
    "    psis = mdtraj.compute_psi(traj)[1].ravel()\n",
    "\n",
    "    fig = plt.figure()\n",
    "    gs = GridSpec(nrows=3, ncols=3)\n",
    "    \n",
    "    # Ramachandran plot\n",
    "    ax1 = fig.add_subplot(gs[:2, :2])\n",
    "    ax1.scatter(phi_start * 180 / np.pi, psi_start * 180 / np.pi, s=20, color=\"red\", zorder=0)\n",
    "    ax1.hist2d(phis * 180 / np.pi, psis * 180 / np.pi, 100, norm=LogNorm(), zorder=1)\n",
    "    ax1.set_xlim(-180, 180)\n",
    "    ax1.set_ylim(-180, 180)\n",
    "    ax1.set_xticks(np.linspace(-180, 180, 5))\n",
    "    ax1.set_yticks(np.linspace(-180, 180, 5))\n",
    "    ax1.set_xlabel(\"Phi [deg]\")\n",
    "    ax1.set_ylabel(\"Psi [deg]\")\n",
    "    \n",
    "    # Phi(t) plot\n",
    "    ax2 = fig.add_subplot(gs[0, 2])\n",
    "    ax2.hist2d(np.arange(len(phis)), phis * 180 / np.pi, 100, norm=LogNorm(), zorder=1)\n",
    "    ax2.axhline(0)\n",
    "    ax2.set_ylim(-180, 180)\n",
    "    ax2.set_yticks(np.linspace(-180, 180, 5))\n",
    "    ax2.set_xlabel(\"Step\")\n",
    "    ax2.set_ylabel(\"Phi [deg]\")\n",
    "    \n",
    "    # Psi(t) plot\n",
    "    ax3 = fig.add_subplot(gs[1, 2])\n",
    "    ax3.hist2d(np.arange(len(phis)), psis * 180 / np.pi, 100, norm=LogNorm(), zorder=1)\n",
    "    ax3.axhline(0)\n",
    "    ax3.set_ylim(-180, 180)\n",
    "    ax3.set_yticks(np.linspace(-180, 180, 5))\n",
    "    ax3.set_xlabel(\"Step\")\n",
    "    ax3.set_ylabel(\"Psi [deg]\")\n",
    "\n",
    "    fig.tight_layout()\n",
    "\n",
    "state_file = f\"{data_dir}/{molecule}/{state}.pdb\"\n",
    "state_traj = mdtraj.load(state_file)\n",
    "psi_start = mdtraj.compute_psi(state_traj)[1].ravel()[0]\n",
    "phi_start = mdtraj.compute_phi(state_traj)[1].ravel()[0]"
   ]
  },
  {
   "cell_type": "code",
   "execution_count": null,
   "metadata": {},
   "outputs": [],
   "source": [
    "plot_ramachandran(\n",
    "    traj_ad,\n",
    "    phi_start = phi_start,\n",
    "    psi_start = psi_start\n",
    ")"
   ]
  },
  {
   "cell_type": "markdown",
   "metadata": {},
   "source": [
    "## Traj with states"
   ]
  },
  {
   "cell_type": "code",
   "execution_count": null,
   "metadata": {},
   "outputs": [],
   "source": [
    "molecule = \"alanine\"\n",
    "state_list = [\"C7eq\", \"C5\", \"C7ax\", \"Beta 2\", \"Alpha R\", \"Alpha L\", \"Beta\", \"Alpha '\", \"Alpha D\"]\n",
    "psi_list = [73, 150, -58, 25, -23, 30, 134, -48, -155]\n",
    "phi_list = [-83, -150, 74, -123, -75, 67, -58, -170, 62]\n",
    "colors = [\"#C40C0C\", \"#FF6500\", \"#FF8A08\", \"#FF0080\", \"#46244C\", \"#AD49E1\", \"#7A1CAC\", \"#433D8B\", \"#15F5BA\"  ]\n",
    "\n",
    "# for _ in range(len(state_list)):\n",
    "#     colors.append(\"#\" + ''.join([random.choice('0123456789ABCDEF') for j in range(6)]))\n",
    "\n",
    "# for state in state_list:\n",
    "#     state_file = f\"{data_dir}/{molecule}/{state}.pdb\"\n",
    "#     state_traj = mdtraj.load(state_file)\n",
    "#     psi = mdtraj.compute_psi(state_traj)[1].ravel()[0]\n",
    "#     phi = mdtraj.compute_phi(state_traj)[1].ravel()[0]\n",
    "#     psi_list.append(psi * 180 / np.pi)\n",
    "#     phi_list.append(phi * 180 / np.pi)"
   ]
  },
  {
   "cell_type": "code",
   "execution_count": null,
   "metadata": {},
   "outputs": [],
   "source": [
    "def plot_ram_with_states(traj, phi_list, psi_list):\n",
    "    fig = plt.figure()\n",
    "    fig, ax1 = plt.subplots(figsize=(6,6))\n",
    "    num_points = len(state_list)\n",
    "\n",
    "    from matplotlib.gridspec import GridSpec\n",
    "\n",
    "    phis = mdtraj.compute_phi(traj)[1].ravel()\n",
    "    psis = mdtraj.compute_psi(traj)[1].ravel()\n",
    "    \n",
    "    # Ramachandran plot\n",
    "    ax1.hist2d(phis * 180 / np.pi, psis * 180 / np.pi, 100, norm=LogNorm())\n",
    "    ax1.set_xlim(-180, 180)\n",
    "    ax1.set_ylim(-180, 180)\n",
    "    ax1.set_xticks(np.linspace(-180, 180, 5))\n",
    "    ax1.set_yticks(np.linspace(-180, 180, 5))\n",
    "    ax1.set_xlabel(\"Phi [deg]\")\n",
    "    ax1.set_ylabel(\"Psi [deg]\")\n",
    "    \n",
    "    for idx in range(num_points):\n",
    "        ax1.scatter(phi_list[idx], psi_list[idx], s=200, color=colors[idx], label=state_list[idx], zorder=1)\n",
    "    \n",
    "    ax1.set_xlim(-180, 180)\n",
    "    ax1.set_ylim(-180, 180)\n",
    "    ax1.set_xticks(np.linspace(-180, 180, 5))\n",
    "    ax1.set_yticks(np.linspace(-180, 180, 5))\n",
    "    ax1.set_xlabel(\"Phi [deg]\")\n",
    "    ax1.set_ylabel(\"Psi [deg]\")\n",
    "\n",
    "    ax1.legend()\n",
    "    fig.tight_layout()\n",
    "\n",
    "plot_ram_with_states(traj_ad, phi_list, psi_list)"
   ]
  },
  {
   "cell_type": "code",
   "execution_count": null,
   "metadata": {},
   "outputs": [],
   "source": []
  }
 ],
 "metadata": {
  "kernelspec": {
   "display_name": "Python 3 (ipykernel)",
   "language": "python",
   "name": "python3"
  },
  "language_info": {
   "codemirror_mode": {
    "name": "ipython",
    "version": 3
   },
   "file_extension": ".py",
   "mimetype": "text/x-python",
   "name": "python",
   "nbconvert_exporter": "python",
   "pygments_lexer": "ipython3",
   "version": "3.9.19"
  },
  "latex_envs": {
   "LaTeX_envs_menu_present": true,
   "autoclose": true,
   "autocomplete": true,
   "bibliofile": "biblio.bib",
   "cite_by": "apalike",
   "current_citInitial": 1,
   "eqLabelWithNumbers": true,
   "eqNumInitial": 1,
   "hotkeys": {
    "equation": "Ctrl-E",
    "itemize": "Ctrl-I"
   },
   "labels_anchors": false,
   "latex_user_defs": false,
   "report_style_numbering": false,
   "user_envs_cfg": false
  }
 },
 "nbformat": 4,
 "nbformat_minor": 4
}
