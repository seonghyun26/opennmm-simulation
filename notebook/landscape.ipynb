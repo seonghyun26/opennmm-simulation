{
 "cells": [
  {
   "cell_type": "markdown",
   "metadata": {},
   "source": [
    "# Energy landscape of molecule"
   ]
  },
  {
   "cell_type": "markdown",
   "metadata": {},
   "source": [
    "## Configurations"
   ]
  },
  {
   "cell_type": "code",
   "execution_count": 8,
   "metadata": {},
   "outputs": [],
   "source": [
    "from sys import stdout\n",
    "\n",
    "import torch\n",
    "import random\n",
    "import mdtraj\n",
    "import pandas\n",
    "import datetime\n",
    "\n",
    "import numpy as np\n",
    "import pandas as pd\n",
    "import matplotlib.pyplot as plt\n",
    "\n",
    "from rdkit import Chem\n",
    "from rdkit.Chem import AllChem, rdMolTransforms\n",
    "from rdkit.Chem import Draw\n",
    "\n",
    "from openmm import *\n",
    "from openmm import *\n",
    "from openmm.app import *\n",
    "from openmm.unit import *\n",
    "\n",
    "from tqdm.auto import tqdm\n",
    "from matplotlib import animation \n",
    "from matplotlib.colors import LogNorm\n",
    "from mpl_toolkits.mplot3d import Axes3D"
   ]
  },
  {
   "cell_type": "code",
   "execution_count": null,
   "metadata": {},
   "outputs": [],
   "source": [
    "# Import when using Juperter Notebook on browser, not vscode\n",
    "# import nglview"
   ]
  },
  {
   "cell_type": "markdown",
   "metadata": {},
   "source": [
    "# Potential energy"
   ]
  },
  {
   "cell_type": "code",
   "execution_count": 2,
   "metadata": {},
   "outputs": [],
   "source": [
    "# Load molecule file\n",
    "\n",
    "state = \"c5\"\n",
    "file_path = f\"../data/alanine/{state}.pdb\"\n",
    "molecule = Chem.MolFromPDBFile(file_path, removeHs=False)\n",
    "\n",
    "idx1, idx2, idx3, idx4 = 6, 8, 14, 16\n",
    "idx5, idx6, idx7, idx8 = 4, 6, 8, 14\n",
    "\n",
    "def set_dihedral(mol, idx1, idx2, idx3, idx4, angle):\n",
    "    conf = mol.GetConformer()\n",
    "    rdMolTransforms.SetDihedralDeg(conf, idx1, idx2, idx3, idx4, angle)"
   ]
  },
  {
   "cell_type": "code",
   "execution_count": 3,
   "metadata": {},
   "outputs": [],
   "source": [
    "def compute_energy(file_path):\n",
    "\tpdb = PDBFile(file_path)\n",
    "\tforce_field = ForceField(\"amber99sbildn.xml\", \"tip3p.xml\")\n",
    "\tplatform = Platform.getPlatformByName(\"OpenCL\")\n",
    "\tproperties = {'Precision': \"mixed\"}\n",
    "\tsystem = force_field.createSystem(\n",
    "\t\tpdb.topology,\n",
    "\t\tnonbondedCutoff=3 * nanometer,\n",
    "\t\tconstraints=HBonds\n",
    "\t)\n",
    "\tintegrator = LangevinIntegrator(\n",
    "\t\t300 * kelvin,\n",
    "\t\t1 / picosecond,\n",
    "\t\t1 * femtoseconds\n",
    "\t)\n",
    "\n",
    "\tsimulation = Simulation(\n",
    "\t\tpdb.topology,\n",
    "\t\tsystem,\n",
    "\t\tintegrator,\n",
    "\t\tplatform,\n",
    "\t\tproperties\n",
    "\t)\n",
    "\tsimulation.context.setPositions(pdb.positions)\n",
    "\tsimulation.minimizeEnergy()\n",
    "\tsimulation.reporters = [\n",
    "\t\tStateDataReporter(\n",
    "\t\t\tstdout,\n",
    "\t\t\treportInterval=1,\n",
    "\t\t\tstep=True,\n",
    "\t\t\ttime=True,\n",
    "\t\t\tpotentialEnergy=True,\n",
    "\t\t\ttemperature=True,\n",
    "\t\t\tprogress=True,\n",
    "\t\t\telapsedTime=True,\n",
    "\t\t\ttotalSteps=1\n",
    "\t)]\n",
    "\n",
    "\tenergy = simulation.context.getState(getEnergy=True).getPotentialEnergy()\n",
    "\treturn energy._value"
   ]
  },
  {
   "cell_type": "code",
   "execution_count": 32,
   "metadata": {},
   "outputs": [
    {
     "data": {
      "application/vnd.jupyter.widget-view+json": {
       "model_id": "d130246b44cf415586f78890410b3e3a",
       "version_major": 2,
       "version_minor": 0
      },
      "text/plain": [
       "  0%|          | 0/4 [00:00<?, ?it/s]"
      ]
     },
     "metadata": {},
     "output_type": "display_data"
    },
    {
     "data": {
      "application/vnd.jupyter.widget-view+json": {
       "model_id": "93998246b4ae4dbdaabd92a2dc9274e8",
       "version_major": 2,
       "version_minor": 0
      },
      "text/plain": [
       "  0%|          | 0/4 [00:00<?, ?it/s]"
      ]
     },
     "metadata": {},
     "output_type": "display_data"
    },
    {
     "data": {
      "application/vnd.jupyter.widget-view+json": {
       "model_id": "4127ccaefdca4908ab5061d4f30ae9d4",
       "version_major": 2,
       "version_minor": 0
      },
      "text/plain": [
       "  0%|          | 0/4 [00:00<?, ?it/s]"
      ]
     },
     "metadata": {},
     "output_type": "display_data"
    },
    {
     "data": {
      "application/vnd.jupyter.widget-view+json": {
       "model_id": "82e42e46a5d8416a9de67dfc946e91e9",
       "version_major": 2,
       "version_minor": 0
      },
      "text/plain": [
       "  0%|          | 0/4 [00:00<?, ?it/s]"
      ]
     },
     "metadata": {},
     "output_type": "display_data"
    },
    {
     "data": {
      "application/vnd.jupyter.widget-view+json": {
       "model_id": "af74b8ec68a741abbece1b7c2a5e83ee",
       "version_major": 2,
       "version_minor": 0
      },
      "text/plain": [
       "  0%|          | 0/4 [00:00<?, ?it/s]"
      ]
     },
     "metadata": {},
     "output_type": "display_data"
    }
   ],
   "source": [
    "# Compute energy for each psi and phi angles\n",
    "potential_energy_list = []\n",
    "\n",
    "for psi in tqdm(range(-180, 180, 90), desc=\"psi\"):\n",
    "\tfor phi in tqdm(range(-180, 180, 90), leave=False, desc=\"phi\"):\n",
    "\t\t# print(f\"Computing energy for psi={psi} and phi={phi}\")\n",
    "\t\tset_dihedral(molecule, idx1, idx2, idx3, idx4, psi)\n",
    "\t\tset_dihedral(molecule, idx5, idx6, idx7, idx8, phi)\n",
    "\n",
    "\t\tnew_file_name = f\"../data/potential/psi{psi}-phi{phi}.pdb\"\n",
    "\t\tif not os.path.exists(new_file_name):\n",
    "\t\t\tChem.MolToPDBFile(molecule, new_file_name)\n",
    "\t\t\t# print(f\"File {new_file_name} created\")\n",
    "\t\telse:\n",
    "\t\t\tprint(f\"File {new_file_name} already exists\")\n",
    "\t\tpotential_energy_list.append([psi, phi, compute_energy(new_file_name)])"
   ]
  },
  {
   "cell_type": "code",
   "execution_count": 29,
   "metadata": {},
   "outputs": [],
   "source": [
    "pd.DataFrame(potential_energy_list).to_csv(\n",
    "    f\"../data/ad-pot-ex.dat\",\n",
    "    index=False,\n",
    "    header=[\"Psi\", \"Phi\", \"Energy\"]\n",
    ")"
   ]
  },
  {
   "cell_type": "code",
   "execution_count": 6,
   "metadata": {},
   "outputs": [],
   "source": [
    "file_path = \"../data/ad-pot.dat\"\n",
    "\t\n",
    "with open(file_path) as f:\n",
    "\tlines = f.readlines()"
   ]
  },
  {
   "cell_type": "code",
   "execution_count": 17,
   "metadata": {},
   "outputs": [],
   "source": [
    "dims = [90, 90]\n",
    "locations = torch.zeros((int(dims[0]), int(dims[1]), 2))\n",
    "data = torch.zeros((int(dims[0]), int(dims[1])))\n",
    "\n",
    "i = 0\n",
    "for line in lines[1:]:\n",
    "\tsplits = line[0:-1].split(\",\")\n",
    "\tx = float(splits[0])\n",
    "\ty = float(splits[1])\n",
    "\tval = float(splits[-1])\n",
    "\n",
    "\tlocations[i // 90, i % 90, :] = torch.tensor(np.array([x, y]))\n",
    "\tdata[i // 90, i % 90] = (val)  # / 503.)\n",
    "\ti = i + 1"
   ]
  },
  {
   "cell_type": "code",
   "execution_count": 19,
   "metadata": {},
   "outputs": [
    {
     "name": "stdout",
     "output_type": "stream",
     "text": [
      "torch.Size([90, 90])\n"
     ]
    },
    {
     "data": {
      "image/png": "[encoded data removed]",
      "text/plain": [
       "<Figure size 640x480 with 2 Axes>"
      ]
     },
     "metadata": {},
     "output_type": "display_data"
    }
   ],
   "source": [
    "print(data.shape)\n",
    "data_np = data.numpy()\n",
    "\n",
    "plt.imshow(data_np, cmap='viridis', origin='lower')\n",
    "plt.colorbar(label='Value')  # Add a color bar to indicate value scale\n",
    "plt.xlabel('X axis')\n",
    "plt.ylabel('Y axis')\n",
    "plt.title('Heatmap of Grid Values')\n",
    "plt.show()"
   ]
  },
  {
   "cell_type": "code",
   "execution_count": null,
   "metadata": {},
   "outputs": [],
   "source": []
  }
 ],
 "metadata": {
  "kernelspec": {
   "display_name": "sim",
   "language": "python",
   "name": "python3"
  },
  "language_info": {
   "codemirror_mode": {
    "name": "ipython",
    "version": 3
   },
   "file_extension": ".py",
   "mimetype": "text/x-python",
   "name": "python",
   "nbconvert_exporter": "python",
   "pygments_lexer": "ipython3",
   "version": "3.9.19"
  }
 },
 "nbformat": 4,
 "nbformat_minor": 2
}
